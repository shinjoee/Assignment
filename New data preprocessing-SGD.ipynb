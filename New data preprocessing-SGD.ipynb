{
 "cells": [
  {
   "cell_type": "code",
   "execution_count": 1,
   "id": "3a060228",
   "metadata": {},
   "outputs": [],
   "source": [
    "import pandas as pd \n",
    "import numpy as np\n",
    "import matplotlib.pyplot as plt\n",
    "import seaborn as sns\n",
    "from sklearn.preprocessing import LabelEncoder\n",
    "from sklearn.preprocessing import LabelBinarizer\n",
    "#Problems with accuracy\n",
    "from sklearn.metrics import accuracy_score"
   ]
  },
  {
   "cell_type": "code",
   "execution_count": 2,
   "id": "c300b3d3",
   "metadata": {},
   "outputs": [],
   "source": [
    "# Missing value treatment[Unused]\n",
    "def deal_missing_value(df):\n",
    "    # check on missing value\n",
    "    print(pd.isna(df).sum())\n",
    "    \n",
    "    #drop the rows with missing value x8 \n",
    "    #categorical data only\n",
    "    df.dropna(axis=0, inplace=True)\n",
    "    \n",
    "    return df\n",
    "\n",
    "# detecting the outliers using boxplot\n",
    "def deal_outliers(df, col):\n",
    "    Q1, Q3 = np.percentile(df[col] , [25, 75])\n",
    "    IQR = Q3 - Q1\n",
    "    ul = Q3 + 1.5 * IQR\n",
    "    ll = Q1 - 1.5 * IQR\n",
    "\n",
    "    outliers = df[(df[col] > ul) | (df[col] < ll)]\n",
    "    print(len(outliers))\n",
    "    \n",
    "    df.loc[:, col] = np.where(df.loc[:, col] > ul, ul, np.where(df.loc[:, col] < ll, ll, df.loc[:, col]))\n",
    "    \n",
    "    return df\n",
    "\n",
    "# plot boxplot\n",
    "def plot_boxplot(df, col, desc):\n",
    "    sns.boxplot(x = col, data = df).set(title = 'Boxplot of ' + col + \" \" + desc)\n",
    "    plt.show()\n",
    "    \n",
    "def obtain_unique_value(df, col):\n",
    "    return dict(enumerate(df[col].unique()))\n",
    "\n",
    "def peek_results(actual, predicted, num = 20):\n",
    "    print('actual |  Predicted')\n",
    "    print('------------------')\n",
    "    for i in range(num):\n",
    "        sel = np.random.randint(0, len(y_train))\n",
    "        print(actual[sel], ' |', predicted[sel])\n",
    "        \n",
    "def peek_scores(actual, scores, num = 20):\n",
    "    print('actual |  score')\n",
    "    print('------------------')\n",
    "    for i in range(num):\n",
    "        sel = np.random.randint(0, len(y_train))\n",
    "        print(actual[sel], ' |', scores[sel])\n",
    "\n",
    "\n",
    "def plot_precision_vs_recall(precisions, recalls):\n",
    "    plt.plot(recalls, precisions, \"b-\", linewidth=3)\n",
    "    plt.plot(np.linspace(0, 1, 20), np.linspace(1, 0, 20), 'k--')\n",
    "    plt.xlabel(\"Recall\", fontsize=16)\n",
    "    plt.ylabel(\"Precision\", fontsize=16)\n",
    "    plt.axis([0, 1, 0, 1])\n",
    "        \n",
    "def plot_roc_curve (fpr, tpr, style = 'b-', label = None):\n",
    "    plt.plot(fpr, tpr, style, linewidth = 3, label = label)\n",
    "    plt.plot([0,1], [0, 1], 'k--')\n",
    "    plt.axis([0, 1, 0, 1])\n",
    "    plt.xlabel ('False Positive Rate')\n",
    "    plt.ylabel ('True Positive Rate')\n",
    "    plt.title('TPR vs FPR', fontsize=20)"
   ]
  },
  {
   "cell_type": "code",
   "execution_count": 3,
   "id": "b701762a",
   "metadata": {},
   "outputs": [],
   "source": [
    "# Read csv data file\n",
    "df = pd.read_csv('dataset.csv')"
   ]
  },
  {
   "cell_type": "code",
   "execution_count": 4,
   "id": "6bf5136a",
   "metadata": {},
   "outputs": [
    {
     "data": {
      "text/html": [
       "<div>\n",
       "<style scoped>\n",
       "    .dataframe tbody tr th:only-of-type {\n",
       "        vertical-align: middle;\n",
       "    }\n",
       "\n",
       "    .dataframe tbody tr th {\n",
       "        vertical-align: top;\n",
       "    }\n",
       "\n",
       "    .dataframe thead th {\n",
       "        text-align: right;\n",
       "    }\n",
       "</style>\n",
       "<table border=\"1\" class=\"dataframe\">\n",
       "  <thead>\n",
       "    <tr style=\"text-align: right;\">\n",
       "      <th></th>\n",
       "      <th>x1</th>\n",
       "      <th>x2</th>\n",
       "      <th>x3</th>\n",
       "      <th>x4</th>\n",
       "      <th>x5</th>\n",
       "      <th>x6</th>\n",
       "      <th>x7</th>\n",
       "      <th>x8</th>\n",
       "      <th>x9</th>\n",
       "      <th>x10</th>\n",
       "      <th>x11</th>\n",
       "      <th>x12</th>\n",
       "      <th>x13</th>\n",
       "      <th>x14</th>\n",
       "      <th>x15</th>\n",
       "      <th>x16</th>\n",
       "      <th>x17</th>\n",
       "      <th>y</th>\n",
       "    </tr>\n",
       "  </thead>\n",
       "  <tbody>\n",
       "    <tr>\n",
       "      <th>0</th>\n",
       "      <td>36</td>\n",
       "      <td>blue-collar</td>\n",
       "      <td>married</td>\n",
       "      <td>middle</td>\n",
       "      <td>no</td>\n",
       "      <td>yes</td>\n",
       "      <td>may</td>\n",
       "      <td>cell</td>\n",
       "      <td>239</td>\n",
       "      <td>1</td>\n",
       "      <td>999</td>\n",
       "      <td>0</td>\n",
       "      <td>-1.8</td>\n",
       "      <td>92.893</td>\n",
       "      <td>-46.2</td>\n",
       "      <td>1.344</td>\n",
       "      <td>5099.1</td>\n",
       "      <td>False</td>\n",
       "    </tr>\n",
       "    <tr>\n",
       "      <th>1</th>\n",
       "      <td>39</td>\n",
       "      <td>blue-collar</td>\n",
       "      <td>married</td>\n",
       "      <td>middle</td>\n",
       "      <td>yes</td>\n",
       "      <td>no</td>\n",
       "      <td>nov</td>\n",
       "      <td>NaN</td>\n",
       "      <td>124</td>\n",
       "      <td>1</td>\n",
       "      <td>999</td>\n",
       "      <td>0</td>\n",
       "      <td>-0.1</td>\n",
       "      <td>93.200</td>\n",
       "      <td>-42.0</td>\n",
       "      <td>4.076</td>\n",
       "      <td>5195.8</td>\n",
       "      <td>False</td>\n",
       "    </tr>\n",
       "    <tr>\n",
       "      <th>2</th>\n",
       "      <td>31</td>\n",
       "      <td>services</td>\n",
       "      <td>single</td>\n",
       "      <td>middle</td>\n",
       "      <td>no</td>\n",
       "      <td>no</td>\n",
       "      <td>may</td>\n",
       "      <td>cell</td>\n",
       "      <td>163</td>\n",
       "      <td>1</td>\n",
       "      <td>999</td>\n",
       "      <td>0</td>\n",
       "      <td>-1.8</td>\n",
       "      <td>92.893</td>\n",
       "      <td>-46.2</td>\n",
       "      <td>1.344</td>\n",
       "      <td>5099.1</td>\n",
       "      <td>False</td>\n",
       "    </tr>\n",
       "    <tr>\n",
       "      <th>3</th>\n",
       "      <td>35</td>\n",
       "      <td>technician</td>\n",
       "      <td>married</td>\n",
       "      <td>professional</td>\n",
       "      <td>yes</td>\n",
       "      <td>no</td>\n",
       "      <td>jul</td>\n",
       "      <td>cell</td>\n",
       "      <td>157</td>\n",
       "      <td>8</td>\n",
       "      <td>999</td>\n",
       "      <td>0</td>\n",
       "      <td>1.4</td>\n",
       "      <td>93.918</td>\n",
       "      <td>-42.7</td>\n",
       "      <td>4.962</td>\n",
       "      <td>5228.1</td>\n",
       "      <td>False</td>\n",
       "    </tr>\n",
       "    <tr>\n",
       "      <th>4</th>\n",
       "      <td>38</td>\n",
       "      <td>blue-collar</td>\n",
       "      <td>married</td>\n",
       "      <td>middle</td>\n",
       "      <td>yes</td>\n",
       "      <td>no</td>\n",
       "      <td>may</td>\n",
       "      <td>phone</td>\n",
       "      <td>275</td>\n",
       "      <td>6</td>\n",
       "      <td>999</td>\n",
       "      <td>0</td>\n",
       "      <td>1.1</td>\n",
       "      <td>93.994</td>\n",
       "      <td>-36.4</td>\n",
       "      <td>4.856</td>\n",
       "      <td>5191.0</td>\n",
       "      <td>False</td>\n",
       "    </tr>\n",
       "  </tbody>\n",
       "</table>\n",
       "</div>"
      ],
      "text/plain": [
       "   x1           x2       x3            x4   x5   x6   x7     x8   x9  x10  \\\n",
       "0  36  blue-collar  married        middle   no  yes  may   cell  239    1   \n",
       "1  39  blue-collar  married        middle  yes   no  nov    NaN  124    1   \n",
       "2  31     services   single        middle   no   no  may   cell  163    1   \n",
       "3  35   technician  married  professional  yes   no  jul   cell  157    8   \n",
       "4  38  blue-collar  married        middle  yes   no  may  phone  275    6   \n",
       "\n",
       "   x11  x12  x13     x14   x15    x16     x17      y  \n",
       "0  999    0 -1.8  92.893 -46.2  1.344  5099.1  False  \n",
       "1  999    0 -0.1  93.200 -42.0  4.076  5195.8  False  \n",
       "2  999    0 -1.8  92.893 -46.2  1.344  5099.1  False  \n",
       "3  999    0  1.4  93.918 -42.7  4.962  5228.1  False  \n",
       "4  999    0  1.1  93.994 -36.4  4.856  5191.0  False  "
      ]
     },
     "execution_count": 4,
     "metadata": {},
     "output_type": "execute_result"
    }
   ],
   "source": [
    "# write code to show first 5 items of DataFrame df\n",
    "df.head(5)"
   ]
  },
  {
   "cell_type": "code",
   "execution_count": 5,
   "id": "297cb308",
   "metadata": {},
   "outputs": [
    {
     "name": "stdout",
     "output_type": "stream",
     "text": [
      "<class 'pandas.core.frame.DataFrame'>\n",
      "RangeIndex: 40000 entries, 0 to 39999\n",
      "Data columns (total 18 columns):\n",
      " #   Column  Non-Null Count  Dtype  \n",
      "---  ------  --------------  -----  \n",
      " 0   x1      40000 non-null  int64  \n",
      " 1   x2      40000 non-null  object \n",
      " 2   x3      40000 non-null  object \n",
      " 3   x4      40000 non-null  object \n",
      " 4   x5      40000 non-null  object \n",
      " 5   x6      40000 non-null  object \n",
      " 6   x7      40000 non-null  object \n",
      " 7   x8      39994 non-null  object \n",
      " 8   x9      40000 non-null  int64  \n",
      " 9   x10     40000 non-null  int64  \n",
      " 10  x11     40000 non-null  int64  \n",
      " 11  x12     40000 non-null  int64  \n",
      " 12  x13     40000 non-null  float64\n",
      " 13  x14     39992 non-null  float64\n",
      " 14  x15     40000 non-null  float64\n",
      " 15  x16     40000 non-null  float64\n",
      " 16  x17     40000 non-null  float64\n",
      " 17  y       40000 non-null  bool   \n",
      "dtypes: bool(1), float64(5), int64(5), object(7)\n",
      "memory usage: 5.2+ MB\n"
     ]
    }
   ],
   "source": [
    "# write code to show a quick description all attributes in housing\n",
    "df.info()"
   ]
  },
  {
   "cell_type": "code",
   "execution_count": 6,
   "id": "7a8f630a",
   "metadata": {},
   "outputs": [
    {
     "data": {
      "text/html": [
       "<div>\n",
       "<style scoped>\n",
       "    .dataframe tbody tr th:only-of-type {\n",
       "        vertical-align: middle;\n",
       "    }\n",
       "\n",
       "    .dataframe tbody tr th {\n",
       "        vertical-align: top;\n",
       "    }\n",
       "\n",
       "    .dataframe thead th {\n",
       "        text-align: right;\n",
       "    }\n",
       "</style>\n",
       "<table border=\"1\" class=\"dataframe\">\n",
       "  <thead>\n",
       "    <tr style=\"text-align: right;\">\n",
       "      <th></th>\n",
       "      <th>x1</th>\n",
       "      <th>x9</th>\n",
       "      <th>x10</th>\n",
       "      <th>x11</th>\n",
       "      <th>x12</th>\n",
       "      <th>x13</th>\n",
       "      <th>x14</th>\n",
       "      <th>x15</th>\n",
       "      <th>x16</th>\n",
       "      <th>x17</th>\n",
       "    </tr>\n",
       "  </thead>\n",
       "  <tbody>\n",
       "    <tr>\n",
       "      <th>count</th>\n",
       "      <td>40000.000000</td>\n",
       "      <td>40000.000000</td>\n",
       "      <td>40000.000000</td>\n",
       "      <td>40000.000000</td>\n",
       "      <td>40000.000000</td>\n",
       "      <td>40000.000000</td>\n",
       "      <td>39992.000000</td>\n",
       "      <td>40000.000000</td>\n",
       "      <td>40000.000000</td>\n",
       "      <td>40000.000000</td>\n",
       "    </tr>\n",
       "    <tr>\n",
       "      <th>mean</th>\n",
       "      <td>40.012200</td>\n",
       "      <td>258.721825</td>\n",
       "      <td>2.566375</td>\n",
       "      <td>962.110625</td>\n",
       "      <td>0.173075</td>\n",
       "      <td>0.081885</td>\n",
       "      <td>93.576081</td>\n",
       "      <td>-40.501567</td>\n",
       "      <td>3.621611</td>\n",
       "      <td>5167.021655</td>\n",
       "    </tr>\n",
       "    <tr>\n",
       "      <th>std</th>\n",
       "      <td>10.416123</td>\n",
       "      <td>260.258055</td>\n",
       "      <td>2.771441</td>\n",
       "      <td>187.806197</td>\n",
       "      <td>0.495758</td>\n",
       "      <td>1.570986</td>\n",
       "      <td>0.578954</td>\n",
       "      <td>4.627286</td>\n",
       "      <td>1.734336</td>\n",
       "      <td>72.249786</td>\n",
       "    </tr>\n",
       "    <tr>\n",
       "      <th>min</th>\n",
       "      <td>17.000000</td>\n",
       "      <td>0.000000</td>\n",
       "      <td>1.000000</td>\n",
       "      <td>0.000000</td>\n",
       "      <td>0.000000</td>\n",
       "      <td>-3.400000</td>\n",
       "      <td>92.201000</td>\n",
       "      <td>-50.800000</td>\n",
       "      <td>0.634000</td>\n",
       "      <td>4963.600000</td>\n",
       "    </tr>\n",
       "    <tr>\n",
       "      <th>25%</th>\n",
       "      <td>32.000000</td>\n",
       "      <td>102.000000</td>\n",
       "      <td>1.000000</td>\n",
       "      <td>999.000000</td>\n",
       "      <td>0.000000</td>\n",
       "      <td>-1.800000</td>\n",
       "      <td>93.075000</td>\n",
       "      <td>-42.700000</td>\n",
       "      <td>1.344000</td>\n",
       "      <td>5099.100000</td>\n",
       "    </tr>\n",
       "    <tr>\n",
       "      <th>50%</th>\n",
       "      <td>38.000000</td>\n",
       "      <td>180.000000</td>\n",
       "      <td>2.000000</td>\n",
       "      <td>999.000000</td>\n",
       "      <td>0.000000</td>\n",
       "      <td>1.100000</td>\n",
       "      <td>93.749000</td>\n",
       "      <td>-41.800000</td>\n",
       "      <td>4.857000</td>\n",
       "      <td>5191.000000</td>\n",
       "    </tr>\n",
       "    <tr>\n",
       "      <th>75%</th>\n",
       "      <td>47.000000</td>\n",
       "      <td>320.000000</td>\n",
       "      <td>3.000000</td>\n",
       "      <td>999.000000</td>\n",
       "      <td>0.000000</td>\n",
       "      <td>1.400000</td>\n",
       "      <td>93.994000</td>\n",
       "      <td>-36.400000</td>\n",
       "      <td>4.961000</td>\n",
       "      <td>5228.100000</td>\n",
       "    </tr>\n",
       "    <tr>\n",
       "      <th>max</th>\n",
       "      <td>98.000000</td>\n",
       "      <td>4918.000000</td>\n",
       "      <td>56.000000</td>\n",
       "      <td>999.000000</td>\n",
       "      <td>7.000000</td>\n",
       "      <td>1.400000</td>\n",
       "      <td>94.767000</td>\n",
       "      <td>-26.900000</td>\n",
       "      <td>5.045000</td>\n",
       "      <td>5228.100000</td>\n",
       "    </tr>\n",
       "  </tbody>\n",
       "</table>\n",
       "</div>"
      ],
      "text/plain": [
       "                 x1            x9           x10           x11           x12  \\\n",
       "count  40000.000000  40000.000000  40000.000000  40000.000000  40000.000000   \n",
       "mean      40.012200    258.721825      2.566375    962.110625      0.173075   \n",
       "std       10.416123    260.258055      2.771441    187.806197      0.495758   \n",
       "min       17.000000      0.000000      1.000000      0.000000      0.000000   \n",
       "25%       32.000000    102.000000      1.000000    999.000000      0.000000   \n",
       "50%       38.000000    180.000000      2.000000    999.000000      0.000000   \n",
       "75%       47.000000    320.000000      3.000000    999.000000      0.000000   \n",
       "max       98.000000   4918.000000     56.000000    999.000000      7.000000   \n",
       "\n",
       "                x13           x14           x15           x16           x17  \n",
       "count  40000.000000  39992.000000  40000.000000  40000.000000  40000.000000  \n",
       "mean       0.081885     93.576081    -40.501567      3.621611   5167.021655  \n",
       "std        1.570986      0.578954      4.627286      1.734336     72.249786  \n",
       "min       -3.400000     92.201000    -50.800000      0.634000   4963.600000  \n",
       "25%       -1.800000     93.075000    -42.700000      1.344000   5099.100000  \n",
       "50%        1.100000     93.749000    -41.800000      4.857000   5191.000000  \n",
       "75%        1.400000     93.994000    -36.400000      4.961000   5228.100000  \n",
       "max        1.400000     94.767000    -26.900000      5.045000   5228.100000  "
      ]
     },
     "execution_count": 6,
     "metadata": {},
     "output_type": "execute_result"
    }
   ],
   "source": [
    "#show the statistics of all numerical attributes in df\n",
    "df.describe()"
   ]
  },
  {
   "cell_type": "code",
   "execution_count": 7,
   "id": "5c78a49f",
   "metadata": {},
   "outputs": [
    {
     "data": {
      "image/png": "[encoded data removed]",
      "text/plain": [
       "<Figure size 1440x1080 with 12 Axes>"
      ]
     },
     "metadata": {
      "needs_background": "light"
     },
     "output_type": "display_data"
    }
   ],
   "source": [
    "# plot the histogram of each numerical attribute\n",
    "#20 bins= total 50 bars\n",
    "df.hist(bins=20,figsize=(20,15))\n",
    "plt.show()"
   ]
  },
  {
   "cell_type": "code",
   "execution_count": 8,
   "id": "9b6d6c8f",
   "metadata": {},
   "outputs": [
    {
     "data": {
      "image/png": "[encoded data removed]",
      "text/plain": [
       "<Figure size 432x288 with 1 Axes>"
      ]
     },
     "metadata": {
      "needs_background": "light"
     },
     "output_type": "display_data"
    },
    {
     "name": "stdout",
     "output_type": "stream",
     "text": [
      "2862\n"
     ]
    },
    {
     "name": "stderr",
     "output_type": "stream",
     "text": [
      "C:\\Users\\shinj\\AppData\\Local\\Temp\\ipykernel_29096\\3635445007.py:22: SettingWithCopyWarning: \n",
      "A value is trying to be set on a copy of a slice from a DataFrame.\n",
      "Try using .loc[row_indexer,col_indexer] = value instead\n",
      "\n",
      "See the caveats in the documentation: https://pandas.pydata.org/pandas-docs/stable/user_guide/indexing.html#returning-a-view-versus-a-copy\n",
      "  df.loc[:, col] = np.where(df.loc[:, col] > ul, ul, np.where(df.loc[:, col] < ll, ll, df.loc[:, col]))\n"
     ]
    },
    {
     "data": {
      "image/png": "[encoded data removed]",
      "text/plain": [
       "<Figure size 432x288 with 1 Axes>"
      ]
     },
     "metadata": {
      "needs_background": "light"
     },
     "output_type": "display_data"
    },
    {
     "data": {
      "image/png": "[encoded data removed]",
      "text/plain": [
       "<Figure size 432x288 with 1 Axes>"
      ]
     },
     "metadata": {
      "needs_background": "light"
     },
     "output_type": "display_data"
    },
    {
     "name": "stdout",
     "output_type": "stream",
     "text": [
      "2332\n"
     ]
    },
    {
     "name": "stderr",
     "output_type": "stream",
     "text": [
      "C:\\Users\\shinj\\AppData\\Local\\Temp\\ipykernel_29096\\3635445007.py:22: SettingWithCopyWarning: \n",
      "A value is trying to be set on a copy of a slice from a DataFrame.\n",
      "Try using .loc[row_indexer,col_indexer] = value instead\n",
      "\n",
      "See the caveats in the documentation: https://pandas.pydata.org/pandas-docs/stable/user_guide/indexing.html#returning-a-view-versus-a-copy\n",
      "  df.loc[:, col] = np.where(df.loc[:, col] > ul, ul, np.where(df.loc[:, col] < ll, ll, df.loc[:, col]))\n"
     ]
    },
    {
     "data": {
      "image/png": "[encoded data removed]",
      "text/plain": [
       "<Figure size 432x288 with 1 Axes>"
      ]
     },
     "metadata": {
      "needs_background": "light"
     },
     "output_type": "display_data"
    },
    {
     "data": {
      "image/png": "[encoded data removed]",
      "text/plain": [
       "<Figure size 432x288 with 1 Axes>"
      ]
     },
     "metadata": {
      "needs_background": "light"
     },
     "output_type": "display_data"
    },
    {
     "name": "stdout",
     "output_type": "stream",
     "text": [
      "0\n"
     ]
    },
    {
     "name": "stderr",
     "output_type": "stream",
     "text": [
      "C:\\Users\\shinj\\AppData\\Local\\Temp\\ipykernel_29096\\3635445007.py:22: SettingWithCopyWarning: \n",
      "A value is trying to be set on a copy of a slice from a DataFrame.\n",
      "Try using .loc[row_indexer,col_indexer] = value instead\n",
      "\n",
      "See the caveats in the documentation: https://pandas.pydata.org/pandas-docs/stable/user_guide/indexing.html#returning-a-view-versus-a-copy\n",
      "  df.loc[:, col] = np.where(df.loc[:, col] > ul, ul, np.where(df.loc[:, col] < ll, ll, df.loc[:, col]))\n"
     ]
    },
    {
     "data": {
      "image/png": "[encoded data removed]",
      "text/plain": [
       "<Figure size 432x288 with 1 Axes>"
      ]
     },
     "metadata": {
      "needs_background": "light"
     },
     "output_type": "display_data"
    },
    {
     "data": {
      "image/png": "[encoded data removed]",
      "text/plain": [
       "<Figure size 432x288 with 1 Axes>"
      ]
     },
     "metadata": {
      "needs_background": "light"
     },
     "output_type": "display_data"
    },
    {
     "name": "stdout",
     "output_type": "stream",
     "text": [
      "0\n"
     ]
    },
    {
     "name": "stderr",
     "output_type": "stream",
     "text": [
      "C:\\Users\\shinj\\AppData\\Local\\Temp\\ipykernel_29096\\3635445007.py:22: SettingWithCopyWarning: \n",
      "A value is trying to be set on a copy of a slice from a DataFrame.\n",
      "Try using .loc[row_indexer,col_indexer] = value instead\n",
      "\n",
      "See the caveats in the documentation: https://pandas.pydata.org/pandas-docs/stable/user_guide/indexing.html#returning-a-view-versus-a-copy\n",
      "  df.loc[:, col] = np.where(df.loc[:, col] > ul, ul, np.where(df.loc[:, col] < ll, ll, df.loc[:, col]))\n"
     ]
    },
    {
     "data": {
      "image/png": "[encoded data removed]",
      "text/plain": [
       "<Figure size 432x288 with 1 Axes>"
      ]
     },
     "metadata": {
      "needs_background": "light"
     },
     "output_type": "display_data"
    },
    {
     "data": {
      "image/png": "[encoded data removed]",
      "text/plain": [
       "<Figure size 432x288 with 1 Axes>"
      ]
     },
     "metadata": {
      "needs_background": "light"
     },
     "output_type": "display_data"
    },
    {
     "name": "stdout",
     "output_type": "stream",
     "text": [
      "433\n"
     ]
    },
    {
     "name": "stderr",
     "output_type": "stream",
     "text": [
      "C:\\Users\\shinj\\AppData\\Local\\Temp\\ipykernel_29096\\3635445007.py:22: SettingWithCopyWarning: \n",
      "A value is trying to be set on a copy of a slice from a DataFrame.\n",
      "Try using .loc[row_indexer,col_indexer] = value instead\n",
      "\n",
      "See the caveats in the documentation: https://pandas.pydata.org/pandas-docs/stable/user_guide/indexing.html#returning-a-view-versus-a-copy\n",
      "  df.loc[:, col] = np.where(df.loc[:, col] > ul, ul, np.where(df.loc[:, col] < ll, ll, df.loc[:, col]))\n"
     ]
    },
    {
     "data": {
      "image/png": "[encoded data removed]",
      "text/plain": [
       "<Figure size 432x288 with 1 Axes>"
      ]
     },
     "metadata": {
      "needs_background": "light"
     },
     "output_type": "display_data"
    },
    {
     "data": {
      "image/png": "[encoded data removed]",
      "text/plain": [
       "<Figure size 432x288 with 1 Axes>"
      ]
     },
     "metadata": {
      "needs_background": "light"
     },
     "output_type": "display_data"
    },
    {
     "name": "stdout",
     "output_type": "stream",
     "text": [
      "0\n"
     ]
    },
    {
     "name": "stderr",
     "output_type": "stream",
     "text": [
      "C:\\Users\\shinj\\AppData\\Local\\Temp\\ipykernel_29096\\3635445007.py:22: SettingWithCopyWarning: \n",
      "A value is trying to be set on a copy of a slice from a DataFrame.\n",
      "Try using .loc[row_indexer,col_indexer] = value instead\n",
      "\n",
      "See the caveats in the documentation: https://pandas.pydata.org/pandas-docs/stable/user_guide/indexing.html#returning-a-view-versus-a-copy\n",
      "  df.loc[:, col] = np.where(df.loc[:, col] > ul, ul, np.where(df.loc[:, col] < ll, ll, df.loc[:, col]))\n"
     ]
    },
    {
     "data": {
      "image/png": "[encoded data removed]",
      "text/plain": [
       "<Figure size 432x288 with 1 Axes>"
      ]
     },
     "metadata": {
      "needs_background": "light"
     },
     "output_type": "display_data"
    },
    {
     "data": {
      "image/png": "[encoded data removed]",
      "text/plain": [
       "<Figure size 432x288 with 1 Axes>"
      ]
     },
     "metadata": {
      "needs_background": "light"
     },
     "output_type": "display_data"
    },
    {
     "name": "stderr",
     "output_type": "stream",
     "text": [
      "C:\\Users\\shinj\\AppData\\Local\\Temp\\ipykernel_29096\\3635445007.py:22: SettingWithCopyWarning: \n",
      "A value is trying to be set on a copy of a slice from a DataFrame.\n",
      "Try using .loc[row_indexer,col_indexer] = value instead\n",
      "\n",
      "See the caveats in the documentation: https://pandas.pydata.org/pandas-docs/stable/user_guide/indexing.html#returning-a-view-versus-a-copy\n",
      "  df.loc[:, col] = np.where(df.loc[:, col] > ul, ul, np.where(df.loc[:, col] < ll, ll, df.loc[:, col]))\n"
     ]
    },
    {
     "name": "stdout",
     "output_type": "stream",
     "text": [
      "0\n"
     ]
    },
    {
     "data": {
      "image/png": "[encoded data removed]",
      "text/plain": [
       "<Figure size 432x288 with 1 Axes>"
      ]
     },
     "metadata": {
      "needs_background": "light"
     },
     "output_type": "display_data"
    }
   ],
   "source": [
    "#plot boxplot to check outliers and whether the data is skewed or not\n",
    "#check for outliers\n",
    "#delete outliers\n",
    "temp_df = df[['x9', 'x10', 'x13', 'x14','x15', 'x16', 'x17']]\n",
    "\n",
    "# loop all the numeric features\n",
    "for feature in temp_df:\n",
    "    plot_boxplot(temp_df, feature, \"before deal with outliers\")\n",
    "    temp_df = deal_outliers(temp_df, feature)\n",
    "    plot_boxplot(temp_df, feature, \"after deal with outliers\")"
   ]
  },
  {
   "cell_type": "code",
   "execution_count": 9,
   "id": "38816e63",
   "metadata": {},
   "outputs": [
    {
     "data": {
      "text/html": [
       "<div>\n",
       "<style scoped>\n",
       "    .dataframe tbody tr th:only-of-type {\n",
       "        vertical-align: middle;\n",
       "    }\n",
       "\n",
       "    .dataframe tbody tr th {\n",
       "        vertical-align: top;\n",
       "    }\n",
       "\n",
       "    .dataframe thead th {\n",
       "        text-align: right;\n",
       "    }\n",
       "</style>\n",
       "<table border=\"1\" class=\"dataframe\">\n",
       "  <thead>\n",
       "    <tr style=\"text-align: right;\">\n",
       "      <th></th>\n",
       "      <th>x1</th>\n",
       "      <th>x9</th>\n",
       "      <th>x10</th>\n",
       "      <th>x11</th>\n",
       "      <th>x12</th>\n",
       "      <th>x13</th>\n",
       "      <th>x14</th>\n",
       "      <th>x15</th>\n",
       "      <th>x16</th>\n",
       "      <th>x17</th>\n",
       "      <th>y</th>\n",
       "    </tr>\n",
       "  </thead>\n",
       "  <tbody>\n",
       "    <tr>\n",
       "      <th>x1</th>\n",
       "      <td>1.000000</td>\n",
       "      <td>-0.000925</td>\n",
       "      <td>0.005496</td>\n",
       "      <td>-0.035615</td>\n",
       "      <td>0.024587</td>\n",
       "      <td>-0.000773</td>\n",
       "      <td>0.000380</td>\n",
       "      <td>0.128557</td>\n",
       "      <td>0.010629</td>\n",
       "      <td>-0.017344</td>\n",
       "      <td>0.031999</td>\n",
       "    </tr>\n",
       "    <tr>\n",
       "      <th>x9</th>\n",
       "      <td>-0.000925</td>\n",
       "      <td>1.000000</td>\n",
       "      <td>-0.072296</td>\n",
       "      <td>-0.047273</td>\n",
       "      <td>0.021044</td>\n",
       "      <td>-0.027163</td>\n",
       "      <td>0.005686</td>\n",
       "      <td>-0.008273</td>\n",
       "      <td>-0.032193</td>\n",
       "      <td>-0.043996</td>\n",
       "      <td>0.404339</td>\n",
       "    </tr>\n",
       "    <tr>\n",
       "      <th>x10</th>\n",
       "      <td>0.005496</td>\n",
       "      <td>-0.072296</td>\n",
       "      <td>1.000000</td>\n",
       "      <td>0.052989</td>\n",
       "      <td>-0.079899</td>\n",
       "      <td>0.150872</td>\n",
       "      <td>0.127956</td>\n",
       "      <td>-0.014130</td>\n",
       "      <td>0.135363</td>\n",
       "      <td>0.144438</td>\n",
       "      <td>-0.066920</td>\n",
       "    </tr>\n",
       "    <tr>\n",
       "      <th>x11</th>\n",
       "      <td>-0.035615</td>\n",
       "      <td>-0.047273</td>\n",
       "      <td>0.052989</td>\n",
       "      <td>1.000000</td>\n",
       "      <td>-0.589795</td>\n",
       "      <td>0.273055</td>\n",
       "      <td>0.080035</td>\n",
       "      <td>-0.092833</td>\n",
       "      <td>0.298944</td>\n",
       "      <td>0.374779</td>\n",
       "      <td>-0.327329</td>\n",
       "    </tr>\n",
       "    <tr>\n",
       "      <th>x12</th>\n",
       "      <td>0.024587</td>\n",
       "      <td>0.021044</td>\n",
       "      <td>-0.079899</td>\n",
       "      <td>-0.589795</td>\n",
       "      <td>1.000000</td>\n",
       "      <td>-0.420568</td>\n",
       "      <td>-0.202889</td>\n",
       "      <td>-0.048873</td>\n",
       "      <td>-0.454651</td>\n",
       "      <td>-0.501943</td>\n",
       "      <td>0.232859</td>\n",
       "    </tr>\n",
       "    <tr>\n",
       "      <th>x13</th>\n",
       "      <td>-0.000773</td>\n",
       "      <td>-0.027163</td>\n",
       "      <td>0.150872</td>\n",
       "      <td>0.273055</td>\n",
       "      <td>-0.420568</td>\n",
       "      <td>1.000000</td>\n",
       "      <td>0.775651</td>\n",
       "      <td>0.195617</td>\n",
       "      <td>0.972217</td>\n",
       "      <td>0.906907</td>\n",
       "      <td>-0.299165</td>\n",
       "    </tr>\n",
       "    <tr>\n",
       "      <th>x14</th>\n",
       "      <td>0.000380</td>\n",
       "      <td>0.005686</td>\n",
       "      <td>0.127956</td>\n",
       "      <td>0.080035</td>\n",
       "      <td>-0.202889</td>\n",
       "      <td>0.775651</td>\n",
       "      <td>1.000000</td>\n",
       "      <td>0.059424</td>\n",
       "      <td>0.688541</td>\n",
       "      <td>0.522326</td>\n",
       "      <td>-0.136666</td>\n",
       "    </tr>\n",
       "    <tr>\n",
       "      <th>x15</th>\n",
       "      <td>0.128557</td>\n",
       "      <td>-0.008273</td>\n",
       "      <td>-0.014130</td>\n",
       "      <td>-0.092833</td>\n",
       "      <td>-0.048873</td>\n",
       "      <td>0.195617</td>\n",
       "      <td>0.059424</td>\n",
       "      <td>1.000000</td>\n",
       "      <td>0.277303</td>\n",
       "      <td>0.099884</td>\n",
       "      <td>0.054047</td>\n",
       "    </tr>\n",
       "    <tr>\n",
       "      <th>x16</th>\n",
       "      <td>0.010629</td>\n",
       "      <td>-0.032193</td>\n",
       "      <td>0.135363</td>\n",
       "      <td>0.298944</td>\n",
       "      <td>-0.454651</td>\n",
       "      <td>0.972217</td>\n",
       "      <td>0.688541</td>\n",
       "      <td>0.277303</td>\n",
       "      <td>1.000000</td>\n",
       "      <td>0.945121</td>\n",
       "      <td>-0.309039</td>\n",
       "    </tr>\n",
       "    <tr>\n",
       "      <th>x17</th>\n",
       "      <td>-0.017344</td>\n",
       "      <td>-0.043996</td>\n",
       "      <td>0.144438</td>\n",
       "      <td>0.374779</td>\n",
       "      <td>-0.501943</td>\n",
       "      <td>0.906907</td>\n",
       "      <td>0.522326</td>\n",
       "      <td>0.099884</td>\n",
       "      <td>0.945121</td>\n",
       "      <td>1.000000</td>\n",
       "      <td>-0.355790</td>\n",
       "    </tr>\n",
       "    <tr>\n",
       "      <th>y</th>\n",
       "      <td>0.031999</td>\n",
       "      <td>0.404339</td>\n",
       "      <td>-0.066920</td>\n",
       "      <td>-0.327329</td>\n",
       "      <td>0.232859</td>\n",
       "      <td>-0.299165</td>\n",
       "      <td>-0.136666</td>\n",
       "      <td>0.054047</td>\n",
       "      <td>-0.309039</td>\n",
       "      <td>-0.355790</td>\n",
       "      <td>1.000000</td>\n",
       "    </tr>\n",
       "  </tbody>\n",
       "</table>\n",
       "</div>"
      ],
      "text/plain": [
       "           x1        x9       x10       x11       x12       x13       x14  \\\n",
       "x1   1.000000 -0.000925  0.005496 -0.035615  0.024587 -0.000773  0.000380   \n",
       "x9  -0.000925  1.000000 -0.072296 -0.047273  0.021044 -0.027163  0.005686   \n",
       "x10  0.005496 -0.072296  1.000000  0.052989 -0.079899  0.150872  0.127956   \n",
       "x11 -0.035615 -0.047273  0.052989  1.000000 -0.589795  0.273055  0.080035   \n",
       "x12  0.024587  0.021044 -0.079899 -0.589795  1.000000 -0.420568 -0.202889   \n",
       "x13 -0.000773 -0.027163  0.150872  0.273055 -0.420568  1.000000  0.775651   \n",
       "x14  0.000380  0.005686  0.127956  0.080035 -0.202889  0.775651  1.000000   \n",
       "x15  0.128557 -0.008273 -0.014130 -0.092833 -0.048873  0.195617  0.059424   \n",
       "x16  0.010629 -0.032193  0.135363  0.298944 -0.454651  0.972217  0.688541   \n",
       "x17 -0.017344 -0.043996  0.144438  0.374779 -0.501943  0.906907  0.522326   \n",
       "y    0.031999  0.404339 -0.066920 -0.327329  0.232859 -0.299165 -0.136666   \n",
       "\n",
       "          x15       x16       x17         y  \n",
       "x1   0.128557  0.010629 -0.017344  0.031999  \n",
       "x9  -0.008273 -0.032193 -0.043996  0.404339  \n",
       "x10 -0.014130  0.135363  0.144438 -0.066920  \n",
       "x11 -0.092833  0.298944  0.374779 -0.327329  \n",
       "x12 -0.048873 -0.454651 -0.501943  0.232859  \n",
       "x13  0.195617  0.972217  0.906907 -0.299165  \n",
       "x14  0.059424  0.688541  0.522326 -0.136666  \n",
       "x15  1.000000  0.277303  0.099884  0.054047  \n",
       "x16  0.277303  1.000000  0.945121 -0.309039  \n",
       "x17  0.099884  0.945121  1.000000 -0.355790  \n",
       "y    0.054047 -0.309039 -0.355790  1.000000  "
      ]
     },
     "execution_count": 9,
     "metadata": {},
     "output_type": "execute_result"
    }
   ],
   "source": [
    "# write code to show the correlation matrix\n",
    "corr_matrix=df.corr()\n",
    "corr_matrix"
   ]
  },
  {
   "cell_type": "code",
   "execution_count": 10,
   "id": "f7f60ead",
   "metadata": {},
   "outputs": [
    {
     "data": {
      "text/plain": [
       "<AxesSubplot:>"
      ]
     },
     "execution_count": 10,
     "metadata": {},
     "output_type": "execute_result"
    },
    {
     "data": {
      "image/png": "[encoded data removed]",
      "text/plain": [
       "<Figure size 2160x1080 with 2 Axes>"
      ]
     },
     "metadata": {},
     "output_type": "display_data"
    }
   ],
   "source": [
    "#annot=True: annotbool or rectangular dataset. If True, write the data value in each cell\n",
    "corr = df.corr()\n",
    "sns.set(rc={'figure.figsize':(30,15)})\n",
    "sns.heatmap(corr, cmap=\"PuBu\", annot=True)"
   ]
  },
  {
   "cell_type": "code",
   "execution_count": 11,
   "id": "8dc50e23",
   "metadata": {},
   "outputs": [
    {
     "data": {
      "text/plain": [
       "y      1.000000\n",
       "x9     0.404339\n",
       "x12    0.232859\n",
       "x15    0.054047\n",
       "x1     0.031999\n",
       "x10   -0.066920\n",
       "x14   -0.136666\n",
       "x13   -0.299165\n",
       "x16   -0.309039\n",
       "x11   -0.327329\n",
       "x17   -0.355790\n",
       "Name: y, dtype: float64"
      ]
     },
     "execution_count": 11,
     "metadata": {},
     "output_type": "execute_result"
    }
   ],
   "source": [
    "#numeric data comparision only\n",
    "corr_matrix['y'].sort_values(ascending=False)"
   ]
  },
  {
   "cell_type": "code",
   "execution_count": 12,
   "id": "62e2ee34",
   "metadata": {},
   "outputs": [
    {
     "data": {
      "text/plain": [
       "x1     0\n",
       "x2     0\n",
       "x3     0\n",
       "x4     0\n",
       "x5     0\n",
       "x6     0\n",
       "x7     0\n",
       "x8     6\n",
       "x9     0\n",
       "x10    0\n",
       "x11    0\n",
       "x12    0\n",
       "x13    0\n",
       "x14    8\n",
       "x15    0\n",
       "x16    0\n",
       "x17    0\n",
       "y      0\n",
       "dtype: int64"
      ]
     },
     "execution_count": 12,
     "metadata": {},
     "output_type": "execute_result"
    }
   ],
   "source": [
    "df.isnull().sum()"
   ]
  },
  {
   "cell_type": "code",
   "execution_count": 13,
   "id": "238576d0",
   "metadata": {},
   "outputs": [],
   "source": [
    "df=df.dropna(axis=0, subset=['x8'])"
   ]
  },
  {
   "cell_type": "code",
   "execution_count": 14,
   "id": "1d4c2524",
   "metadata": {},
   "outputs": [
    {
     "data": {
      "text/plain": [
       "x1     0\n",
       "x2     0\n",
       "x3     0\n",
       "x4     0\n",
       "x5     0\n",
       "x6     0\n",
       "x7     0\n",
       "x8     0\n",
       "x9     0\n",
       "x10    0\n",
       "x11    0\n",
       "x12    0\n",
       "x13    0\n",
       "x14    8\n",
       "x15    0\n",
       "x16    0\n",
       "x17    0\n",
       "y      0\n",
       "dtype: int64"
      ]
     },
     "execution_count": 14,
     "metadata": {},
     "output_type": "execute_result"
    }
   ],
   "source": [
    "df.isnull().sum()"
   ]
  },
  {
   "cell_type": "code",
   "execution_count": 15,
   "id": "cea4f97f",
   "metadata": {},
   "outputs": [],
   "source": [
    "# Making a list of missing value types\n",
    "missing_values = [\"unknown\"]\n",
    "df = pd.read_csv(\"dataset.csv\", na_values = missing_values)"
   ]
  },
  {
   "cell_type": "code",
   "execution_count": 16,
   "id": "54251859",
   "metadata": {},
   "outputs": [
    {
     "data": {
      "text/plain": [
       "x1        0\n",
       "x2      319\n",
       "x3       78\n",
       "x4     1684\n",
       "x5      962\n",
       "x6      962\n",
       "x7        0\n",
       "x8        6\n",
       "x9        0\n",
       "x10       0\n",
       "x11       0\n",
       "x12       0\n",
       "x13       0\n",
       "x14       8\n",
       "x15       0\n",
       "x16       0\n",
       "x17       0\n",
       "y         0\n",
       "dtype: int64"
      ]
     },
     "execution_count": 16,
     "metadata": {},
     "output_type": "execute_result"
    }
   ],
   "source": [
    "df.isnull().sum()"
   ]
  },
  {
   "cell_type": "code",
   "execution_count": 17,
   "id": "c0f87a14",
   "metadata": {},
   "outputs": [],
   "source": [
    "df=df.dropna(axis=0, subset=['x8', 'x2', 'x3', 'x4', 'x5', 'x6'])"
   ]
  },
  {
   "cell_type": "code",
   "execution_count": 18,
   "id": "f27dadf4",
   "metadata": {},
   "outputs": [
    {
     "data": {
      "text/plain": [
       "x1     0\n",
       "x2     0\n",
       "x3     0\n",
       "x4     0\n",
       "x5     0\n",
       "x6     0\n",
       "x7     0\n",
       "x8     0\n",
       "x9     0\n",
       "x10    0\n",
       "x11    0\n",
       "x12    0\n",
       "x13    0\n",
       "x14    6\n",
       "x15    0\n",
       "x16    0\n",
       "x17    0\n",
       "y      0\n",
       "dtype: int64"
      ]
     },
     "execution_count": 18,
     "metadata": {},
     "output_type": "execute_result"
    }
   ],
   "source": [
    "df.isnull().sum()"
   ]
  },
  {
   "cell_type": "code",
   "execution_count": 19,
   "id": "fbc76f82",
   "metadata": {},
   "outputs": [
    {
     "data": {
      "text/html": [
       "<div>\n",
       "<style scoped>\n",
       "    .dataframe tbody tr th:only-of-type {\n",
       "        vertical-align: middle;\n",
       "    }\n",
       "\n",
       "    .dataframe tbody tr th {\n",
       "        vertical-align: top;\n",
       "    }\n",
       "\n",
       "    .dataframe thead th {\n",
       "        text-align: right;\n",
       "    }\n",
       "</style>\n",
       "<table border=\"1\" class=\"dataframe\">\n",
       "  <thead>\n",
       "    <tr style=\"text-align: right;\">\n",
       "      <th></th>\n",
       "      <th>x1</th>\n",
       "      <th>x2</th>\n",
       "      <th>x3</th>\n",
       "      <th>x4</th>\n",
       "      <th>x5</th>\n",
       "      <th>x6</th>\n",
       "      <th>x7</th>\n",
       "      <th>x8</th>\n",
       "      <th>x9</th>\n",
       "      <th>x10</th>\n",
       "      <th>x11</th>\n",
       "      <th>x12</th>\n",
       "      <th>x13</th>\n",
       "      <th>x14</th>\n",
       "      <th>x15</th>\n",
       "      <th>x16</th>\n",
       "      <th>x17</th>\n",
       "    </tr>\n",
       "  </thead>\n",
       "  <tbody>\n",
       "    <tr>\n",
       "      <th>0</th>\n",
       "      <td>36</td>\n",
       "      <td>blue-collar</td>\n",
       "      <td>married</td>\n",
       "      <td>middle</td>\n",
       "      <td>no</td>\n",
       "      <td>yes</td>\n",
       "      <td>may</td>\n",
       "      <td>cell</td>\n",
       "      <td>239</td>\n",
       "      <td>1</td>\n",
       "      <td>999</td>\n",
       "      <td>0</td>\n",
       "      <td>-1.8</td>\n",
       "      <td>92.893</td>\n",
       "      <td>-46.2</td>\n",
       "      <td>1.344</td>\n",
       "      <td>5099.1</td>\n",
       "    </tr>\n",
       "    <tr>\n",
       "      <th>2</th>\n",
       "      <td>31</td>\n",
       "      <td>services</td>\n",
       "      <td>single</td>\n",
       "      <td>middle</td>\n",
       "      <td>no</td>\n",
       "      <td>no</td>\n",
       "      <td>may</td>\n",
       "      <td>cell</td>\n",
       "      <td>163</td>\n",
       "      <td>1</td>\n",
       "      <td>999</td>\n",
       "      <td>0</td>\n",
       "      <td>-1.8</td>\n",
       "      <td>92.893</td>\n",
       "      <td>-46.2</td>\n",
       "      <td>1.344</td>\n",
       "      <td>5099.1</td>\n",
       "    </tr>\n",
       "    <tr>\n",
       "      <th>3</th>\n",
       "      <td>35</td>\n",
       "      <td>technician</td>\n",
       "      <td>married</td>\n",
       "      <td>professional</td>\n",
       "      <td>yes</td>\n",
       "      <td>no</td>\n",
       "      <td>jul</td>\n",
       "      <td>cell</td>\n",
       "      <td>157</td>\n",
       "      <td>8</td>\n",
       "      <td>999</td>\n",
       "      <td>0</td>\n",
       "      <td>1.4</td>\n",
       "      <td>93.918</td>\n",
       "      <td>-42.7</td>\n",
       "      <td>4.962</td>\n",
       "      <td>5228.1</td>\n",
       "    </tr>\n",
       "    <tr>\n",
       "      <th>4</th>\n",
       "      <td>38</td>\n",
       "      <td>blue-collar</td>\n",
       "      <td>married</td>\n",
       "      <td>middle</td>\n",
       "      <td>yes</td>\n",
       "      <td>no</td>\n",
       "      <td>may</td>\n",
       "      <td>phone</td>\n",
       "      <td>275</td>\n",
       "      <td>6</td>\n",
       "      <td>999</td>\n",
       "      <td>0</td>\n",
       "      <td>1.1</td>\n",
       "      <td>93.994</td>\n",
       "      <td>-36.4</td>\n",
       "      <td>4.856</td>\n",
       "      <td>5191.0</td>\n",
       "    </tr>\n",
       "    <tr>\n",
       "      <th>5</th>\n",
       "      <td>48</td>\n",
       "      <td>services</td>\n",
       "      <td>divorced</td>\n",
       "      <td>primary</td>\n",
       "      <td>yes</td>\n",
       "      <td>no</td>\n",
       "      <td>jun</td>\n",
       "      <td>phone</td>\n",
       "      <td>122</td>\n",
       "      <td>1</td>\n",
       "      <td>999</td>\n",
       "      <td>0</td>\n",
       "      <td>1.4</td>\n",
       "      <td>94.465</td>\n",
       "      <td>-41.8</td>\n",
       "      <td>4.961</td>\n",
       "      <td>5228.1</td>\n",
       "    </tr>\n",
       "    <tr>\n",
       "      <th>...</th>\n",
       "      <td>...</td>\n",
       "      <td>...</td>\n",
       "      <td>...</td>\n",
       "      <td>...</td>\n",
       "      <td>...</td>\n",
       "      <td>...</td>\n",
       "      <td>...</td>\n",
       "      <td>...</td>\n",
       "      <td>...</td>\n",
       "      <td>...</td>\n",
       "      <td>...</td>\n",
       "      <td>...</td>\n",
       "      <td>...</td>\n",
       "      <td>...</td>\n",
       "      <td>...</td>\n",
       "      <td>...</td>\n",
       "      <td>...</td>\n",
       "    </tr>\n",
       "    <tr>\n",
       "      <th>39995</th>\n",
       "      <td>26</td>\n",
       "      <td>unemployed</td>\n",
       "      <td>married</td>\n",
       "      <td>high</td>\n",
       "      <td>yes</td>\n",
       "      <td>no</td>\n",
       "      <td>jul</td>\n",
       "      <td>cell</td>\n",
       "      <td>474</td>\n",
       "      <td>7</td>\n",
       "      <td>999</td>\n",
       "      <td>0</td>\n",
       "      <td>-1.7</td>\n",
       "      <td>94.215</td>\n",
       "      <td>-40.3</td>\n",
       "      <td>0.822</td>\n",
       "      <td>4991.6</td>\n",
       "    </tr>\n",
       "    <tr>\n",
       "      <th>39996</th>\n",
       "      <td>59</td>\n",
       "      <td>unemployed</td>\n",
       "      <td>married</td>\n",
       "      <td>professional</td>\n",
       "      <td>yes</td>\n",
       "      <td>no</td>\n",
       "      <td>aug</td>\n",
       "      <td>cell</td>\n",
       "      <td>378</td>\n",
       "      <td>2</td>\n",
       "      <td>999</td>\n",
       "      <td>1</td>\n",
       "      <td>-2.9</td>\n",
       "      <td>92.201</td>\n",
       "      <td>-31.4</td>\n",
       "      <td>0.881</td>\n",
       "      <td>5076.2</td>\n",
       "    </tr>\n",
       "    <tr>\n",
       "      <th>39997</th>\n",
       "      <td>23</td>\n",
       "      <td>self-employed</td>\n",
       "      <td>single</td>\n",
       "      <td>middle</td>\n",
       "      <td>yes</td>\n",
       "      <td>no</td>\n",
       "      <td>may</td>\n",
       "      <td>cell</td>\n",
       "      <td>64</td>\n",
       "      <td>2</td>\n",
       "      <td>999</td>\n",
       "      <td>0</td>\n",
       "      <td>-1.8</td>\n",
       "      <td>92.893</td>\n",
       "      <td>-46.2</td>\n",
       "      <td>1.266</td>\n",
       "      <td>5099.1</td>\n",
       "    </tr>\n",
       "    <tr>\n",
       "      <th>39998</th>\n",
       "      <td>33</td>\n",
       "      <td>technician</td>\n",
       "      <td>married</td>\n",
       "      <td>high</td>\n",
       "      <td>no</td>\n",
       "      <td>no</td>\n",
       "      <td>apr</td>\n",
       "      <td>cell</td>\n",
       "      <td>211</td>\n",
       "      <td>2</td>\n",
       "      <td>999</td>\n",
       "      <td>1</td>\n",
       "      <td>-1.8</td>\n",
       "      <td>93.075</td>\n",
       "      <td>-47.1</td>\n",
       "      <td>1.405</td>\n",
       "      <td>5099.1</td>\n",
       "    </tr>\n",
       "    <tr>\n",
       "      <th>39999</th>\n",
       "      <td>44</td>\n",
       "      <td>management</td>\n",
       "      <td>married</td>\n",
       "      <td>university</td>\n",
       "      <td>yes</td>\n",
       "      <td>no</td>\n",
       "      <td>nov</td>\n",
       "      <td>cell</td>\n",
       "      <td>176</td>\n",
       "      <td>1</td>\n",
       "      <td>999</td>\n",
       "      <td>0</td>\n",
       "      <td>-0.1</td>\n",
       "      <td>93.200</td>\n",
       "      <td>-42.0</td>\n",
       "      <td>4.076</td>\n",
       "      <td>5195.8</td>\n",
       "    </tr>\n",
       "  </tbody>\n",
       "</table>\n",
       "<p>37134 rows × 17 columns</p>\n",
       "</div>"
      ],
      "text/plain": [
       "       x1             x2        x3            x4   x5   x6   x7     x8   x9  \\\n",
       "0      36    blue-collar   married        middle   no  yes  may   cell  239   \n",
       "2      31       services    single        middle   no   no  may   cell  163   \n",
       "3      35     technician   married  professional  yes   no  jul   cell  157   \n",
       "4      38    blue-collar   married        middle  yes   no  may  phone  275   \n",
       "5      48       services  divorced       primary  yes   no  jun  phone  122   \n",
       "...    ..            ...       ...           ...  ...  ...  ...    ...  ...   \n",
       "39995  26     unemployed   married          high  yes   no  jul   cell  474   \n",
       "39996  59     unemployed   married  professional  yes   no  aug   cell  378   \n",
       "39997  23  self-employed    single        middle  yes   no  may   cell   64   \n",
       "39998  33     technician   married          high   no   no  apr   cell  211   \n",
       "39999  44     management   married    university  yes   no  nov   cell  176   \n",
       "\n",
       "       x10  x11  x12  x13     x14   x15    x16     x17  \n",
       "0        1  999    0 -1.8  92.893 -46.2  1.344  5099.1  \n",
       "2        1  999    0 -1.8  92.893 -46.2  1.344  5099.1  \n",
       "3        8  999    0  1.4  93.918 -42.7  4.962  5228.1  \n",
       "4        6  999    0  1.1  93.994 -36.4  4.856  5191.0  \n",
       "5        1  999    0  1.4  94.465 -41.8  4.961  5228.1  \n",
       "...    ...  ...  ...  ...     ...   ...    ...     ...  \n",
       "39995    7  999    0 -1.7  94.215 -40.3  0.822  4991.6  \n",
       "39996    2  999    1 -2.9  92.201 -31.4  0.881  5076.2  \n",
       "39997    2  999    0 -1.8  92.893 -46.2  1.266  5099.1  \n",
       "39998    2  999    1 -1.8  93.075 -47.1  1.405  5099.1  \n",
       "39999    1  999    0 -0.1  93.200 -42.0  4.076  5195.8  \n",
       "\n",
       "[37134 rows x 17 columns]"
      ]
     },
     "execution_count": 19,
     "metadata": {},
     "output_type": "execute_result"
    }
   ],
   "source": [
    "# write code to separate the output (y) from input (X)\n",
    "#y refer to classes\n",
    "x=df.drop('y', axis=1)\n",
    "y=df['y']\n",
    "x"
   ]
  },
  {
   "cell_type": "code",
   "execution_count": 20,
   "id": "05192f0a",
   "metadata": {},
   "outputs": [
    {
     "name": "stdout",
     "output_type": "stream",
     "text": [
      "Shape of x is  (37134, 17)\n",
      "Shape of y is  (37134,)\n"
     ]
    }
   ],
   "source": [
    "#check the shape and numbers of rows\n",
    "print(\"Shape of x is \", x.shape)\n",
    "print(\"Shape of y is \", y.shape)"
   ]
  },
  {
   "cell_type": "code",
   "execution_count": 21,
   "id": "93b6df81",
   "metadata": {},
   "outputs": [
    {
     "data": {
      "text/plain": [
       "admin            9651\n",
       "blue-collar      8318\n",
       "technician       6212\n",
       "services         3599\n",
       "management       2647\n",
       "retired          1524\n",
       "self-employed    1316\n",
       "entrepreneur     1315\n",
       "housemaid         954\n",
       "unemployed        935\n",
       "student           663\n",
       "Name: x2, dtype: int64"
      ]
     },
     "execution_count": 21,
     "metadata": {},
     "output_type": "execute_result"
    }
   ],
   "source": [
    "df['x2'].value_counts()"
   ]
  },
  {
   "cell_type": "code",
   "execution_count": 22,
   "id": "19aa3cb6",
   "metadata": {},
   "outputs": [
    {
     "data": {
      "text/plain": [
       "married     22476\n",
       "single      10482\n",
       "divorced     4176\n",
       "Name: x3, dtype: int64"
      ]
     },
     "execution_count": 22,
     "metadata": {},
     "output_type": "execute_result"
    }
   ],
   "source": [
    "df['x3'].value_counts()"
   ]
  },
  {
   "cell_type": "code",
   "execution_count": 23,
   "id": "df7b7cc2",
   "metadata": {},
   "outputs": [
    {
     "data": {
      "text/plain": [
       "university      11485\n",
       "high             8989\n",
       "primary          6034\n",
       "middle           5672\n",
       "professional     4937\n",
       "illiterate         17\n",
       "Name: x4, dtype: int64"
      ]
     },
     "execution_count": 23,
     "metadata": {},
     "output_type": "execute_result"
    }
   ],
   "source": [
    "df['x4'].value_counts()"
   ]
  },
  {
   "cell_type": "code",
   "execution_count": 24,
   "id": "72b1d677",
   "metadata": {},
   "outputs": [
    {
     "data": {
      "text/plain": [
       "yes    19981\n",
       "no     17153\n",
       "Name: x5, dtype: int64"
      ]
     },
     "execution_count": 24,
     "metadata": {},
     "output_type": "execute_result"
    }
   ],
   "source": [
    "df['x5'].value_counts()"
   ]
  },
  {
   "cell_type": "code",
   "execution_count": 25,
   "id": "bf955d99",
   "metadata": {},
   "outputs": [
    {
     "data": {
      "text/plain": [
       "no     31317\n",
       "yes     5817\n",
       "Name: x6, dtype: int64"
      ]
     },
     "execution_count": 25,
     "metadata": {},
     "output_type": "execute_result"
    }
   ],
   "source": [
    "df['x6'].value_counts()"
   ]
  },
  {
   "cell_type": "code",
   "execution_count": 26,
   "id": "9476f3e0",
   "metadata": {},
   "outputs": [
    {
     "data": {
      "text/plain": [
       "may    12440\n",
       "jul     6437\n",
       "aug     5631\n",
       "jun     4714\n",
       "nov     3792\n",
       "apr     2356\n",
       "oct      638\n",
       "sep      486\n",
       "mar      484\n",
       "dec      156\n",
       "Name: x7, dtype: int64"
      ]
     },
     "execution_count": 26,
     "metadata": {},
     "output_type": "execute_result"
    }
   ],
   "source": [
    "df['x7'].value_counts()"
   ]
  },
  {
   "cell_type": "code",
   "execution_count": 27,
   "id": "5f43fe4d",
   "metadata": {},
   "outputs": [
    {
     "data": {
      "text/plain": [
       "cell     23703\n",
       "phone    13431\n",
       "Name: x8, dtype: int64"
      ]
     },
     "execution_count": 27,
     "metadata": {},
     "output_type": "execute_result"
    }
   ],
   "source": [
    "df['x8'].value_counts()"
   ]
  },
  {
   "cell_type": "code",
   "execution_count": 28,
   "id": "31066e10",
   "metadata": {},
   "outputs": [
    {
     "data": {
      "text/plain": [
       "False    32992\n",
       "True      4142\n",
       "Name: y, dtype: int64"
      ]
     },
     "execution_count": 28,
     "metadata": {},
     "output_type": "execute_result"
    }
   ],
   "source": [
    "df['y'].value_counts()"
   ]
  },
  {
   "cell_type": "code",
   "execution_count": 29,
   "id": "92d9b130",
   "metadata": {},
   "outputs": [
    {
     "data": {
      "text/html": [
       "<div>\n",
       "<style scoped>\n",
       "    .dataframe tbody tr th:only-of-type {\n",
       "        vertical-align: middle;\n",
       "    }\n",
       "\n",
       "    .dataframe tbody tr th {\n",
       "        vertical-align: top;\n",
       "    }\n",
       "\n",
       "    .dataframe thead th {\n",
       "        text-align: right;\n",
       "    }\n",
       "</style>\n",
       "<table border=\"1\" class=\"dataframe\">\n",
       "  <thead>\n",
       "    <tr style=\"text-align: right;\">\n",
       "      <th></th>\n",
       "      <th>x1</th>\n",
       "      <th>x9</th>\n",
       "      <th>x10</th>\n",
       "      <th>x11</th>\n",
       "      <th>x12</th>\n",
       "      <th>x13</th>\n",
       "      <th>x14</th>\n",
       "      <th>x15</th>\n",
       "      <th>x16</th>\n",
       "      <th>x17</th>\n",
       "      <th>y</th>\n",
       "    </tr>\n",
       "  </thead>\n",
       "  <tbody>\n",
       "    <tr>\n",
       "      <th>x1</th>\n",
       "      <td>1.000000</td>\n",
       "      <td>0.002118</td>\n",
       "      <td>0.006668</td>\n",
       "      <td>-0.039664</td>\n",
       "      <td>0.028314</td>\n",
       "      <td>-0.003814</td>\n",
       "      <td>-0.001857</td>\n",
       "      <td>0.127092</td>\n",
       "      <td>0.007752</td>\n",
       "      <td>-0.020332</td>\n",
       "      <td>0.032105</td>\n",
       "    </tr>\n",
       "    <tr>\n",
       "      <th>x9</th>\n",
       "      <td>0.002118</td>\n",
       "      <td>1.000000</td>\n",
       "      <td>-0.071691</td>\n",
       "      <td>-0.044029</td>\n",
       "      <td>0.017019</td>\n",
       "      <td>-0.024707</td>\n",
       "      <td>0.007444</td>\n",
       "      <td>-0.008409</td>\n",
       "      <td>-0.028759</td>\n",
       "      <td>-0.040479</td>\n",
       "      <td>0.404326</td>\n",
       "    </tr>\n",
       "    <tr>\n",
       "      <th>x10</th>\n",
       "      <td>0.006668</td>\n",
       "      <td>-0.071691</td>\n",
       "      <td>1.000000</td>\n",
       "      <td>0.052014</td>\n",
       "      <td>-0.079431</td>\n",
       "      <td>0.150807</td>\n",
       "      <td>0.128884</td>\n",
       "      <td>-0.011131</td>\n",
       "      <td>0.134927</td>\n",
       "      <td>0.143375</td>\n",
       "      <td>-0.065730</td>\n",
       "    </tr>\n",
       "    <tr>\n",
       "      <th>x11</th>\n",
       "      <td>-0.039664</td>\n",
       "      <td>-0.044029</td>\n",
       "      <td>0.052014</td>\n",
       "      <td>1.000000</td>\n",
       "      <td>-0.583248</td>\n",
       "      <td>0.270678</td>\n",
       "      <td>0.082255</td>\n",
       "      <td>-0.092330</td>\n",
       "      <td>0.293765</td>\n",
       "      <td>0.368686</td>\n",
       "      <td>-0.321680</td>\n",
       "    </tr>\n",
       "    <tr>\n",
       "      <th>x12</th>\n",
       "      <td>0.028314</td>\n",
       "      <td>0.017019</td>\n",
       "      <td>-0.079431</td>\n",
       "      <td>-0.583248</td>\n",
       "      <td>1.000000</td>\n",
       "      <td>-0.419470</td>\n",
       "      <td>-0.208335</td>\n",
       "      <td>-0.055006</td>\n",
       "      <td>-0.450529</td>\n",
       "      <td>-0.494990</td>\n",
       "      <td>0.223623</td>\n",
       "    </tr>\n",
       "    <tr>\n",
       "      <th>x13</th>\n",
       "      <td>-0.003814</td>\n",
       "      <td>-0.024707</td>\n",
       "      <td>0.150807</td>\n",
       "      <td>0.270678</td>\n",
       "      <td>-0.419470</td>\n",
       "      <td>1.000000</td>\n",
       "      <td>0.775889</td>\n",
       "      <td>0.210939</td>\n",
       "      <td>0.972394</td>\n",
       "      <td>0.907921</td>\n",
       "      <td>-0.293299</td>\n",
       "    </tr>\n",
       "    <tr>\n",
       "      <th>x14</th>\n",
       "      <td>-0.001857</td>\n",
       "      <td>0.007444</td>\n",
       "      <td>0.128884</td>\n",
       "      <td>0.082255</td>\n",
       "      <td>-0.208335</td>\n",
       "      <td>0.775889</td>\n",
       "      <td>1.000000</td>\n",
       "      <td>0.070501</td>\n",
       "      <td>0.690091</td>\n",
       "      <td>0.524864</td>\n",
       "      <td>-0.133955</td>\n",
       "    </tr>\n",
       "    <tr>\n",
       "      <th>x15</th>\n",
       "      <td>0.127092</td>\n",
       "      <td>-0.008409</td>\n",
       "      <td>-0.011131</td>\n",
       "      <td>-0.092330</td>\n",
       "      <td>-0.055006</td>\n",
       "      <td>0.210939</td>\n",
       "      <td>0.070501</td>\n",
       "      <td>1.000000</td>\n",
       "      <td>0.291843</td>\n",
       "      <td>0.114650</td>\n",
       "      <td>0.050904</td>\n",
       "    </tr>\n",
       "    <tr>\n",
       "      <th>x16</th>\n",
       "      <td>0.007752</td>\n",
       "      <td>-0.028759</td>\n",
       "      <td>0.134927</td>\n",
       "      <td>0.293765</td>\n",
       "      <td>-0.450529</td>\n",
       "      <td>0.972394</td>\n",
       "      <td>0.690091</td>\n",
       "      <td>0.291843</td>\n",
       "      <td>1.000000</td>\n",
       "      <td>0.945326</td>\n",
       "      <td>-0.301823</td>\n",
       "    </tr>\n",
       "    <tr>\n",
       "      <th>x17</th>\n",
       "      <td>-0.020332</td>\n",
       "      <td>-0.040479</td>\n",
       "      <td>0.143375</td>\n",
       "      <td>0.368686</td>\n",
       "      <td>-0.494990</td>\n",
       "      <td>0.907921</td>\n",
       "      <td>0.524864</td>\n",
       "      <td>0.114650</td>\n",
       "      <td>0.945326</td>\n",
       "      <td>1.000000</td>\n",
       "      <td>-0.348867</td>\n",
       "    </tr>\n",
       "    <tr>\n",
       "      <th>y</th>\n",
       "      <td>0.032105</td>\n",
       "      <td>0.404326</td>\n",
       "      <td>-0.065730</td>\n",
       "      <td>-0.321680</td>\n",
       "      <td>0.223623</td>\n",
       "      <td>-0.293299</td>\n",
       "      <td>-0.133955</td>\n",
       "      <td>0.050904</td>\n",
       "      <td>-0.301823</td>\n",
       "      <td>-0.348867</td>\n",
       "      <td>1.000000</td>\n",
       "    </tr>\n",
       "  </tbody>\n",
       "</table>\n",
       "</div>"
      ],
      "text/plain": [
       "           x1        x9       x10       x11       x12       x13       x14  \\\n",
       "x1   1.000000  0.002118  0.006668 -0.039664  0.028314 -0.003814 -0.001857   \n",
       "x9   0.002118  1.000000 -0.071691 -0.044029  0.017019 -0.024707  0.007444   \n",
       "x10  0.006668 -0.071691  1.000000  0.052014 -0.079431  0.150807  0.128884   \n",
       "x11 -0.039664 -0.044029  0.052014  1.000000 -0.583248  0.270678  0.082255   \n",
       "x12  0.028314  0.017019 -0.079431 -0.583248  1.000000 -0.419470 -0.208335   \n",
       "x13 -0.003814 -0.024707  0.150807  0.270678 -0.419470  1.000000  0.775889   \n",
       "x14 -0.001857  0.007444  0.128884  0.082255 -0.208335  0.775889  1.000000   \n",
       "x15  0.127092 -0.008409 -0.011131 -0.092330 -0.055006  0.210939  0.070501   \n",
       "x16  0.007752 -0.028759  0.134927  0.293765 -0.450529  0.972394  0.690091   \n",
       "x17 -0.020332 -0.040479  0.143375  0.368686 -0.494990  0.907921  0.524864   \n",
       "y    0.032105  0.404326 -0.065730 -0.321680  0.223623 -0.293299 -0.133955   \n",
       "\n",
       "          x15       x16       x17         y  \n",
       "x1   0.127092  0.007752 -0.020332  0.032105  \n",
       "x9  -0.008409 -0.028759 -0.040479  0.404326  \n",
       "x10 -0.011131  0.134927  0.143375 -0.065730  \n",
       "x11 -0.092330  0.293765  0.368686 -0.321680  \n",
       "x12 -0.055006 -0.450529 -0.494990  0.223623  \n",
       "x13  0.210939  0.972394  0.907921 -0.293299  \n",
       "x14  0.070501  0.690091  0.524864 -0.133955  \n",
       "x15  1.000000  0.291843  0.114650  0.050904  \n",
       "x16  0.291843  1.000000  0.945326 -0.301823  \n",
       "x17  0.114650  0.945326  1.000000 -0.348867  \n",
       "y    0.050904 -0.301823 -0.348867  1.000000  "
      ]
     },
     "execution_count": 29,
     "metadata": {},
     "output_type": "execute_result"
    }
   ],
   "source": [
    "# show the correlation matrix\n",
    "corr_matrix = df.corr()\n",
    "corr_matrix"
   ]
  },
  {
   "cell_type": "code",
   "execution_count": 30,
   "id": "d39afb1d",
   "metadata": {},
   "outputs": [
    {
     "data": {
      "text/plain": [
       "<AxesSubplot:>"
      ]
     },
     "execution_count": 30,
     "metadata": {},
     "output_type": "execute_result"
    },
    {
     "data": {
      "image/png": "[encoded data removed]",
      "text/plain": [
       "<Figure size 1440x720 with 2 Axes>"
      ]
     },
     "metadata": {},
     "output_type": "display_data"
    }
   ],
   "source": [
    "#annot=True: annotbool or rectangular dataset. If True, write the data value in each cell\n",
    "corr = df.corr()\n",
    "#set figure size\n",
    "sns.set(rc={'figure.figsize':(20,10)})\n",
    "sns.heatmap(corr, cmap=\"PuBu\", annot=True)"
   ]
  },
  {
   "cell_type": "code",
   "execution_count": 31,
   "id": "0aba2218",
   "metadata": {},
   "outputs": [
    {
     "data": {
      "text/plain": [
       "y      1.000000\n",
       "x9     0.404326\n",
       "x12    0.223623\n",
       "x15    0.050904\n",
       "x1     0.032105\n",
       "x10   -0.065730\n",
       "x14   -0.133955\n",
       "x13   -0.293299\n",
       "x16   -0.301823\n",
       "x11   -0.321680\n",
       "x17   -0.348867\n",
       "Name: y, dtype: float64"
      ]
     },
     "execution_count": 31,
     "metadata": {},
     "output_type": "execute_result"
    }
   ],
   "source": [
    "corr_matrix['y'].sort_values(ascending = False)"
   ]
  },
  {
   "cell_type": "code",
   "execution_count": 32,
   "id": "e3f83cb7",
   "metadata": {},
   "outputs": [
    {
     "data": {
      "text/plain": [
       "x1     0\n",
       "x2     0\n",
       "x3     0\n",
       "x4     0\n",
       "x5     0\n",
       "x6     0\n",
       "x7     0\n",
       "x8     0\n",
       "x9     0\n",
       "x10    0\n",
       "x11    0\n",
       "x12    0\n",
       "x13    0\n",
       "x14    6\n",
       "x15    0\n",
       "x16    0\n",
       "x17    0\n",
       "y      0\n",
       "dtype: int64"
      ]
     },
     "execution_count": 32,
     "metadata": {},
     "output_type": "execute_result"
    }
   ],
   "source": [
    "df.isnull().sum()"
   ]
  },
  {
   "cell_type": "code",
   "execution_count": 33,
   "id": "a8821d1a",
   "metadata": {},
   "outputs": [
    {
     "data": {
      "text/html": [
       "<div>\n",
       "<style scoped>\n",
       "    .dataframe tbody tr th:only-of-type {\n",
       "        vertical-align: middle;\n",
       "    }\n",
       "\n",
       "    .dataframe tbody tr th {\n",
       "        vertical-align: top;\n",
       "    }\n",
       "\n",
       "    .dataframe thead th {\n",
       "        text-align: right;\n",
       "    }\n",
       "</style>\n",
       "<table border=\"1\" class=\"dataframe\">\n",
       "  <thead>\n",
       "    <tr style=\"text-align: right;\">\n",
       "      <th></th>\n",
       "      <th>x1</th>\n",
       "      <th>x2</th>\n",
       "      <th>x3</th>\n",
       "      <th>x4</th>\n",
       "      <th>x5</th>\n",
       "      <th>x6</th>\n",
       "      <th>x7</th>\n",
       "      <th>x8</th>\n",
       "      <th>x9</th>\n",
       "      <th>x10</th>\n",
       "      <th>x11</th>\n",
       "      <th>x12</th>\n",
       "      <th>x13</th>\n",
       "      <th>x14</th>\n",
       "      <th>x15</th>\n",
       "      <th>x16</th>\n",
       "      <th>x17</th>\n",
       "    </tr>\n",
       "  </thead>\n",
       "  <tbody>\n",
       "    <tr>\n",
       "      <th>15316</th>\n",
       "      <td>34</td>\n",
       "      <td>management</td>\n",
       "      <td>married</td>\n",
       "      <td>university</td>\n",
       "      <td>yes</td>\n",
       "      <td>no</td>\n",
       "      <td>nov</td>\n",
       "      <td>cell</td>\n",
       "      <td>130</td>\n",
       "      <td>6</td>\n",
       "      <td>999</td>\n",
       "      <td>0</td>\n",
       "      <td>-0.1</td>\n",
       "      <td>93.200</td>\n",
       "      <td>-42.0</td>\n",
       "      <td>4.076</td>\n",
       "      <td>5195.8</td>\n",
       "    </tr>\n",
       "    <tr>\n",
       "      <th>26128</th>\n",
       "      <td>24</td>\n",
       "      <td>services</td>\n",
       "      <td>married</td>\n",
       "      <td>high</td>\n",
       "      <td>no</td>\n",
       "      <td>no</td>\n",
       "      <td>jul</td>\n",
       "      <td>phone</td>\n",
       "      <td>139</td>\n",
       "      <td>1</td>\n",
       "      <td>999</td>\n",
       "      <td>0</td>\n",
       "      <td>1.4</td>\n",
       "      <td>93.918</td>\n",
       "      <td>-42.7</td>\n",
       "      <td>4.963</td>\n",
       "      <td>5228.1</td>\n",
       "    </tr>\n",
       "    <tr>\n",
       "      <th>36928</th>\n",
       "      <td>50</td>\n",
       "      <td>admin</td>\n",
       "      <td>married</td>\n",
       "      <td>high</td>\n",
       "      <td>yes</td>\n",
       "      <td>no</td>\n",
       "      <td>nov</td>\n",
       "      <td>phone</td>\n",
       "      <td>182</td>\n",
       "      <td>2</td>\n",
       "      <td>999</td>\n",
       "      <td>0</td>\n",
       "      <td>-0.1</td>\n",
       "      <td>93.200</td>\n",
       "      <td>-42.0</td>\n",
       "      <td>4.021</td>\n",
       "      <td>5195.8</td>\n",
       "    </tr>\n",
       "    <tr>\n",
       "      <th>5654</th>\n",
       "      <td>57</td>\n",
       "      <td>blue-collar</td>\n",
       "      <td>married</td>\n",
       "      <td>middle</td>\n",
       "      <td>yes</td>\n",
       "      <td>no</td>\n",
       "      <td>jul</td>\n",
       "      <td>cell</td>\n",
       "      <td>101</td>\n",
       "      <td>3</td>\n",
       "      <td>999</td>\n",
       "      <td>0</td>\n",
       "      <td>1.4</td>\n",
       "      <td>93.918</td>\n",
       "      <td>-42.7</td>\n",
       "      <td>4.961</td>\n",
       "      <td>5228.1</td>\n",
       "    </tr>\n",
       "    <tr>\n",
       "      <th>16122</th>\n",
       "      <td>33</td>\n",
       "      <td>technician</td>\n",
       "      <td>single</td>\n",
       "      <td>university</td>\n",
       "      <td>no</td>\n",
       "      <td>no</td>\n",
       "      <td>aug</td>\n",
       "      <td>cell</td>\n",
       "      <td>134</td>\n",
       "      <td>6</td>\n",
       "      <td>999</td>\n",
       "      <td>0</td>\n",
       "      <td>1.4</td>\n",
       "      <td>93.444</td>\n",
       "      <td>-36.1</td>\n",
       "      <td>4.963</td>\n",
       "      <td>5228.1</td>\n",
       "    </tr>\n",
       "    <tr>\n",
       "      <th>...</th>\n",
       "      <td>...</td>\n",
       "      <td>...</td>\n",
       "      <td>...</td>\n",
       "      <td>...</td>\n",
       "      <td>...</td>\n",
       "      <td>...</td>\n",
       "      <td>...</td>\n",
       "      <td>...</td>\n",
       "      <td>...</td>\n",
       "      <td>...</td>\n",
       "      <td>...</td>\n",
       "      <td>...</td>\n",
       "      <td>...</td>\n",
       "      <td>...</td>\n",
       "      <td>...</td>\n",
       "      <td>...</td>\n",
       "      <td>...</td>\n",
       "    </tr>\n",
       "    <tr>\n",
       "      <th>28652</th>\n",
       "      <td>34</td>\n",
       "      <td>services</td>\n",
       "      <td>divorced</td>\n",
       "      <td>primary</td>\n",
       "      <td>no</td>\n",
       "      <td>no</td>\n",
       "      <td>nov</td>\n",
       "      <td>cell</td>\n",
       "      <td>254</td>\n",
       "      <td>1</td>\n",
       "      <td>999</td>\n",
       "      <td>0</td>\n",
       "      <td>-0.1</td>\n",
       "      <td>93.200</td>\n",
       "      <td>-42.0</td>\n",
       "      <td>4.120</td>\n",
       "      <td>5195.8</td>\n",
       "    </tr>\n",
       "    <tr>\n",
       "      <th>16521</th>\n",
       "      <td>39</td>\n",
       "      <td>admin</td>\n",
       "      <td>divorced</td>\n",
       "      <td>university</td>\n",
       "      <td>no</td>\n",
       "      <td>no</td>\n",
       "      <td>aug</td>\n",
       "      <td>cell</td>\n",
       "      <td>199</td>\n",
       "      <td>4</td>\n",
       "      <td>999</td>\n",
       "      <td>0</td>\n",
       "      <td>1.4</td>\n",
       "      <td>93.444</td>\n",
       "      <td>-36.1</td>\n",
       "      <td>4.963</td>\n",
       "      <td>5228.1</td>\n",
       "    </tr>\n",
       "    <tr>\n",
       "      <th>3759</th>\n",
       "      <td>22</td>\n",
       "      <td>unemployed</td>\n",
       "      <td>single</td>\n",
       "      <td>university</td>\n",
       "      <td>no</td>\n",
       "      <td>yes</td>\n",
       "      <td>oct</td>\n",
       "      <td>phone</td>\n",
       "      <td>34</td>\n",
       "      <td>2</td>\n",
       "      <td>999</td>\n",
       "      <td>0</td>\n",
       "      <td>-1.1</td>\n",
       "      <td>94.601</td>\n",
       "      <td>-49.5</td>\n",
       "      <td>0.977</td>\n",
       "      <td>4963.6</td>\n",
       "    </tr>\n",
       "    <tr>\n",
       "      <th>37173</th>\n",
       "      <td>32</td>\n",
       "      <td>technician</td>\n",
       "      <td>divorced</td>\n",
       "      <td>middle</td>\n",
       "      <td>no</td>\n",
       "      <td>no</td>\n",
       "      <td>apr</td>\n",
       "      <td>cell</td>\n",
       "      <td>105</td>\n",
       "      <td>1</td>\n",
       "      <td>999</td>\n",
       "      <td>0</td>\n",
       "      <td>-1.8</td>\n",
       "      <td>93.075</td>\n",
       "      <td>-47.1</td>\n",
       "      <td>1.405</td>\n",
       "      <td>5099.1</td>\n",
       "    </tr>\n",
       "    <tr>\n",
       "      <th>21030</th>\n",
       "      <td>49</td>\n",
       "      <td>admin</td>\n",
       "      <td>single</td>\n",
       "      <td>high</td>\n",
       "      <td>yes</td>\n",
       "      <td>no</td>\n",
       "      <td>oct</td>\n",
       "      <td>cell</td>\n",
       "      <td>136</td>\n",
       "      <td>2</td>\n",
       "      <td>999</td>\n",
       "      <td>0</td>\n",
       "      <td>-3.4</td>\n",
       "      <td>92.431</td>\n",
       "      <td>-26.9</td>\n",
       "      <td>0.739</td>\n",
       "      <td>5017.5</td>\n",
       "    </tr>\n",
       "  </tbody>\n",
       "</table>\n",
       "<p>7427 rows × 17 columns</p>\n",
       "</div>"
      ],
      "text/plain": [
       "       x1           x2        x3          x4   x5   x6   x7     x8   x9  x10  \\\n",
       "15316  34   management   married  university  yes   no  nov   cell  130    6   \n",
       "26128  24     services   married        high   no   no  jul  phone  139    1   \n",
       "36928  50        admin   married        high  yes   no  nov  phone  182    2   \n",
       "5654   57  blue-collar   married      middle  yes   no  jul   cell  101    3   \n",
       "16122  33   technician    single  university   no   no  aug   cell  134    6   \n",
       "...    ..          ...       ...         ...  ...  ...  ...    ...  ...  ...   \n",
       "28652  34     services  divorced     primary   no   no  nov   cell  254    1   \n",
       "16521  39        admin  divorced  university   no   no  aug   cell  199    4   \n",
       "3759   22   unemployed    single  university   no  yes  oct  phone   34    2   \n",
       "37173  32   technician  divorced      middle   no   no  apr   cell  105    1   \n",
       "21030  49        admin    single        high  yes   no  oct   cell  136    2   \n",
       "\n",
       "       x11  x12  x13     x14   x15    x16     x17  \n",
       "15316  999    0 -0.1  93.200 -42.0  4.076  5195.8  \n",
       "26128  999    0  1.4  93.918 -42.7  4.963  5228.1  \n",
       "36928  999    0 -0.1  93.200 -42.0  4.021  5195.8  \n",
       "5654   999    0  1.4  93.918 -42.7  4.961  5228.1  \n",
       "16122  999    0  1.4  93.444 -36.1  4.963  5228.1  \n",
       "...    ...  ...  ...     ...   ...    ...     ...  \n",
       "28652  999    0 -0.1  93.200 -42.0  4.120  5195.8  \n",
       "16521  999    0  1.4  93.444 -36.1  4.963  5228.1  \n",
       "3759   999    0 -1.1  94.601 -49.5  0.977  4963.6  \n",
       "37173  999    0 -1.8  93.075 -47.1  1.405  5099.1  \n",
       "21030  999    0 -3.4  92.431 -26.9  0.739  5017.5  \n",
       "\n",
       "[7427 rows x 17 columns]"
      ]
     },
     "execution_count": 33,
     "metadata": {},
     "output_type": "execute_result"
    }
   ],
   "source": [
    "#split 20%test set and 80%training set\n",
    "#random set is set to 30\n",
    "\n",
    "from sklearn.model_selection import train_test_split\n",
    "x_train,x_test,y_train,y_test  = train_test_split(x, y, test_size=0.2, random_state=30)\n",
    "x_test.shape\n",
    "x_test"
   ]
  },
  {
   "cell_type": "code",
   "execution_count": 34,
   "id": "33699a1b",
   "metadata": {},
   "outputs": [
    {
     "name": "stdout",
     "output_type": "stream",
     "text": [
      "<class 'pandas.core.frame.DataFrame'>\n",
      "<class 'pandas.core.series.Series'>\n"
     ]
    }
   ],
   "source": [
    "#check type after split\n",
    "#the function will convert our df to other type\n",
    "print(type(x_train))\n",
    "print(type(y_train))"
   ]
  },
  {
   "cell_type": "code",
   "execution_count": 35,
   "id": "657bab87",
   "metadata": {
    "scrolled": false
   },
   "outputs": [
    {
     "data": {
      "text/plain": [
       "x1     0\n",
       "x2     0\n",
       "x3     0\n",
       "x4     0\n",
       "x5     0\n",
       "x6     0\n",
       "x7     0\n",
       "x8     0\n",
       "x9     0\n",
       "x10    0\n",
       "x11    0\n",
       "x12    0\n",
       "x13    0\n",
       "x14    3\n",
       "x15    0\n",
       "x16    0\n",
       "x17    0\n",
       "dtype: int64"
      ]
     },
     "execution_count": 35,
     "metadata": {},
     "output_type": "execute_result"
    }
   ],
   "source": [
    "x_train.isnull().sum()\n",
    "#total got 8 missing value in x14(Numerical Data)\n",
    "#3 in test set 3 in training set"
   ]
  },
  {
   "cell_type": "code",
   "execution_count": 36,
   "id": "ef87c1ec",
   "metadata": {},
   "outputs": [
    {
     "name": "stdout",
     "output_type": "stream",
     "text": [
      "Shape of x train numerical is  (29707, 10)\n",
      "Shape of x train categorical is  (29707, 7)\n"
     ]
    }
   ],
   "source": [
    "#split training set x to numerical and categorical\n",
    "#split x2....... to categorical\n",
    "#as from the df.info(0 we can know that which are categorical and which one are numerical)\n",
    "x_train_num=x_train.drop(['x2', 'x3','x4', 'x5', 'x6', 'x7', 'x8'], axis=1)\n",
    "x_train_cat=x_train[['x2', 'x3','x4', 'x5', 'x6', 'x7', 'x8']]\n",
    "print(\"Shape of x train numerical is \", x_train_num.shape)\n",
    "print(\"Shape of x train categorical is \", x_train_cat.shape)"
   ]
  },
  {
   "cell_type": "code",
   "execution_count": 37,
   "id": "1fb7144f",
   "metadata": {
    "scrolled": true
   },
   "outputs": [
    {
     "data": {
      "text/plain": [
       "x2    0\n",
       "x3    0\n",
       "x4    0\n",
       "x5    0\n",
       "x6    0\n",
       "x7    0\n",
       "x8    0\n",
       "dtype: int64"
      ]
     },
     "execution_count": 37,
     "metadata": {},
     "output_type": "execute_result"
    }
   ],
   "source": [
    "#double check the whether there is missing value in categorical data\n",
    "x_train_cat.isnull().sum()\n",
    "#There are no missing data in x_train num"
   ]
  },
  {
   "cell_type": "code",
   "execution_count": 38,
   "id": "818e1dc5",
   "metadata": {},
   "outputs": [
    {
     "data": {
      "text/plain": [
       "x1     0\n",
       "x9     0\n",
       "x10    0\n",
       "x11    0\n",
       "x12    0\n",
       "x13    0\n",
       "x14    3\n",
       "x15    0\n",
       "x16    0\n",
       "x17    0\n",
       "dtype: int64"
      ]
     },
     "execution_count": 38,
     "metadata": {},
     "output_type": "execute_result"
    }
   ],
   "source": [
    "x_train_num.isnull().sum()"
   ]
  },
  {
   "cell_type": "code",
   "execution_count": 39,
   "id": "cf3cbb83",
   "metadata": {},
   "outputs": [],
   "source": [
    "#Use imputer to replace the missing vale\n",
    "#use most frequent strategy(mode) as the the data distribtuion is normal(not skewed) ---> can find article\n",
    "#then fit and transform\n",
    "from sklearn.impute import SimpleImputer\n",
    "imputer=SimpleImputer(strategy = 'most_frequent')\n",
    "imputer.fit(x_train_num)\n",
    "x_train_num_tr=imputer.transform(x_train_num)"
   ]
  },
  {
   "cell_type": "code",
   "execution_count": 40,
   "id": "2303241a",
   "metadata": {},
   "outputs": [
    {
     "name": "stdout",
     "output_type": "stream",
     "text": [
      "<class 'pandas.core.frame.DataFrame'>\n",
      "<class 'numpy.ndarray'>\n"
     ]
    }
   ],
   "source": [
    "#check data type\n",
    "#after the function of simpleImputer, type change from df to array\n",
    "print(type(x_train_num))\n",
    "print(type(x_train_num_tr))"
   ]
  },
  {
   "cell_type": "code",
   "execution_count": 41,
   "id": "c37b4432",
   "metadata": {},
   "outputs": [
    {
     "name": "stdout",
     "output_type": "stream",
     "text": [
      "Number of missing values for all columns:\n"
     ]
    },
    {
     "data": {
      "text/plain": [
       "x1     0\n",
       "x9     0\n",
       "x10    0\n",
       "x11    0\n",
       "x12    0\n",
       "x13    0\n",
       "x14    0\n",
       "x15    0\n",
       "x16    0\n",
       "x17    0\n",
       "dtype: int64"
      ]
     },
     "execution_count": 41,
     "metadata": {},
     "output_type": "execute_result"
    }
   ],
   "source": [
    "print('Number of missing values for all columns:')\n",
    "#change array back to df\n",
    "x_train_num_tr_pd = pd.DataFrame(x_train_num_tr, columns = x_train_num.columns)\n",
    "x_train_num_tr_pd.isnull().sum() #no missing value in numerical after replacement of data"
   ]
  },
  {
   "cell_type": "code",
   "execution_count": 42,
   "id": "51de2c05",
   "metadata": {},
   "outputs": [
    {
     "data": {
      "text/plain": [
       "array([[ 1.2794346 , -0.43612392, -0.20603935, ..., -1.22483857,\n",
       "        -1.35065397, -0.96037953],\n",
       "       [-1.34899506, -0.12512218, -0.20603935, ..., -1.22483857,\n",
       "        -1.38251706, -0.96037953],\n",
       "       [ 0.0138944 , -0.30557998, -0.20603935, ..., -1.42019113,\n",
       "        -1.2892451 , -0.96037953],\n",
       "       ...,\n",
       "       [-0.1808041 , -0.83543479,  0.87837764, ..., -0.4651342 ,\n",
       "         0.77084858,  0.84443695],\n",
       "       [-0.76489958, -0.85463243, -0.56751168, ..., -0.31319333,\n",
       "         0.3027508 ,  0.39253329],\n",
       "       [ 1.66883159, -0.58970502, -0.56751168, ..., -0.4651342 ,\n",
       "         0.77084858,  0.84443695]])"
      ]
     },
     "execution_count": 42,
     "metadata": {},
     "output_type": "execute_result"
    }
   ],
   "source": [
    "#use standard Scaler to [defination], to prevent....\n",
    "#after the standard scaler function, value of mean and stdev will....\n",
    "from sklearn.preprocessing import StandardScaler\n",
    "scaler=StandardScaler(copy=False)\n",
    "scaler.fit(x_train_num_tr_pd)\n",
    "x_train_num_tr=scaler.transform(x_train_num_tr_pd)\n",
    "x_train_num_tr"
   ]
  },
  {
   "cell_type": "code",
   "execution_count": 43,
   "id": "5efe6b76",
   "metadata": {},
   "outputs": [
    {
     "name": "stdout",
     "output_type": "stream",
     "text": [
      ">>> Mean of all columns:\n",
      " [-5.66865144e-17 -9.61518093e-17 -2.27224425e-17 -3.26963988e-16\n",
      "  5.87195751e-17  1.00457114e-17 -1.67021911e-14  5.81933711e-16\n",
      "  2.43967277e-16 -9.13920555e-16]\n",
      "\n",
      ">>> Std of all columns:\n",
      " [1. 1. 1. 1. 1. 1. 1. 1. 1. 1.]\n"
     ]
    }
   ],
   "source": [
    "#display the mean and stdev value\n",
    "#mean value is close to zero and stdev is 1\n",
    "#it shows that....\n",
    "\n",
    "print('>>> Mean of all columns:\\n', x_train_num_tr.mean(axis=0))\n",
    "print('\\n>>> Std of all columns:\\n', x_train_num_tr.std(axis=0))"
   ]
  },
  {
   "cell_type": "markdown",
   "id": "78eb0004",
   "metadata": {},
   "source": [
    "### Dealing missing value of categorical data"
   ]
  },
  {
   "cell_type": "code",
   "execution_count": 44,
   "id": "f24aeaa8",
   "metadata": {},
   "outputs": [
    {
     "name": "stdout",
     "output_type": "stream",
     "text": [
      "Number of missing values for all categorical columns:\n"
     ]
    },
    {
     "data": {
      "text/plain": [
       "x2    0\n",
       "x3    0\n",
       "x4    0\n",
       "x5    0\n",
       "x6    0\n",
       "x7    0\n",
       "x8    0\n",
       "dtype: int64"
      ]
     },
     "execution_count": 44,
     "metadata": {},
     "output_type": "execute_result"
    }
   ],
   "source": [
    "print('Number of missing values for all categorical columns:')\n",
    "x_train_cat.isnull().sum()"
   ]
  },
  {
   "cell_type": "code",
   "execution_count": 45,
   "id": "7186ce55",
   "metadata": {},
   "outputs": [],
   "source": [
    "x_train_cat_2 = x_train_cat['x2']\n",
    "x_train_cat_3 = x_train_cat['x3']\n",
    "x_train_cat_4 = x_train_cat['x4']\n",
    "x_train_cat_5 = x_train_cat['x5']\n",
    "x_train_cat_6 = x_train_cat['x6']\n",
    "x_train_cat_7 = x_train_cat['x7']\n",
    "x_train_cat_8 = x_train_cat['x8']"
   ]
  },
  {
   "cell_type": "code",
   "execution_count": 46,
   "id": "6776133f",
   "metadata": {},
   "outputs": [
    {
     "data": {
      "text/plain": [
       "(29707,)"
      ]
     },
     "execution_count": 46,
     "metadata": {},
     "output_type": "execute_result"
    }
   ],
   "source": [
    "labelencoder = LabelEncoder()\n",
    "x_train_cat_4 = labelencoder.fit_transform(x_train_cat_4)\n",
    "x_train_cat_4.shape"
   ]
  },
  {
   "cell_type": "code",
   "execution_count": 47,
   "id": "5dd62afa",
   "metadata": {},
   "outputs": [
    {
     "data": {
      "text/plain": [
       "(29707, 11)"
      ]
     },
     "execution_count": 47,
     "metadata": {},
     "output_type": "execute_result"
    }
   ],
   "source": [
    "lb_encoder_2 = LabelBinarizer()\n",
    "x_train_cat_2 = lb_encoder_2.fit_transform(x_train_cat_2)\n",
    "x_train_cat_2.shape"
   ]
  },
  {
   "cell_type": "code",
   "execution_count": 48,
   "id": "aabc8155",
   "metadata": {},
   "outputs": [
    {
     "data": {
      "text/plain": [
       "(29707, 3)"
      ]
     },
     "execution_count": 48,
     "metadata": {},
     "output_type": "execute_result"
    }
   ],
   "source": [
    "lb_encoder_3 = LabelBinarizer()\n",
    "x_train_cat_3 = lb_encoder_3.fit_transform(x_train_cat_3)\n",
    "x_train_cat_3.shape"
   ]
  },
  {
   "cell_type": "code",
   "execution_count": 49,
   "id": "a8be6378",
   "metadata": {},
   "outputs": [
    {
     "data": {
      "text/plain": [
       "(29707, 1)"
      ]
     },
     "execution_count": 49,
     "metadata": {},
     "output_type": "execute_result"
    }
   ],
   "source": [
    "lb_encoder_5 = LabelBinarizer()\n",
    "x_train_cat_5 = lb_encoder_5.fit_transform(x_train_cat_5)\n",
    "x_train_cat_5.shape"
   ]
  },
  {
   "cell_type": "code",
   "execution_count": 50,
   "id": "0d30b745",
   "metadata": {},
   "outputs": [
    {
     "data": {
      "text/plain": [
       "(29707, 1)"
      ]
     },
     "execution_count": 50,
     "metadata": {},
     "output_type": "execute_result"
    }
   ],
   "source": [
    "lb_encoder_6 = LabelBinarizer()\n",
    "x_train_cat_6 = lb_encoder_6.fit_transform(x_train_cat_6)\n",
    "x_train_cat_6.shape"
   ]
  },
  {
   "cell_type": "code",
   "execution_count": 51,
   "id": "1b13f3b9",
   "metadata": {},
   "outputs": [
    {
     "data": {
      "text/plain": [
       "(29707, 10)"
      ]
     },
     "execution_count": 51,
     "metadata": {},
     "output_type": "execute_result"
    }
   ],
   "source": [
    "lb_encoder_7 = LabelBinarizer()\n",
    "x_train_cat_7 = lb_encoder_7.fit_transform(x_train_cat_7)\n",
    "x_train_cat_7.shape"
   ]
  },
  {
   "cell_type": "code",
   "execution_count": 52,
   "id": "b682aa05",
   "metadata": {},
   "outputs": [
    {
     "data": {
      "text/plain": [
       "(29707, 1)"
      ]
     },
     "execution_count": 52,
     "metadata": {},
     "output_type": "execute_result"
    }
   ],
   "source": [
    "lb_encoder_8 = LabelBinarizer()\n",
    "x_train_cat_8 = lb_encoder_8.fit_transform(x_train_cat_8)\n",
    "x_train_cat_8.shape"
   ]
  },
  {
   "cell_type": "code",
   "execution_count": 53,
   "id": "34fd4216",
   "metadata": {},
   "outputs": [
    {
     "data": {
      "text/html": [
       "<div>\n",
       "<style scoped>\n",
       "    .dataframe tbody tr th:only-of-type {\n",
       "        vertical-align: middle;\n",
       "    }\n",
       "\n",
       "    .dataframe tbody tr th {\n",
       "        vertical-align: top;\n",
       "    }\n",
       "\n",
       "    .dataframe thead th {\n",
       "        text-align: right;\n",
       "    }\n",
       "</style>\n",
       "<table border=\"1\" class=\"dataframe\">\n",
       "  <thead>\n",
       "    <tr style=\"text-align: right;\">\n",
       "      <th></th>\n",
       "      <th>0</th>\n",
       "    </tr>\n",
       "  </thead>\n",
       "  <tbody>\n",
       "    <tr>\n",
       "      <th>0</th>\n",
       "      <td>3</td>\n",
       "    </tr>\n",
       "    <tr>\n",
       "      <th>1</th>\n",
       "      <td>0</td>\n",
       "    </tr>\n",
       "    <tr>\n",
       "      <th>2</th>\n",
       "      <td>3</td>\n",
       "    </tr>\n",
       "    <tr>\n",
       "      <th>3</th>\n",
       "      <td>0</td>\n",
       "    </tr>\n",
       "    <tr>\n",
       "      <th>4</th>\n",
       "      <td>0</td>\n",
       "    </tr>\n",
       "    <tr>\n",
       "      <th>...</th>\n",
       "      <td>...</td>\n",
       "    </tr>\n",
       "    <tr>\n",
       "      <th>29702</th>\n",
       "      <td>5</td>\n",
       "    </tr>\n",
       "    <tr>\n",
       "      <th>29703</th>\n",
       "      <td>0</td>\n",
       "    </tr>\n",
       "    <tr>\n",
       "      <th>29704</th>\n",
       "      <td>3</td>\n",
       "    </tr>\n",
       "    <tr>\n",
       "      <th>29705</th>\n",
       "      <td>5</td>\n",
       "    </tr>\n",
       "    <tr>\n",
       "      <th>29706</th>\n",
       "      <td>5</td>\n",
       "    </tr>\n",
       "  </tbody>\n",
       "</table>\n",
       "<p>29707 rows × 1 columns</p>\n",
       "</div>"
      ],
      "text/plain": [
       "       0\n",
       "0      3\n",
       "1      0\n",
       "2      3\n",
       "3      0\n",
       "4      0\n",
       "...   ..\n",
       "29702  5\n",
       "29703  0\n",
       "29704  3\n",
       "29705  5\n",
       "29706  5\n",
       "\n",
       "[29707 rows x 1 columns]"
      ]
     },
     "execution_count": 53,
     "metadata": {},
     "output_type": "execute_result"
    }
   ],
   "source": [
    "x_train_cat_4 = pd.DataFrame(x_train_cat_4)\n",
    "x_train_cat_4"
   ]
  },
  {
   "cell_type": "code",
   "execution_count": 54,
   "id": "4bf2d4f4",
   "metadata": {},
   "outputs": [
    {
     "name": "stdout",
     "output_type": "stream",
     "text": [
      "x_train_tr shape: (29707, 28)\n"
     ]
    }
   ],
   "source": [
    "x_train_cat_tr = np.hstack([x_train_cat_2, x_train_cat_3, x_train_cat_4, x_train_cat_5, x_train_cat_6, x_train_cat_7, x_train_cat_8])\n",
    "print('x_train_tr shape:', x_train_cat_tr.shape)"
   ]
  },
  {
   "cell_type": "code",
   "execution_count": 55,
   "id": "aaf0187e",
   "metadata": {},
   "outputs": [
    {
     "name": "stdout",
     "output_type": "stream",
     "text": [
      "x_train_tr shape: (29707, 38)\n",
      "y_train shape: <bound method Series.info of 4393     False\n",
      "37240    False\n",
      "37036    False\n",
      "93       False\n",
      "28628    False\n",
      "         ...  \n",
      "16993    False\n",
      "32844    False\n",
      "988      False\n",
      "35810    False\n",
      "4874     False\n",
      "Name: y, Length: 29707, dtype: bool>\n"
     ]
    }
   ],
   "source": [
    "x_train_tr = np.hstack([x_train_num_tr, x_train_cat_tr])\n",
    "\n",
    "print('x_train_tr shape:', x_train_tr.shape)\n",
    "print('y_train shape:', y_train.info)"
   ]
  },
  {
   "cell_type": "code",
   "execution_count": 56,
   "id": "9707fba1",
   "metadata": {},
   "outputs": [],
   "source": [
    "y_train = y_train.values;  #convert to numpy array"
   ]
  },
  {
   "cell_type": "code",
   "execution_count": 57,
   "id": "a4041ab1",
   "metadata": {},
   "outputs": [
    {
     "data": {
      "text/html": [
       "<style>#sk-container-id-1 {color: black;background-color: white;}#sk-container-id-1 pre{padding: 0;}#sk-container-id-1 div.sk-toggleable {background-color: white;}#sk-container-id-1 label.sk-toggleable__label {cursor: pointer;display: block;width: 100%;margin-bottom: 0;padding: 0.3em;box-sizing: border-box;text-align: center;}#sk-container-id-1 label.sk-toggleable__label-arrow:before {content: \"▸\";float: left;margin-right: 0.25em;color: #696969;}#sk-container-id-1 label.sk-toggleable__label-arrow:hover:before {color: black;}#sk-container-id-1 div.sk-estimator:hover label.sk-toggleable__label-arrow:before {color: black;}#sk-container-id-1 div.sk-toggleable__content {max-height: 0;max-width: 0;overflow: hidden;text-align: left;background-color: #f0f8ff;}#sk-container-id-1 div.sk-toggleable__content pre {margin: 0.2em;color: black;border-radius: 0.25em;background-color: #f0f8ff;}#sk-container-id-1 input.sk-toggleable__control:checked~div.sk-toggleable__content {max-height: 200px;max-width: 100%;overflow: auto;}#sk-container-id-1 input.sk-toggleable__control:checked~label.sk-toggleable__label-arrow:before {content: \"▾\";}#sk-container-id-1 div.sk-estimator input.sk-toggleable__control:checked~label.sk-toggleable__label {background-color: #d4ebff;}#sk-container-id-1 div.sk-label input.sk-toggleable__control:checked~label.sk-toggleable__label {background-color: #d4ebff;}#sk-container-id-1 input.sk-hidden--visually {border: 0;clip: rect(1px 1px 1px 1px);clip: rect(1px, 1px, 1px, 1px);height: 1px;margin: -1px;overflow: hidden;padding: 0;position: absolute;width: 1px;}#sk-container-id-1 div.sk-estimator {font-family: monospace;background-color: #f0f8ff;border: 1px dotted black;border-radius: 0.25em;box-sizing: border-box;margin-bottom: 0.5em;}#sk-container-id-1 div.sk-estimator:hover {background-color: #d4ebff;}#sk-container-id-1 div.sk-parallel-item::after {content: \"\";width: 100%;border-bottom: 1px solid gray;flex-grow: 1;}#sk-container-id-1 div.sk-label:hover label.sk-toggleable__label {background-color: #d4ebff;}#sk-container-id-1 div.sk-serial::before {content: \"\";position: absolute;border-left: 1px solid gray;box-sizing: border-box;top: 0;bottom: 0;left: 50%;z-index: 0;}#sk-container-id-1 div.sk-serial {display: flex;flex-direction: column;align-items: center;background-color: white;padding-right: 0.2em;padding-left: 0.2em;position: relative;}#sk-container-id-1 div.sk-item {position: relative;z-index: 1;}#sk-container-id-1 div.sk-parallel {display: flex;align-items: stretch;justify-content: center;background-color: white;position: relative;}#sk-container-id-1 div.sk-item::before, #sk-container-id-1 div.sk-parallel-item::before {content: \"\";position: absolute;border-left: 1px solid gray;box-sizing: border-box;top: 0;bottom: 0;left: 50%;z-index: -1;}#sk-container-id-1 div.sk-parallel-item {display: flex;flex-direction: column;z-index: 1;position: relative;background-color: white;}#sk-container-id-1 div.sk-parallel-item:first-child::after {align-self: flex-end;width: 50%;}#sk-container-id-1 div.sk-parallel-item:last-child::after {align-self: flex-start;width: 50%;}#sk-container-id-1 div.sk-parallel-item:only-child::after {width: 0;}#sk-container-id-1 div.sk-dashed-wrapped {border: 1px dashed gray;margin: 0 0.4em 0.5em 0.4em;box-sizing: border-box;padding-bottom: 0.4em;background-color: white;}#sk-container-id-1 div.sk-label label {font-family: monospace;font-weight: bold;display: inline-block;line-height: 1.2em;}#sk-container-id-1 div.sk-label-container {text-align: center;}#sk-container-id-1 div.sk-container {/* jupyter's `normalize.less` sets `[hidden] { display: none; }` but bootstrap.min.css set `[hidden] { display: none !important; }` so we also need the `!important` here to be able to override the default hidden behavior on the sphinx rendered scikit-learn.org. See: https://github.com/scikit-learn/scikit-learn/issues/21755 */display: inline-block !important;position: relative;}#sk-container-id-1 div.sk-text-repr-fallback {display: none;}</style><div id=\"sk-container-id-1\" class=\"sk-top-container\"><div class=\"sk-text-repr-fallback\"><pre>SGDClassifier(max_iter=5, random_state=42, tol=None)</pre><b>In a Jupyter environment, please rerun this cell to show the HTML representation or trust the notebook. <br />On GitHub, the HTML representation is unable to render, please try loading this page with nbviewer.org.</b></div><div class=\"sk-container\" hidden><div class=\"sk-item\"><div class=\"sk-estimator sk-toggleable\"><input class=\"sk-toggleable__control sk-hidden--visually\" id=\"sk-estimator-id-1\" type=\"checkbox\" checked><label for=\"sk-estimator-id-1\" class=\"sk-toggleable__label sk-toggleable__label-arrow\">SGDClassifier</label><div class=\"sk-toggleable__content\"><pre>SGDClassifier(max_iter=5, random_state=42, tol=None)</pre></div></div></div></div></div>"
      ],
      "text/plain": [
       "SGDClassifier(max_iter=5, random_state=42, tol=None)"
      ]
     },
     "execution_count": 57,
     "metadata": {},
     "output_type": "execute_result"
    }
   ],
   "source": [
    "from sklearn.linear_model import SGDClassifier\n",
    "\n",
    "# Exercise: create a SGDClassifier(random_state = 42, max_iter = 5, tol = None) \n",
    "sgd_clf=SGDClassifier(random_state = 42, max_iter = 5, tol = None) \n",
    "# Train using the training set\n",
    "sgd_clf.fit(x_train_tr, y_train)"
   ]
  },
  {
   "cell_type": "code",
   "execution_count": 58,
   "id": "217be6cb",
   "metadata": {},
   "outputs": [],
   "source": [
    "#performing prediction\n",
    "y_pred=sgd_clf.predict(x_train_tr)"
   ]
  },
  {
   "cell_type": "code",
   "execution_count": 59,
   "id": "74f23424",
   "metadata": {},
   "outputs": [],
   "source": [
    "def peek_results(actual, predicted, num = 20):\n",
    "    print('actual |  Predicted')\n",
    "    print('------------------')\n",
    "    for i in range(num):\n",
    "        sel = np.random.randint(0, len(y_train))\n",
    "        print(actual[sel], ' |', predicted[sel])\n",
    "        \n",
    "def peek_scores(actual, scores, num = 20):\n",
    "    print('actual |  score')\n",
    "    print('------------------')\n",
    "    for i in range(num):\n",
    "        sel = np.random.randint(0, len(y_train))\n",
    "        print(actual[sel], ' |', scores[sel])"
   ]
  },
  {
   "cell_type": "code",
   "execution_count": 60,
   "id": "cac4c01d",
   "metadata": {},
   "outputs": [
    {
     "name": "stdout",
     "output_type": "stream",
     "text": [
      "actual |  Predicted\n",
      "------------------\n",
      "False  | False\n",
      "False  | False\n",
      "False  | False\n",
      "False  | False\n",
      "True  | True\n",
      "False  | False\n",
      "False  | False\n",
      "False  | False\n",
      "False  | False\n",
      "False  | False\n",
      "False  | False\n",
      "True  | False\n",
      "False  | False\n",
      "False  | False\n",
      "False  | False\n",
      "False  | False\n",
      "False  | True\n",
      "False  | False\n",
      "False  | True\n",
      "False  | False\n"
     ]
    }
   ],
   "source": [
    "peek_results(y_train, y_pred)"
   ]
  },
  {
   "cell_type": "code",
   "execution_count": 61,
   "id": "c0077494",
   "metadata": {},
   "outputs": [
    {
     "name": "stdout",
     "output_type": "stream",
     "text": [
      "Training accuracy:  0.845\n"
     ]
    }
   ],
   "source": [
    "#Training Accuracy\n",
    "from sklearn.metrics import accuracy_score\n",
    "\n",
    "# Exercise: compute accuracy using accuracy_score and show the result\n",
    "acc=accuracy_score(y_train, y_pred)\n",
    "print(\"Training accuracy: \", round(acc, 4))"
   ]
  },
  {
   "cell_type": "code",
   "execution_count": 62,
   "id": "7ffa1423",
   "metadata": {},
   "outputs": [
    {
     "name": "stdout",
     "output_type": "stream",
     "text": [
      "[0.89750581 0.79923248 0.90022218]\n"
     ]
    }
   ],
   "source": [
    "#Measuring training accuracy using Cross-Validation\n",
    "from sklearn.model_selection import cross_val_score\n",
    "\n",
    "# Exercise: compute 3-fold cross-validation accuracy and show the result\n",
    "k_scores = cross_val_score(sgd_clf, x_train_tr, y_train, cv=3, scoring='accuracy')\n",
    "print(k_scores)"
   ]
  },
  {
   "cell_type": "code",
   "execution_count": 63,
   "id": "b853ef30",
   "metadata": {},
   "outputs": [
    {
     "name": "stdout",
     "output_type": "stream",
     "text": [
      "Accuracy using prediction values: 0.8449860302285657\n",
      "Accuracy using all zeros values: 0.8896556367186185\n"
     ]
    }
   ],
   "source": [
    "#Problems with accuracy\n",
    "from sklearn.metrics import accuracy_score\n",
    "\n",
    "y_train_pred = sgd_clf.predict(x_train_tr)  # make sure sgd_clf has been trained\n",
    "print('Accuracy using prediction values:', accuracy_score(y_train, y_train_pred))\n",
    "\n",
    "y_train_allfalse = np.zeros(len(y_train), dtype=bool)\n",
    "print('Accuracy using all zeros values:', accuracy_score(y_train, y_train_allfalse))"
   ]
  },
  {
   "cell_type": "code",
   "execution_count": 64,
   "id": "1e34247c",
   "metadata": {},
   "outputs": [],
   "source": [
    "#Perform cross-validated prediction\n",
    "from sklearn.model_selection import cross_val_predict\n",
    "\n",
    "#perform cross-validatied prediction using cross_val_predict\n",
    "y_pred_cv = cross_val_predict(sgd_clf, x_train_tr, y_train, cv=3)"
   ]
  },
  {
   "cell_type": "code",
   "execution_count": 65,
   "id": "9fe35a7c",
   "metadata": {},
   "outputs": [
    {
     "name": "stdout",
     "output_type": "stream",
     "text": [
      "actual |  Predicted\n",
      "------------------\n",
      "False  | False\n",
      "False  | False\n",
      "True  | False\n",
      "False  | False\n",
      "False  | False\n",
      "False  | False\n",
      "False  | False\n",
      "False  | False\n",
      "False  | False\n",
      "False  | True\n",
      "False  | False\n",
      "False  | False\n",
      "False  | False\n",
      "True  | False\n",
      "False  | False\n",
      "True  | False\n",
      "False  | False\n",
      "False  | False\n",
      "False  | False\n",
      "False  | False\n"
     ]
    }
   ],
   "source": [
    "#display some random result \n",
    "peek_results(y_train, y_pred_cv)"
   ]
  },
  {
   "cell_type": "code",
   "execution_count": 66,
   "id": "37bd0464",
   "metadata": {},
   "outputs": [
    {
     "data": {
      "text/plain": [
       "array([[24412,  2017],\n",
       "       [ 1974,  1304]], dtype=int64)"
      ]
     },
     "execution_count": 66,
     "metadata": {},
     "output_type": "execute_result"
    }
   ],
   "source": [
    "#Compute confusion metrics\n",
    "from sklearn.metrics import confusion_matrix\n",
    "cm=confusion_matrix(y_train, y_pred_cv)\n",
    "cm"
   ]
  },
  {
   "cell_type": "code",
   "execution_count": 67,
   "id": "37951d35",
   "metadata": {},
   "outputs": [
    {
     "data": {
      "image/png": "[encoded data removed]",
      "text/plain": [
       "<Figure size 1440x720 with 2 Axes>"
      ]
     },
     "metadata": {},
     "output_type": "display_data"
    }
   ],
   "source": [
    "#Plotting the confusion matrix\n",
    "group_names = ['True Neg','False Pos','False Neg','True Pos']\n",
    "\n",
    "group_counts = [\"{0:0.0f}\".format(value) for value in\n",
    "                cm.flatten()]\n",
    "\n",
    "group_percentages = [\"{0:.2%}\".format(value) for value in\n",
    "                     cm.flatten()/np.sum(cm)]\n",
    "\n",
    "labels = [f\"{v1}\\n{v2}\\n{v3}\" for v1, v2, v3 in\n",
    "          zip(group_names,group_counts,group_percentages)]\n",
    "\n",
    "labels = np.asarray(labels).reshape(2,2)\n",
    "\n",
    "ax = sns.heatmap(cm, annot=labels, fmt='', cmap='Blues')\n",
    "\n",
    "ax.set_title('Confusion Matrix with labels\\n\\n');\n",
    "ax.set_xlabel('\\nPredicted Values')\n",
    "ax.set_ylabel('Actual Values ');\n",
    "\n",
    "## Ticket labels - List must be in alphabetical order\n",
    "ax.xaxis.set_ticklabels(['False','True'])\n",
    "ax.yaxis.set_ticklabels(['False','True'])\n",
    "\n",
    "## Display the visualization of the Confusion Matrix.\n",
    "plt.show()"
   ]
  },
  {
   "cell_type": "code",
   "execution_count": 68,
   "id": "6e17b69f",
   "metadata": {},
   "outputs": [
    {
     "name": "stdout",
     "output_type": "stream",
     "text": [
      "Precision:  0.3927\n",
      "Recall:  0.3978\n",
      "F1 score:  0.3952\n"
     ]
    }
   ],
   "source": [
    "#Performance Measure: Precision, Recall and F1 Scorei\n",
    "from sklearn.metrics import precision_score, recall_score, f1_score\n",
    "\n",
    "precision=round(precision_score(y_train, y_pred_cv),4)\n",
    "recall=round(recall_score(y_train, y_pred_cv),4)\n",
    "f1_score=round(f1_score(y_train, y_pred_cv),4)\n",
    "print(\"Precision: \",precision)\n",
    "print(\"Recall: \",recall)\n",
    "print(\"F1 score: \", f1_score)"
   ]
  },
  {
   "cell_type": "code",
   "execution_count": 69,
   "id": "79a5ae5e",
   "metadata": {},
   "outputs": [
    {
     "name": "stdout",
     "output_type": "stream",
     "text": [
      "actual |  score\n",
      "------------------\n",
      "False  | 0.7501976093636094\n",
      "True  | 2.4190713051664012\n",
      "False  | -1.770137051654931\n",
      "False  | -3.596438000259395\n",
      "False  | -4.091126008146041\n",
      "False  | -1.3868441097561952\n",
      "False  | -2.3967435738130565\n",
      "False  | -3.2691616307562765\n",
      "False  | -4.719080135583798\n",
      "False  | -1.0673294419796582\n",
      "False  | -2.085562603089409\n",
      "False  | -5.65363835607883\n",
      "False  | -3.8168528463947333\n",
      "False  | -4.01379872539605\n",
      "False  | -1.8245909085713166\n",
      "False  | -3.171120600209612\n",
      "True  | 1.8485731518415456\n",
      "False  | -2.7026615011328\n",
      "False  | 0.10377399036423185\n",
      "False  | -1.7359550718127235\n"
     ]
    }
   ],
   "source": [
    "#Generating prediction scores\n",
    "\n",
    "y_scores = sgd_clf.decision_function(x_train_tr) # retrieve classification scores\n",
    "peek_scores(y_train, y_scores)"
   ]
  },
  {
   "cell_type": "code",
   "execution_count": 70,
   "id": "30cd4220",
   "metadata": {},
   "outputs": [
    {
     "data": {
      "text/plain": [
       "array([ -6.57491164,  -4.24401762,  -5.0718077 , ..., -11.49428225,\n",
       "       -10.15465814, -10.40332429])"
      ]
     },
     "execution_count": 70,
     "metadata": {},
     "output_type": "execute_result"
    }
   ],
   "source": [
    "#retrieve the average cross-validated prediction score values for all samples \n",
    "y_scores_cv = cross_val_predict(sgd_clf, x_train_tr, y_train, cv=3, method=\"decision_function\")\n",
    "y_scores_cv"
   ]
  },
  {
   "cell_type": "code",
   "execution_count": 71,
   "id": "03a92b41",
   "metadata": {},
   "outputs": [],
   "source": [
    "#Plot precision and recall graph\n",
    "from sklearn.metrics import precision_recall_curve\n",
    "\n",
    "#compute precision-recall pairs for different threshold values \n",
    "precisions, recalls, thresholds = precision_recall_curve(y_train, y_scores_cv)"
   ]
  },
  {
   "cell_type": "code",
   "execution_count": 72,
   "id": "25b21a05",
   "metadata": {},
   "outputs": [],
   "source": [
    "def plot_precision_vs_recall(precisions, recalls):\n",
    "    plt.plot(recalls, precisions, \"b-\", linewidth=3)\n",
    "    plt.plot(np.linspace(0, 1, 20), np.linspace(1, 0, 20), 'k--')\n",
    "    plt.xlabel(\"Recall\", fontsize=16)\n",
    "    plt.ylabel(\"Precision\", fontsize=16)\n",
    "    plt.axis([0, 1, 0, 1])\n",
    "        \n",
    "def plot_roc_curve (fpr, tpr, style = 'b-', label = None):\n",
    "    plt.plot(fpr, tpr, style, linewidth = 3, label = label)\n",
    "    plt.plot([0,1], [0, 1], 'k--')\n",
    "    plt.axis([0, 1, 0, 1])\n",
    "    plt.xlabel ('False Positive Rate')\n",
    "    plt.ylabel ('True Positive Rate')\n",
    "    plt.title('TPR vs FPR', fontsize=20)"
   ]
  },
  {
   "cell_type": "code",
   "execution_count": 73,
   "id": "8712b618",
   "metadata": {},
   "outputs": [
    {
     "data": {
      "image/png": "[encoded data removed]",
      "text/plain": [
       "<Figure size 576x432 with 1 Axes>"
      ]
     },
     "metadata": {},
     "output_type": "display_data"
    }
   ],
   "source": [
    "#Plot precision and recall graph\n",
    "plt.figure(figsize=(8, 6))\n",
    "plot_precision_vs_recall(precisions, recalls)\n",
    "plt.title ('Precision-Recall Graph (Training Set)', fontsize = 20)\n",
    "plt.show()"
   ]
  },
  {
   "cell_type": "code",
   "execution_count": 78,
   "id": "31d505ec",
   "metadata": {},
   "outputs": [],
   "source": [
    "#Plot ROC graph\n",
    "from sklearn.metrics import roc_curve\n",
    "\n",
    "# Exercise: compute FPR-TPR pairs \n",
    "fpr, tpr, thresholds = roc_curve(y_train, y_scores_cv)"
   ]
  },
  {
   "cell_type": "code",
   "execution_count": 75,
   "id": "ab0f3ba5",
   "metadata": {},
   "outputs": [
    {
     "data": {
      "image/png": "[encoded data removed]",
      "text/plain": [
       "<Figure size 1440x720 with 1 Axes>"
      ]
     },
     "metadata": {},
     "output_type": "display_data"
    }
   ],
   "source": [
    "plot_roc_curve(fpr, tpr)"
   ]
  },
  {
   "cell_type": "code",
   "execution_count": 76,
   "id": "fd7af2ad",
   "metadata": {},
   "outputs": [
    {
     "name": "stdout",
     "output_type": "stream",
     "text": [
      "AUC = 0.7920\n"
     ]
    }
   ],
   "source": [
    "#The AUC (Area under curve) measure\n",
    "from sklearn.metrics import roc_auc_score\n",
    "\n",
    "auc = roc_auc_score(y_train, y_scores_cv)\n",
    "\n",
    "print('AUC = {:.4f}'.format(auc))"
   ]
  },
  {
   "cell_type": "code",
   "execution_count": 77,
   "id": "a8ff17bd",
   "metadata": {},
   "outputs": [
    {
     "name": "stdout",
     "output_type": "stream",
     "text": [
      "Fitting 5 folds for each of 1000 candidates, totalling 5000 fits\n",
      "Best Score:  0.9333482956102979\n",
      "Best Params:  {'penalty': 'elasticnet', 'loss': 'hinge', 'learning_rate': 'invscaling', 'eta0': 1, 'class_weight': {1: 0.7, 0: 0.3}, 'alpha': 0.0001}\n"
     ]
    },
    {
     "name": "stderr",
     "output_type": "stream",
     "text": [
      "C:\\Users\\shinj\\anaconda3\\lib\\site-packages\\sklearn\\linear_model\\_stochastic_gradient.py:705: ConvergenceWarning: Maximum number of iteration reached before convergence. Consider increasing max_iter to improve the fit.\n",
      "  warnings.warn(\n"
     ]
    }
   ],
   "source": [
    "from sklearn.model_selection import RandomizedSearchCV\n",
    "loss = ['hinge', 'log', 'modified_huber', 'squared_hinge', 'perceptron'] \n",
    "penalty = ['l1', 'l2', 'elasticnet'] \n",
    "alpha = [0.0001, 0.001, 0.01, 0.1, 1, 10, 100, 1000] \n",
    "learning_rate = ['constant', 'optimal', 'invscaling', 'adaptive'] \n",
    "class_weight = [{1:0.5, 0:0.5}, {1:0.4, 0:0.6}, {1:0.6, 0:0.4}, {1:0.7, 0:0.3}] \n",
    "eta0 = [1, 10, 100] \n",
    "param_distributions = dict(loss=loss, penalty=penalty, alpha=alpha, learning_rate=learning_rate, class_weight=class_weight, eta0=eta0)\n",
    "\n",
    "sgd = SGDClassifier(loss=\"hinge\", penalty=\"l2\", max_iter=5) \n",
    "random = RandomizedSearchCV(estimator=sgd, param_distributions=param_distributions, scoring='roc_auc', verbose=1, n_jobs=-1, n_iter=1000) \n",
    "random_result = random.fit(x_train_tr, y_train) \n",
    "print('Best Score: ', random_result.best_score_) \n",
    "print('Best Params: ', random_result.best_params_) "
   ]
  },
  {
   "cell_type": "code",
   "execution_count": null,
   "id": "9b95a5ad",
   "metadata": {},
   "outputs": [],
   "source": [
    "7"
   ]
  }
 ],
 "metadata": {
  "kernelspec": {
   "display_name": "Python 3 (ipykernel)",
   "language": "python",
   "name": "python3"
  },
  "language_info": {
   "codemirror_mode": {
    "name": "ipython",
    "version": 3
   },
   "file_extension": ".py",
   "mimetype": "text/x-python",
   "name": "python",
   "nbconvert_exporter": "python",
   "pygments_lexer": "ipython3",
   "version": "3.9.12"
  }
 },
 "nbformat": 4,
 "nbformat_minor": 5
}
