{
 "cells": [
  {
   "cell_type": "code",
   "execution_count": 1,
   "id": "54e14cce",
   "metadata": {},
   "outputs": [],
   "source": [
    "# importing libraries\n",
    "import pandas as pd\n",
    "import numpy as np\n",
    "import matplotlib.pyplot as plt\n",
    "import seaborn as sns\n",
    "from sklearn.preprocessing import StandardScaler\n",
    "from imblearn.under_sampling import RandomUnderSampler, TomekLinks\n",
    "from imblearn.over_sampling import RandomOverSampler, SMOTE\n",
    "\n",
    "from sklearn.preprocessing import LabelEncoder\n",
    "from sklearn.preprocessing import LabelBinarizer"
   ]
  },
  {
   "cell_type": "code",
   "execution_count": 2,
   "id": "e950fb2c",
   "metadata": {},
   "outputs": [
    {
     "name": "stdout",
     "output_type": "stream",
     "text": [
      "The Number of Samples in the dataset:  40000\n",
      "Class 0        : 88.72 % of the dataset\n",
      "Class 1(Fraud) : 11.28 % of the dataset\n"
     ]
    }
   ],
   "source": [
    "df = pd.read_csv('dataset.csv')   \n",
    "   \n",
    "   \n",
    "print(\"The Number of Samples in the dataset: \", len(df))\n",
    "print('Class 0        :', round(df['y'].value_counts()[0]\n",
    "                      /len(df) * 100, 2), '% of the dataset')\n",
    "   \n",
    "print('Class 1(Fraud) :', round(df['y'].value_counts()[1]\n",
    "                      /len(df) * 100, 2), '% of the dataset')"
   ]
  },
  {
   "cell_type": "code",
   "execution_count": 3,
   "id": "dc595805",
   "metadata": {},
   "outputs": [
    {
     "data": {
      "text/plain": [
       "0     0\n",
       "1     0\n",
       "2     0\n",
       "3     0\n",
       "4     0\n",
       "5     0\n",
       "6     6\n",
       "7     0\n",
       "8     0\n",
       "9     0\n",
       "10    0\n",
       "11    0\n",
       "12    0\n",
       "13    0\n",
       "14    0\n",
       "15    0\n",
       "16    0\n",
       "17    0\n",
       "18    0\n",
       "19    0\n",
       "20    0\n",
       "21    0\n",
       "22    0\n",
       "23    0\n",
       "24    0\n",
       "25    0\n",
       "26    0\n",
       "27    0\n",
       "28    0\n",
       "29    0\n",
       "30    0\n",
       "31    0\n",
       "32    0\n",
       "33    0\n",
       "34    0\n",
       "35    0\n",
       "36    0\n",
       "37    0\n",
       "38    0\n",
       "dtype: int64"
      ]
     },
     "execution_count": 3,
     "metadata": {},
     "output_type": "execute_result"
    }
   ],
   "source": [
    "df=df.dropna(axis=0, subset=['x8'])\n",
    "# Making a list of missing value types\n",
    "missing_values = [\"unknown\"]\n",
    "df = pd.read_csv(\"dataset.csv\", na_values = missing_values)\n",
    "df=df.dropna(axis=0, subset=['x8', 'x2', 'x3', 'x4', 'x5', 'x6'])\n",
    "x=df.drop('y', axis=1)\n",
    "y=df['y']\n",
    "x_num=x.drop(['x2', 'x3','x4', 'x5', 'x6', 'x7', 'x8'], axis=1)\n",
    "x_cat=x[['x2', 'x3','x4', 'x5', 'x6', 'x7', 'x8']]\n",
    "\n",
    "# from sklearn.impute import SimpleImputer\n",
    "# imputer=SimpleImputer(strategy = 'most_frequent')\n",
    "# imputer.fit(x_num)\n",
    "# x_num_tr=imputer.transform(x_num)\n",
    "# x_num_tr_pd = pd.DataFrame(x_num_tr, columns = x_num.columns)\n",
    "# x_num_tr_pd.isnull().sum() #no missing value in numerical after replacement of data\n",
    "#use standard Scaler to [defination], to prevent....\n",
    "#after the standard scaler function, value of mean and stdev will....\n",
    "# from sklearn.preprocessing import StandardScaler\n",
    "# scaler=StandardScaler(copy=False)\n",
    "# scaler.fit(x_num_tr_pd)\n",
    "# x_num_tr=scaler.transform(x_num_tr_pd)\n",
    "# x_num_tr\n",
    "x_cat_2 = x_cat['x2']\n",
    "x_cat_3 = x_cat['x3']\n",
    "x_cat_4 = x_cat['x4']\n",
    "x_cat_5 = x_cat['x5']\n",
    "x_cat_6 = x_cat['x6']\n",
    "x_cat_7 = x_cat['x7']\n",
    "x_cat_8 = x_cat['x8']\n",
    "\n",
    "labelencoder = LabelEncoder()\n",
    "x_cat_4 = labelencoder.fit_transform(x_cat_4)\n",
    "x_cat_4.shape\n",
    "\n",
    "lb_encoder_2 = LabelBinarizer()\n",
    "x_cat_2 = lb_encoder_2.fit_transform(x_cat_2)\n",
    "x_cat_2.shape\n",
    "\n",
    "lb_encoder_3 = LabelBinarizer()\n",
    "x_cat_3 = lb_encoder_3.fit_transform(x_cat_3)\n",
    "x_cat_3.shape\n",
    "\n",
    "lb_encoder_5 = LabelBinarizer()\n",
    "x_cat_5 = lb_encoder_5.fit_transform(x_cat_5)\n",
    "x_cat_5.shape\n",
    "\n",
    "lb_encoder_6 = LabelBinarizer()\n",
    "x_cat_6 = lb_encoder_6.fit_transform(x_cat_6)\n",
    "x_cat_6.shape\n",
    "\n",
    "lb_encoder_7 = LabelBinarizer()\n",
    "x_cat_7 = lb_encoder_7.fit_transform(x_cat_7)\n",
    "x_cat_7.shape\n",
    "\n",
    "lb_encoder_8 = LabelBinarizer()\n",
    "x_cat_8 = lb_encoder_8.fit_transform(x_cat_8)\n",
    "x_cat_8.shape\n",
    "\n",
    "x_cat_4 = pd.DataFrame(x_cat_4)\n",
    "x_cat_4\n",
    "\n",
    "x_cat_tr = np.hstack([x_cat_2, x_cat_3, x_cat_4, x_cat_5, x_cat_6, x_cat_7, x_cat_8])\n",
    "\n",
    "x_tr = np.hstack([x_num, x_cat_tr])\n",
    "\n",
    "y = pd.DataFrame(y)\n",
    "\n",
    "df_tr = np.hstack([x_tr, y])\n",
    "df_tr = pd.DataFrame(df_tr)\n",
    "df_tr.isnull().sum()"
   ]
  },
  {
   "cell_type": "code",
   "execution_count": 4,
   "id": "48d45cc5",
   "metadata": {},
   "outputs": [
    {
     "data": {
      "text/plain": [
       "0        0.0\n",
       "1        0.0\n",
       "2        0.0\n",
       "3        0.0\n",
       "4        0.0\n",
       "        ... \n",
       "37129    1.0\n",
       "37130    0.0\n",
       "37131    0.0\n",
       "37132    0.0\n",
       "37133    0.0\n",
       "Name: 38, Length: 37134, dtype: float64"
      ]
     },
     "execution_count": 4,
     "metadata": {},
     "output_type": "execute_result"
    }
   ],
   "source": [
    "# write code to separate the output (y) from input (X)\n",
    "#y refer to classes\n",
    "x=df_tr.drop(38, axis=1)\n",
    "y=df_tr[38]\n",
    "y"
   ]
  },
  {
   "cell_type": "code",
   "execution_count": 5,
   "id": "4209b3f5",
   "metadata": {},
   "outputs": [],
   "source": [
    "#split 20%test set and 80%training set\n",
    "#random set is set to 30\n",
    "\n",
    "from sklearn.model_selection import train_test_split\n",
    "x_train,x_test,y_train,y_test  = train_test_split(x, y, test_size=0.2, random_state=30)\n"
   ]
  },
  {
   "cell_type": "code",
   "execution_count": 6,
   "id": "ec0b2d45",
   "metadata": {},
   "outputs": [],
   "source": [
    "from sklearn.impute import SimpleImputer\n",
    "imputer=SimpleImputer(strategy = 'most_frequent')\n",
    "imputer.fit(x_train)\n",
    "x_train_tr=imputer.transform(x_train)\n",
    "x_train_tr_pd = pd.DataFrame(x_train_tr, columns = x_train.columns)\n",
    "x_train_tr_pd.isnull().sum() #no missing value in numerical after replacement of data\n",
    "#use standard Scaler to [defination], to prevent....\n",
    "#after the standard scaler function, value of mean and stdev will....\n",
    "from sklearn.preprocessing import StandardScaler\n",
    "scaler=StandardScaler(copy=False)\n",
    "scaler.fit(x_train_tr_pd)\n",
    "x_train_tr=scaler.transform(x_train_tr_pd)\n",
    "x_train_tr\n",
    "\n",
    "y_train= pd.DataFrame(y_train)\n",
    "df_train_tr = np.hstack([x_train_tr, y_train])\n",
    "df_train_tr=pd.DataFrame(df_train_tr)"
   ]
  },
  {
   "cell_type": "code",
   "execution_count": 7,
   "id": "e213c771",
   "metadata": {},
   "outputs": [
    {
     "name": "stdout",
     "output_type": "stream",
     "text": [
      "After Over Sampling Of Minor Class Total Samples are : 52858\n",
      "Class 0        : 50.0 % of the dataset\n",
      "Class 1(Fraud) : 50.0 % of the dataset\n"
     ]
    }
   ],
   "source": [
    "X_data = df_train_tr.iloc[:, :-1]\n",
    "Y_data = df_train_tr.iloc[:, -1:]\n",
    "\n",
    "ros = RandomOverSampler(random_state = 42)\n",
    "   \n",
    "X_res, y_res = ros.fit_resample(X_data, Y_data)\n",
    "   \n",
    "X_res = pd.DataFrame(X_res)\n",
    "Y_res = pd.DataFrame(y_res)\n",
    "   \n",
    "   \n",
    "print(\"After Over Sampling Of Minor Class Total Samples are :\", len(Y_res))\n",
    "print('Class 0        :', round(Y_res[38].value_counts()[0]/len(Y_res) * 100, 2), '% of the dataset')\n",
    "   \n",
    "print('Class 1(Fraud) :', round(Y_res[38].value_counts()[1]/len(Y_res) * 100, 2), '% of the dataset')"
   ]
  },
  {
   "cell_type": "code",
   "execution_count": 8,
   "id": "e42b6b6d",
   "metadata": {},
   "outputs": [],
   "source": [
    "df_train_tr_ros = np.hstack([X_res, Y_res])"
   ]
  },
  {
   "cell_type": "code",
   "execution_count": 9,
   "id": "3c0de723",
   "metadata": {},
   "outputs": [],
   "source": [
    "df_train_tr_ros = pd.DataFrame(df_train_tr_ros)"
   ]
  },
  {
   "cell_type": "code",
   "execution_count": 10,
   "id": "750603a1",
   "metadata": {},
   "outputs": [
    {
     "data": {
      "text/plain": [
       "0        0.0\n",
       "1        0.0\n",
       "2        0.0\n",
       "3        0.0\n",
       "4        0.0\n",
       "        ... \n",
       "52853    1.0\n",
       "52854    1.0\n",
       "52855    1.0\n",
       "52856    1.0\n",
       "52857    1.0\n",
       "Name: 38, Length: 52858, dtype: float64"
      ]
     },
     "execution_count": 10,
     "metadata": {},
     "output_type": "execute_result"
    }
   ],
   "source": [
    "# write code to separate the output (y) from input (X)\n",
    "#y refer to classes\n",
    "x_train=df_train_tr_ros.drop(38, axis=1)\n",
    "y_train=df_train_tr_ros[38]\n",
    "y_train"
   ]
  },
  {
   "cell_type": "code",
   "execution_count": 11,
   "id": "1145f224",
   "metadata": {},
   "outputs": [
    {
     "data": {
      "text/html": [
       "<style>#sk-container-id-1 {color: black;background-color: white;}#sk-container-id-1 pre{padding: 0;}#sk-container-id-1 div.sk-toggleable {background-color: white;}#sk-container-id-1 label.sk-toggleable__label {cursor: pointer;display: block;width: 100%;margin-bottom: 0;padding: 0.3em;box-sizing: border-box;text-align: center;}#sk-container-id-1 label.sk-toggleable__label-arrow:before {content: \"▸\";float: left;margin-right: 0.25em;color: #696969;}#sk-container-id-1 label.sk-toggleable__label-arrow:hover:before {color: black;}#sk-container-id-1 div.sk-estimator:hover label.sk-toggleable__label-arrow:before {color: black;}#sk-container-id-1 div.sk-toggleable__content {max-height: 0;max-width: 0;overflow: hidden;text-align: left;background-color: #f0f8ff;}#sk-container-id-1 div.sk-toggleable__content pre {margin: 0.2em;color: black;border-radius: 0.25em;background-color: #f0f8ff;}#sk-container-id-1 input.sk-toggleable__control:checked~div.sk-toggleable__content {max-height: 200px;max-width: 100%;overflow: auto;}#sk-container-id-1 input.sk-toggleable__control:checked~label.sk-toggleable__label-arrow:before {content: \"▾\";}#sk-container-id-1 div.sk-estimator input.sk-toggleable__control:checked~label.sk-toggleable__label {background-color: #d4ebff;}#sk-container-id-1 div.sk-label input.sk-toggleable__control:checked~label.sk-toggleable__label {background-color: #d4ebff;}#sk-container-id-1 input.sk-hidden--visually {border: 0;clip: rect(1px 1px 1px 1px);clip: rect(1px, 1px, 1px, 1px);height: 1px;margin: -1px;overflow: hidden;padding: 0;position: absolute;width: 1px;}#sk-container-id-1 div.sk-estimator {font-family: monospace;background-color: #f0f8ff;border: 1px dotted black;border-radius: 0.25em;box-sizing: border-box;margin-bottom: 0.5em;}#sk-container-id-1 div.sk-estimator:hover {background-color: #d4ebff;}#sk-container-id-1 div.sk-parallel-item::after {content: \"\";width: 100%;border-bottom: 1px solid gray;flex-grow: 1;}#sk-container-id-1 div.sk-label:hover label.sk-toggleable__label {background-color: #d4ebff;}#sk-container-id-1 div.sk-serial::before {content: \"\";position: absolute;border-left: 1px solid gray;box-sizing: border-box;top: 0;bottom: 0;left: 50%;z-index: 0;}#sk-container-id-1 div.sk-serial {display: flex;flex-direction: column;align-items: center;background-color: white;padding-right: 0.2em;padding-left: 0.2em;position: relative;}#sk-container-id-1 div.sk-item {position: relative;z-index: 1;}#sk-container-id-1 div.sk-parallel {display: flex;align-items: stretch;justify-content: center;background-color: white;position: relative;}#sk-container-id-1 div.sk-item::before, #sk-container-id-1 div.sk-parallel-item::before {content: \"\";position: absolute;border-left: 1px solid gray;box-sizing: border-box;top: 0;bottom: 0;left: 50%;z-index: -1;}#sk-container-id-1 div.sk-parallel-item {display: flex;flex-direction: column;z-index: 1;position: relative;background-color: white;}#sk-container-id-1 div.sk-parallel-item:first-child::after {align-self: flex-end;width: 50%;}#sk-container-id-1 div.sk-parallel-item:last-child::after {align-self: flex-start;width: 50%;}#sk-container-id-1 div.sk-parallel-item:only-child::after {width: 0;}#sk-container-id-1 div.sk-dashed-wrapped {border: 1px dashed gray;margin: 0 0.4em 0.5em 0.4em;box-sizing: border-box;padding-bottom: 0.4em;background-color: white;}#sk-container-id-1 div.sk-label label {font-family: monospace;font-weight: bold;display: inline-block;line-height: 1.2em;}#sk-container-id-1 div.sk-label-container {text-align: center;}#sk-container-id-1 div.sk-container {/* jupyter's `normalize.less` sets `[hidden] { display: none; }` but bootstrap.min.css set `[hidden] { display: none !important; }` so we also need the `!important` here to be able to override the default hidden behavior on the sphinx rendered scikit-learn.org. See: https://github.com/scikit-learn/scikit-learn/issues/21755 */display: inline-block !important;position: relative;}#sk-container-id-1 div.sk-text-repr-fallback {display: none;}</style><div id=\"sk-container-id-1\" class=\"sk-top-container\"><div class=\"sk-text-repr-fallback\"><pre>LogisticRegression()</pre><b>In a Jupyter environment, please rerun this cell to show the HTML representation or trust the notebook. <br />On GitHub, the HTML representation is unable to render, please try loading this page with nbviewer.org.</b></div><div class=\"sk-container\" hidden><div class=\"sk-item\"><div class=\"sk-estimator sk-toggleable\"><input class=\"sk-toggleable__control sk-hidden--visually\" id=\"sk-estimator-id-1\" type=\"checkbox\" checked><label for=\"sk-estimator-id-1\" class=\"sk-toggleable__label sk-toggleable__label-arrow\">LogisticRegression</label><div class=\"sk-toggleable__content\"><pre>LogisticRegression()</pre></div></div></div></div></div>"
      ],
      "text/plain": [
       "LogisticRegression()"
      ]
     },
     "execution_count": 11,
     "metadata": {},
     "output_type": "execute_result"
    }
   ],
   "source": [
    "from sklearn.linear_model import LogisticRegression\n",
    "\n",
    "#set default parameters\n",
    "log_reg = LogisticRegression()\n",
    "# Train using the training set\n",
    "log_reg.fit(x_train, y_train)"
   ]
  },
  {
   "cell_type": "code",
   "execution_count": 12,
   "id": "9c4c7b56",
   "metadata": {},
   "outputs": [],
   "source": [
    "#performing prediction\n",
    "y_pred=log_reg.predict(x_train)"
   ]
  },
  {
   "cell_type": "code",
   "execution_count": 13,
   "id": "6da0b8b5",
   "metadata": {},
   "outputs": [],
   "source": [
    "def peek_results(actual, predicted, num = 20):\n",
    "    print('actual |  Predicted')\n",
    "    print('------------------')\n",
    "    for i in range(num):\n",
    "        sel = np.random.randint(0, len(y_train))\n",
    "        print(actual[sel], ' |', predicted[sel])\n",
    "        \n",
    "def peek_scores(actual, scores, num = 20):\n",
    "    print('actual |  score')\n",
    "    print('------------------')\n",
    "    for i in range(num):\n",
    "        sel = np.random.randint(0, len(y_train))\n",
    "        print(actual[sel], ' |', scores[sel])"
   ]
  },
  {
   "cell_type": "code",
   "execution_count": 14,
   "id": "5dd6115f",
   "metadata": {},
   "outputs": [],
   "source": [
    "y_train = y_train.values;  #convert to numpy array"
   ]
  },
  {
   "cell_type": "code",
   "execution_count": 15,
   "id": "9683c3fa",
   "metadata": {},
   "outputs": [
    {
     "name": "stdout",
     "output_type": "stream",
     "text": [
      "actual |  Predicted\n",
      "------------------\n",
      "1.0  | 1.0\n",
      "1.0  | 1.0\n",
      "0.0  | 0.0\n",
      "0.0  | 0.0\n",
      "1.0  | 0.0\n",
      "1.0  | 1.0\n",
      "1.0  | 1.0\n",
      "0.0  | 1.0\n",
      "0.0  | 0.0\n",
      "1.0  | 1.0\n",
      "0.0  | 0.0\n",
      "1.0  | 0.0\n",
      "0.0  | 0.0\n",
      "0.0  | 0.0\n",
      "0.0  | 0.0\n",
      "1.0  | 1.0\n",
      "0.0  | 0.0\n",
      "0.0  | 0.0\n",
      "1.0  | 1.0\n",
      "0.0  | 0.0\n"
     ]
    }
   ],
   "source": [
    "peek_results(y_train, y_pred)"
   ]
  },
  {
   "cell_type": "code",
   "execution_count": 16,
   "id": "c4ff3f85",
   "metadata": {},
   "outputs": [
    {
     "name": "stdout",
     "output_type": "stream",
     "text": [
      "Training accuracy:  0.8709\n"
     ]
    }
   ],
   "source": [
    "#Training Accuracy\n",
    "from sklearn.metrics import accuracy_score\n",
    "\n",
    "# Exercise: compute accuracy using accuracy_score and show the result\n",
    "acc=accuracy_score(y_train, y_pred)\n",
    "print(\"Training accuracy: \", round(acc, 4))"
   ]
  },
  {
   "cell_type": "code",
   "execution_count": 18,
   "id": "dbdb9b21",
   "metadata": {},
   "outputs": [
    {
     "name": "stdout",
     "output_type": "stream",
     "text": [
      "[0.87116913 0.86968613 0.8710483 ]\n"
     ]
    }
   ],
   "source": [
    "#Measuring training accuracy using Cross-Validation\n",
    "from sklearn.model_selection import cross_val_score\n",
    "\n",
    "# Exercise: compute 3-fold cross-validation accuracy and show the result\n",
    "k_scores = cross_val_score(log_reg, x_train, y_train, cv=3, scoring='accuracy')\n",
    "print(k_scores)"
   ]
  },
  {
   "cell_type": "code",
   "execution_count": 20,
   "id": "c03eb0fc",
   "metadata": {},
   "outputs": [
    {
     "name": "stdout",
     "output_type": "stream",
     "text": [
      "Accuracy using prediction values: 0.8709372280449507\n",
      "Accuracy using all zeros values: 0.5\n"
     ]
    }
   ],
   "source": [
    "#Problems with accuracy\n",
    "from sklearn.metrics import accuracy_score\n",
    "\n",
    "y_train_pred = log_reg.predict(x_train)  # make sure sgd_clf has been trained\n",
    "print('Accuracy using prediction values:', accuracy_score(y_train, y_train_pred))\n",
    "\n",
    "y_train_allfalse = np.zeros(len(y_train), dtype=bool)\n",
    "print('Accuracy using all zeros values:', accuracy_score(y_train, y_train_allfalse))"
   ]
  },
  {
   "cell_type": "code",
   "execution_count": 22,
   "id": "c70b5a3c",
   "metadata": {},
   "outputs": [],
   "source": [
    "#Perform cross-validated prediction\n",
    "from sklearn.model_selection import cross_val_predict\n",
    "\n",
    "#perform cross-validatied prediction using cross_val_predict\n",
    "y_pred_cv = cross_val_predict(log_reg, x_train, y_train, cv=3)"
   ]
  },
  {
   "cell_type": "code",
   "execution_count": 23,
   "id": "b682c6a9",
   "metadata": {},
   "outputs": [
    {
     "name": "stdout",
     "output_type": "stream",
     "text": [
      "actual |  Predicted\n",
      "------------------\n",
      "1.0  | 1.0\n",
      "1.0  | 1.0\n",
      "0.0  | 0.0\n",
      "0.0  | 0.0\n",
      "0.0  | 0.0\n",
      "1.0  | 1.0\n",
      "1.0  | 1.0\n",
      "1.0  | 1.0\n",
      "0.0  | 1.0\n",
      "0.0  | 0.0\n",
      "0.0  | 0.0\n",
      "0.0  | 0.0\n",
      "0.0  | 0.0\n",
      "0.0  | 0.0\n",
      "0.0  | 0.0\n",
      "1.0  | 1.0\n",
      "1.0  | 1.0\n",
      "1.0  | 1.0\n",
      "1.0  | 1.0\n",
      "1.0  | 1.0\n"
     ]
    }
   ],
   "source": [
    "#display some random result \n",
    "peek_results(y_train, y_pred_cv)"
   ]
  },
  {
   "cell_type": "code",
   "execution_count": 24,
   "id": "1400eb96",
   "metadata": {},
   "outputs": [
    {
     "data": {
      "text/plain": [
       "array([[22685,  3744],\n",
       "       [ 3094, 23335]], dtype=int64)"
      ]
     },
     "execution_count": 24,
     "metadata": {},
     "output_type": "execute_result"
    }
   ],
   "source": [
    "#Compute confusion metrics\n",
    "from sklearn.metrics import confusion_matrix\n",
    "cm=confusion_matrix(y_train, y_pred_cv)\n",
    "cm"
   ]
  },
  {
   "cell_type": "code",
   "execution_count": 22,
   "id": "c5cddf24",
   "metadata": {},
   "outputs": [
    {
     "data": {
      "image/png": "[encoded data removed]",
      "text/plain": [
       "<Figure size 432x288 with 2 Axes>"
      ]
     },
     "metadata": {
      "needs_background": "light"
     },
     "output_type": "display_data"
    }
   ],
   "source": [
    "#Plotting the confusion matrix\n",
    "group_names = ['True Neg','False Pos','False Neg','True Pos']\n",
    "\n",
    "group_counts = [\"{0:0.0f}\".format(value) for value in\n",
    "                cm.flatten()]\n",
    "\n",
    "group_percentages = [\"{0:.2%}\".format(value) for value in\n",
    "                     cm.flatten()/np.sum(cm)]\n",
    "\n",
    "labels = [f\"{v1}\\n{v2}\\n{v3}\" for v1, v2, v3 in\n",
    "          zip(group_names,group_counts,group_percentages)]\n",
    "\n",
    "labels = np.asarray(labels).reshape(2,2)\n",
    "\n",
    "ax = sns.heatmap(cm, annot=labels, fmt='', cmap='Blues')\n",
    "\n",
    "ax.set_title('Confusion Matrix with labels\\n\\n');\n",
    "ax.set_xlabel('\\nPredicted Values')\n",
    "ax.set_ylabel('Actual Values ');\n",
    "\n",
    "## Ticket labels - List must be in alphabetical order\n",
    "ax.xaxis.set_ticklabels(['False','True'])\n",
    "ax.yaxis.set_ticklabels(['False','True'])\n",
    "\n",
    "## Display the visualization of the Confusion Matrix.\n",
    "plt.show()"
   ]
  },
  {
   "cell_type": "code",
   "execution_count": 25,
   "id": "046852d1",
   "metadata": {},
   "outputs": [
    {
     "name": "stdout",
     "output_type": "stream",
     "text": [
      "Precision:  0.8617\n",
      "Recall:  0.8829\n",
      "F1 score:  0.8722\n"
     ]
    }
   ],
   "source": [
    "#Performance Measure: Precision, Recall and F1 Scorei\n",
    "from sklearn.metrics import precision_score, recall_score, f1_score\n",
    "\n",
    "precision=round(precision_score(y_train, y_pred_cv),4)\n",
    "recall=round(recall_score(y_train, y_pred_cv),4)\n",
    "f1_score=round(f1_score(y_train, y_pred_cv),4)\n",
    "print(\"Precision: \",precision)\n",
    "print(\"Recall: \",recall)\n",
    "print(\"F1 score: \", f1_score)"
   ]
  },
  {
   "cell_type": "code",
   "execution_count": 27,
   "id": "cb7248a2",
   "metadata": {},
   "outputs": [
    {
     "name": "stdout",
     "output_type": "stream",
     "text": [
      "actual |  score\n",
      "------------------\n",
      "0.0  | [0.92599077 0.07400923]\n",
      "0.0  | [0.86559308 0.13440692]\n",
      "0.0  | [0.96987262 0.03012738]\n",
      "1.0  | [0.70990772 0.29009228]\n",
      "0.0  | [0.97646824 0.02353176]\n",
      "1.0  | [0.4342435 0.5657565]\n",
      "1.0  | [0.53558447 0.46441553]\n",
      "1.0  | [0.00145212 0.99854788]\n",
      "1.0  | [0.51765105 0.48234895]\n",
      "1.0  | [0.15019523 0.84980477]\n",
      "0.0  | [0.9068218 0.0931782]\n",
      "0.0  | [0.91692461 0.08307539]\n",
      "1.0  | [0.01127388 0.98872612]\n",
      "1.0  | [0.09460835 0.90539165]\n",
      "1.0  | [0.00576166 0.99423834]\n",
      "1.0  | [0.00559664 0.99440336]\n",
      "1.0  | [0.51851406 0.48148594]\n",
      "1.0  | [0.02090088 0.97909912]\n",
      "0.0  | [0.37965342 0.62034658]\n",
      "1.0  | [0.08667303 0.91332697]\n"
     ]
    }
   ],
   "source": [
    "#Generating prediction scores\n",
    "\n",
    "y_scores = log_reg.predict_proba(x_train) # retrieve classification scores\n",
    "peek_scores(y_train, y_scores)"
   ]
  },
  {
   "cell_type": "code",
   "execution_count": 29,
   "id": "a9e204f1",
   "metadata": {},
   "outputs": [],
   "source": [
    "#retrieve the average cross-validated prediction score values for all samples \n",
    "y_scores_cv = cross_val_predict(log_reg, x_train, y_train, cv=3, method=\"predict_proba\")\n",
    "y_scores_cv\n",
    "y_scores_cv = y_scores_cv[:, 1]\n"
   ]
  },
  {
   "cell_type": "code",
   "execution_count": 30,
   "id": "4804f05e",
   "metadata": {},
   "outputs": [],
   "source": [
    "#Plot precision and recall graph\n",
    "from sklearn.metrics import precision_recall_curve\n",
    "\n",
    "#compute precision-recall pairs for different threshold values \n",
    "precisions, recalls, thresholds = precision_recall_curve(y_train, y_scores_cv)"
   ]
  },
  {
   "cell_type": "code",
   "execution_count": 31,
   "id": "84f2effa",
   "metadata": {},
   "outputs": [],
   "source": [
    "def plot_precision_vs_recall(precisions, recalls):\n",
    "    plt.plot(recalls, precisions, \"b-\", linewidth=3)\n",
    "    plt.plot(np.linspace(0, 1, 20), np.linspace(1, 0, 20), 'k--')\n",
    "    plt.xlabel(\"Recall\", fontsize=16)\n",
    "    plt.ylabel(\"Precision\", fontsize=16)\n",
    "    plt.axis([0, 1, 0, 1])\n",
    "        \n",
    "def plot_roc_curve (fpr, tpr, style = 'b-', label = None):\n",
    "    plt.plot(fpr, tpr, style, linewidth = 3, label = label)\n",
    "    plt.plot([0,1], [0, 1], 'k--')\n",
    "    plt.axis([0, 1, 0, 1])\n",
    "    plt.xlabel ('False Positive Rate')\n",
    "    plt.ylabel ('True Positive Rate')\n",
    "    plt.title('TPR vs FPR', fontsize=20)"
   ]
  },
  {
   "cell_type": "code",
   "execution_count": 32,
   "id": "a811634f",
   "metadata": {},
   "outputs": [
    {
     "data": {
      "image/png": "[encoded data removed]",
      "text/plain": [
       "<Figure size 576x432 with 1 Axes>"
      ]
     },
     "metadata": {
      "needs_background": "light"
     },
     "output_type": "display_data"
    }
   ],
   "source": [
    "#Plot precision and recall graph\n",
    "plt.figure(figsize=(8, 6))\n",
    "plot_precision_vs_recall(precisions, recalls)\n",
    "plt.title ('Precision-Recall Graph (Training Set)', fontsize = 20)\n",
    "plt.show()"
   ]
  },
  {
   "cell_type": "code",
   "execution_count": 33,
   "id": "91f06b05",
   "metadata": {},
   "outputs": [],
   "source": [
    "#Plot ROC graph\n",
    "from sklearn.metrics import roc_curve\n",
    "\n",
    "# Exercise: compute FPR-TPR pairs \n",
    "fpr, tpr, thresholds = roc_curve(y_train, y_scores_cv)"
   ]
  },
  {
   "cell_type": "code",
   "execution_count": 34,
   "id": "1f48d209",
   "metadata": {
    "scrolled": true
   },
   "outputs": [
    {
     "data": {
      "image/png": "[encoded data removed]",
      "text/plain": [
       "<Figure size 432x288 with 1 Axes>"
      ]
     },
     "metadata": {
      "needs_background": "light"
     },
     "output_type": "display_data"
    }
   ],
   "source": [
    "plot_roc_curve(fpr, tpr)"
   ]
  },
  {
   "cell_type": "code",
   "execution_count": 35,
   "id": "2d1d8f60",
   "metadata": {},
   "outputs": [
    {
     "name": "stdout",
     "output_type": "stream",
     "text": [
      "AUC = 0.9371\n"
     ]
    }
   ],
   "source": [
    "#The AUC (Area under curve) measure\n",
    "from sklearn.metrics import roc_auc_score\n",
    "\n",
    "auc = roc_auc_score(y_train, y_scores_cv)\n",
    "\n",
    "print('AUC = {:.4f}'.format(auc))"
   ]
  },
  {
   "cell_type": "code",
   "execution_count": 38,
   "id": "780d1960",
   "metadata": {},
   "outputs": [
    {
     "name": "stderr",
     "output_type": "stream",
     "text": [
      "C:\\Users\\shinj\\anaconda3\\lib\\site-packages\\sklearn\\model_selection\\_search.py:306: UserWarning: The total space of parameters 54 is smaller than n_iter=100. Running 54 iterations. For exhaustive searches, use GridSearchCV.\n",
      "  warnings.warn(\n"
     ]
    },
    {
     "name": "stdout",
     "output_type": "stream",
     "text": [
      "Fitting 5 folds for each of 54 candidates, totalling 270 fits\n"
     ]
    },
    {
     "data": {
      "text/html": [
       "<style>#sk-container-id-2 {color: black;background-color: white;}#sk-container-id-2 pre{padding: 0;}#sk-container-id-2 div.sk-toggleable {background-color: white;}#sk-container-id-2 label.sk-toggleable__label {cursor: pointer;display: block;width: 100%;margin-bottom: 0;padding: 0.3em;box-sizing: border-box;text-align: center;}#sk-container-id-2 label.sk-toggleable__label-arrow:before {content: \"▸\";float: left;margin-right: 0.25em;color: #696969;}#sk-container-id-2 label.sk-toggleable__label-arrow:hover:before {color: black;}#sk-container-id-2 div.sk-estimator:hover label.sk-toggleable__label-arrow:before {color: black;}#sk-container-id-2 div.sk-toggleable__content {max-height: 0;max-width: 0;overflow: hidden;text-align: left;background-color: #f0f8ff;}#sk-container-id-2 div.sk-toggleable__content pre {margin: 0.2em;color: black;border-radius: 0.25em;background-color: #f0f8ff;}#sk-container-id-2 input.sk-toggleable__control:checked~div.sk-toggleable__content {max-height: 200px;max-width: 100%;overflow: auto;}#sk-container-id-2 input.sk-toggleable__control:checked~label.sk-toggleable__label-arrow:before {content: \"▾\";}#sk-container-id-2 div.sk-estimator input.sk-toggleable__control:checked~label.sk-toggleable__label {background-color: #d4ebff;}#sk-container-id-2 div.sk-label input.sk-toggleable__control:checked~label.sk-toggleable__label {background-color: #d4ebff;}#sk-container-id-2 input.sk-hidden--visually {border: 0;clip: rect(1px 1px 1px 1px);clip: rect(1px, 1px, 1px, 1px);height: 1px;margin: -1px;overflow: hidden;padding: 0;position: absolute;width: 1px;}#sk-container-id-2 div.sk-estimator {font-family: monospace;background-color: #f0f8ff;border: 1px dotted black;border-radius: 0.25em;box-sizing: border-box;margin-bottom: 0.5em;}#sk-container-id-2 div.sk-estimator:hover {background-color: #d4ebff;}#sk-container-id-2 div.sk-parallel-item::after {content: \"\";width: 100%;border-bottom: 1px solid gray;flex-grow: 1;}#sk-container-id-2 div.sk-label:hover label.sk-toggleable__label {background-color: #d4ebff;}#sk-container-id-2 div.sk-serial::before {content: \"\";position: absolute;border-left: 1px solid gray;box-sizing: border-box;top: 0;bottom: 0;left: 50%;z-index: 0;}#sk-container-id-2 div.sk-serial {display: flex;flex-direction: column;align-items: center;background-color: white;padding-right: 0.2em;padding-left: 0.2em;position: relative;}#sk-container-id-2 div.sk-item {position: relative;z-index: 1;}#sk-container-id-2 div.sk-parallel {display: flex;align-items: stretch;justify-content: center;background-color: white;position: relative;}#sk-container-id-2 div.sk-item::before, #sk-container-id-2 div.sk-parallel-item::before {content: \"\";position: absolute;border-left: 1px solid gray;box-sizing: border-box;top: 0;bottom: 0;left: 50%;z-index: -1;}#sk-container-id-2 div.sk-parallel-item {display: flex;flex-direction: column;z-index: 1;position: relative;background-color: white;}#sk-container-id-2 div.sk-parallel-item:first-child::after {align-self: flex-end;width: 50%;}#sk-container-id-2 div.sk-parallel-item:last-child::after {align-self: flex-start;width: 50%;}#sk-container-id-2 div.sk-parallel-item:only-child::after {width: 0;}#sk-container-id-2 div.sk-dashed-wrapped {border: 1px dashed gray;margin: 0 0.4em 0.5em 0.4em;box-sizing: border-box;padding-bottom: 0.4em;background-color: white;}#sk-container-id-2 div.sk-label label {font-family: monospace;font-weight: bold;display: inline-block;line-height: 1.2em;}#sk-container-id-2 div.sk-label-container {text-align: center;}#sk-container-id-2 div.sk-container {/* jupyter's `normalize.less` sets `[hidden] { display: none; }` but bootstrap.min.css set `[hidden] { display: none !important; }` so we also need the `!important` here to be able to override the default hidden behavior on the sphinx rendered scikit-learn.org. See: https://github.com/scikit-learn/scikit-learn/issues/21755 */display: inline-block !important;position: relative;}#sk-container-id-2 div.sk-text-repr-fallback {display: none;}</style><div id=\"sk-container-id-2\" class=\"sk-top-container\"><div class=\"sk-text-repr-fallback\"><pre>RandomizedSearchCV(estimator=LogisticRegression(), n_iter=100, n_jobs=-1,\n",
       "                   param_distributions={&#x27;C&#x27;: [0.333, 0.666, 0.999],\n",
       "                                        &#x27;max_iter&#x27;: [100, 300, 500],\n",
       "                                        &#x27;solver&#x27;: [&#x27;lbfgs&#x27;, &#x27;newton-cg&#x27;,\n",
       "                                                   &#x27;liblinear&#x27;],\n",
       "                                        &#x27;warm_start&#x27;: [True, False]},\n",
       "                   random_state=1, scoring=&#x27;accuracy&#x27;, verbose=1)</pre><b>In a Jupyter environment, please rerun this cell to show the HTML representation or trust the notebook. <br />On GitHub, the HTML representation is unable to render, please try loading this page with nbviewer.org.</b></div><div class=\"sk-container\" hidden><div class=\"sk-item sk-dashed-wrapped\"><div class=\"sk-label-container\"><div class=\"sk-label sk-toggleable\"><input class=\"sk-toggleable__control sk-hidden--visually\" id=\"sk-estimator-id-2\" type=\"checkbox\" ><label for=\"sk-estimator-id-2\" class=\"sk-toggleable__label sk-toggleable__label-arrow\">RandomizedSearchCV</label><div class=\"sk-toggleable__content\"><pre>RandomizedSearchCV(estimator=LogisticRegression(), n_iter=100, n_jobs=-1,\n",
       "                   param_distributions={&#x27;C&#x27;: [0.333, 0.666, 0.999],\n",
       "                                        &#x27;max_iter&#x27;: [100, 300, 500],\n",
       "                                        &#x27;solver&#x27;: [&#x27;lbfgs&#x27;, &#x27;newton-cg&#x27;,\n",
       "                                                   &#x27;liblinear&#x27;],\n",
       "                                        &#x27;warm_start&#x27;: [True, False]},\n",
       "                   random_state=1, scoring=&#x27;accuracy&#x27;, verbose=1)</pre></div></div></div><div class=\"sk-parallel\"><div class=\"sk-parallel-item\"><div class=\"sk-item\"><div class=\"sk-label-container\"><div class=\"sk-label sk-toggleable\"><input class=\"sk-toggleable__control sk-hidden--visually\" id=\"sk-estimator-id-3\" type=\"checkbox\" ><label for=\"sk-estimator-id-3\" class=\"sk-toggleable__label sk-toggleable__label-arrow\">estimator: LogisticRegression</label><div class=\"sk-toggleable__content\"><pre>LogisticRegression()</pre></div></div></div><div class=\"sk-serial\"><div class=\"sk-item\"><div class=\"sk-estimator sk-toggleable\"><input class=\"sk-toggleable__control sk-hidden--visually\" id=\"sk-estimator-id-4\" type=\"checkbox\" ><label for=\"sk-estimator-id-4\" class=\"sk-toggleable__label sk-toggleable__label-arrow\">LogisticRegression</label><div class=\"sk-toggleable__content\"><pre>LogisticRegression()</pre></div></div></div></div></div></div></div></div></div></div>"
      ],
      "text/plain": [
       "RandomizedSearchCV(estimator=LogisticRegression(), n_iter=100, n_jobs=-1,\n",
       "                   param_distributions={'C': [0.333, 0.666, 0.999],\n",
       "                                        'max_iter': [100, 300, 500],\n",
       "                                        'solver': ['lbfgs', 'newton-cg',\n",
       "                                                   'liblinear'],\n",
       "                                        'warm_start': [True, False]},\n",
       "                   random_state=1, scoring='accuracy', verbose=1)"
      ]
     },
     "execution_count": 38,
     "metadata": {},
     "output_type": "execute_result"
    }
   ],
   "source": [
    "from sklearn.model_selection import RandomizedSearchCV\n",
    "max_iter = [100,300, 500]\n",
    "solver = ['lbfgs', 'newton-cg', 'liblinear']\n",
    "warm_start = [True, False]\n",
    "C = [0.333, 0.666, 0.999]\n",
    "random_grid ={\n",
    "    'max_iter' : max_iter,\n",
    "    'warm_start' : warm_start,\n",
    "    'solver' : solver,\n",
    "    'C' : C,\n",
    "}\n",
    "\n",
    "random_estimator = RandomizedSearchCV(estimator = log_reg,\n",
    "                                   param_distributions = random_grid,\n",
    "                                   n_iter = 100,\n",
    "                                   scoring = 'accuracy',\n",
    "                                   n_jobs = -1,\n",
    "                                   verbose = 1, \n",
    "                                   random_state = 1,\n",
    "                                  )\n",
    "\n",
    "random_estimator.fit(x_train, y_train)"
   ]
  },
  {
   "cell_type": "code",
   "execution_count": 61,
   "id": "d7f4b2b0",
   "metadata": {},
   "outputs": [
    {
     "data": {
      "text/html": [
       "<style>#sk-container-id-4 {color: black;background-color: white;}#sk-container-id-4 pre{padding: 0;}#sk-container-id-4 div.sk-toggleable {background-color: white;}#sk-container-id-4 label.sk-toggleable__label {cursor: pointer;display: block;width: 100%;margin-bottom: 0;padding: 0.3em;box-sizing: border-box;text-align: center;}#sk-container-id-4 label.sk-toggleable__label-arrow:before {content: \"▸\";float: left;margin-right: 0.25em;color: #696969;}#sk-container-id-4 label.sk-toggleable__label-arrow:hover:before {color: black;}#sk-container-id-4 div.sk-estimator:hover label.sk-toggleable__label-arrow:before {color: black;}#sk-container-id-4 div.sk-toggleable__content {max-height: 0;max-width: 0;overflow: hidden;text-align: left;background-color: #f0f8ff;}#sk-container-id-4 div.sk-toggleable__content pre {margin: 0.2em;color: black;border-radius: 0.25em;background-color: #f0f8ff;}#sk-container-id-4 input.sk-toggleable__control:checked~div.sk-toggleable__content {max-height: 200px;max-width: 100%;overflow: auto;}#sk-container-id-4 input.sk-toggleable__control:checked~label.sk-toggleable__label-arrow:before {content: \"▾\";}#sk-container-id-4 div.sk-estimator input.sk-toggleable__control:checked~label.sk-toggleable__label {background-color: #d4ebff;}#sk-container-id-4 div.sk-label input.sk-toggleable__control:checked~label.sk-toggleable__label {background-color: #d4ebff;}#sk-container-id-4 input.sk-hidden--visually {border: 0;clip: rect(1px 1px 1px 1px);clip: rect(1px, 1px, 1px, 1px);height: 1px;margin: -1px;overflow: hidden;padding: 0;position: absolute;width: 1px;}#sk-container-id-4 div.sk-estimator {font-family: monospace;background-color: #f0f8ff;border: 1px dotted black;border-radius: 0.25em;box-sizing: border-box;margin-bottom: 0.5em;}#sk-container-id-4 div.sk-estimator:hover {background-color: #d4ebff;}#sk-container-id-4 div.sk-parallel-item::after {content: \"\";width: 100%;border-bottom: 1px solid gray;flex-grow: 1;}#sk-container-id-4 div.sk-label:hover label.sk-toggleable__label {background-color: #d4ebff;}#sk-container-id-4 div.sk-serial::before {content: \"\";position: absolute;border-left: 1px solid gray;box-sizing: border-box;top: 0;bottom: 0;left: 50%;z-index: 0;}#sk-container-id-4 div.sk-serial {display: flex;flex-direction: column;align-items: center;background-color: white;padding-right: 0.2em;padding-left: 0.2em;position: relative;}#sk-container-id-4 div.sk-item {position: relative;z-index: 1;}#sk-container-id-4 div.sk-parallel {display: flex;align-items: stretch;justify-content: center;background-color: white;position: relative;}#sk-container-id-4 div.sk-item::before, #sk-container-id-4 div.sk-parallel-item::before {content: \"\";position: absolute;border-left: 1px solid gray;box-sizing: border-box;top: 0;bottom: 0;left: 50%;z-index: -1;}#sk-container-id-4 div.sk-parallel-item {display: flex;flex-direction: column;z-index: 1;position: relative;background-color: white;}#sk-container-id-4 div.sk-parallel-item:first-child::after {align-self: flex-end;width: 50%;}#sk-container-id-4 div.sk-parallel-item:last-child::after {align-self: flex-start;width: 50%;}#sk-container-id-4 div.sk-parallel-item:only-child::after {width: 0;}#sk-container-id-4 div.sk-dashed-wrapped {border: 1px dashed gray;margin: 0 0.4em 0.5em 0.4em;box-sizing: border-box;padding-bottom: 0.4em;background-color: white;}#sk-container-id-4 div.sk-label label {font-family: monospace;font-weight: bold;display: inline-block;line-height: 1.2em;}#sk-container-id-4 div.sk-label-container {text-align: center;}#sk-container-id-4 div.sk-container {/* jupyter's `normalize.less` sets `[hidden] { display: none; }` but bootstrap.min.css set `[hidden] { display: none !important; }` so we also need the `!important` here to be able to override the default hidden behavior on the sphinx rendered scikit-learn.org. See: https://github.com/scikit-learn/scikit-learn/issues/21755 */display: inline-block !important;position: relative;}#sk-container-id-4 div.sk-text-repr-fallback {display: none;}</style><div id=\"sk-container-id-4\" class=\"sk-top-container\"><div class=\"sk-text-repr-fallback\"><pre>LogisticRegression(C=0.666, warm_start=True)</pre><b>In a Jupyter environment, please rerun this cell to show the HTML representation or trust the notebook. <br />On GitHub, the HTML representation is unable to render, please try loading this page with nbviewer.org.</b></div><div class=\"sk-container\" hidden><div class=\"sk-item\"><div class=\"sk-estimator sk-toggleable\"><input class=\"sk-toggleable__control sk-hidden--visually\" id=\"sk-estimator-id-6\" type=\"checkbox\" checked><label for=\"sk-estimator-id-6\" class=\"sk-toggleable__label sk-toggleable__label-arrow\">LogisticRegression</label><div class=\"sk-toggleable__content\"><pre>LogisticRegression(C=0.666, warm_start=True)</pre></div></div></div></div></div>"
      ],
      "text/plain": [
       "LogisticRegression(C=0.666, warm_start=True)"
      ]
     },
     "execution_count": 61,
     "metadata": {},
     "output_type": "execute_result"
    }
   ],
   "source": [
    "best_model = random_estimator.best_estimator_\n",
    "best_model"
   ]
  },
  {
   "cell_type": "markdown",
   "id": "039fba44",
   "metadata": {},
   "source": [
    "# Manual Setting"
   ]
  },
  {
   "cell_type": "code",
   "execution_count": 63,
   "id": "053a419c",
   "metadata": {},
   "outputs": [
    {
     "name": "stdout",
     "output_type": "stream",
     "text": [
      "Training accuracy:  0.8714\n"
     ]
    },
    {
     "data": {
      "image/png": "[encoded data removed]",
      "text/plain": [
       "<Figure size 432x288 with 2 Axes>"
      ]
     },
     "metadata": {
      "needs_background": "light"
     },
     "output_type": "display_data"
    },
    {
     "name": "stdout",
     "output_type": "stream",
     "text": [
      "Precision:  0.8622\n",
      "Recall:  0.884\n",
      "F1 score:  0.873\n"
     ]
    }
   ],
   "source": [
    "y_train_predict_manual=best_model.predict(x_train)\n",
    "acc=accuracy_score(y_train, y_train_predict_manual)\n",
    "print(\"Training accuracy: \", round(acc, 4))\n",
    "#Compute confusion metrics\n",
    "from sklearn.metrics import confusion_matrix\n",
    "cm_manual=confusion_matrix(y_train, y_train_predict_manual)\n",
    "cm_manual\n",
    "\n",
    "#Plotting the confusion matrix\n",
    "group_names = ['True Neg','False Pos','False Neg','True Pos']\n",
    "\n",
    "group_counts = [\"{0:0.0f}\".format(value) for value in\n",
    "                cm_test.flatten()]\n",
    "\n",
    "group_percentages = [\"{0:.2%}\".format(value) for value in\n",
    "                     cm_test.flatten()/np.sum(cm_test)]\n",
    "\n",
    "labels = [f\"{v1}\\n{v2}\\n{v3}\" for v1, v2, v3 in\n",
    "          zip(group_names,group_counts,group_percentages)]\n",
    "\n",
    "labels = np.asarray(labels).reshape(2,2)\n",
    "\n",
    "ax = sns.heatmap(cm, annot=labels, fmt='', cmap='Blues')\n",
    "\n",
    "ax.set_title('Confusion Matrix with labels\\n\\n');\n",
    "ax.set_xlabel('\\nPredicted Values')\n",
    "ax.set_ylabel('Actual Values ');\n",
    "\n",
    "## Ticket labels - List must be in alphabetical order\n",
    "ax.xaxis.set_ticklabels(['False','True'])\n",
    "ax.yaxis.set_ticklabels(['False','True'])\n",
    "\n",
    "## Display the visualization of the Confusion Matrix.\n",
    "plt.show()\n",
    "\n",
    "from sklearn.metrics import precision_score, recall_score, f1_score\n",
    "\n",
    "precision=round(precision_score(y_train, y_train_predict_manual),4)\n",
    "recall=round(recall_score(y_train, y_train_predict_manual),4)\n",
    "f1_score=round(f1_score(y_train, y_train_predict_manual),4)\n",
    "print(\"Precision: \",precision)\n",
    "print(\"Recall: \",recall)\n",
    "print(\"F1 score: \", f1_score)"
   ]
  },
  {
   "cell_type": "markdown",
   "id": "e82db1f8",
   "metadata": {},
   "source": [
    "# Test Case"
   ]
  },
  {
   "cell_type": "code",
   "execution_count": 40,
   "id": "639781fa",
   "metadata": {},
   "outputs": [],
   "source": [
    "from sklearn.impute import SimpleImputer\n",
    "imputer=SimpleImputer(strategy = 'most_frequent')\n",
    "imputer.fit(x_test)\n",
    "x_test_tr=imputer.transform(x_test)\n",
    "x_test_tr_pd = pd.DataFrame(x_test_tr, columns = x_test.columns)\n",
    "x_test_tr_pd.isnull().sum() #no missing value in numerical after replacement of data\n",
    "#use standard Scaler to [defination], to prevent....\n",
    "#after the standard scaler function, value of mean and stdev will....\n",
    "from sklearn.preprocessing import StandardScaler\n",
    "scaler=StandardScaler(copy=False)\n",
    "scaler.fit(x_test_tr_pd)\n",
    "x_test_tr=scaler.transform(x_test_tr_pd)\n",
    "x_test_tr\n",
    "\n",
    "y_test= pd.DataFrame(y_test)\n",
    "df_test_tr = np.hstack([x_test_tr, y_test])\n",
    "df_test_tr=pd.DataFrame(df_test_tr)"
   ]
  },
  {
   "cell_type": "code",
   "execution_count": 41,
   "id": "e3b8902b",
   "metadata": {},
   "outputs": [
    {
     "name": "stdout",
     "output_type": "stream",
     "text": [
      "After Over Sampling Of Minor Class Total Samples are : 52858\n",
      "Class 0        : 50.0 % of the dataset\n",
      "Class 1(Fraud) : 50.0 % of the dataset\n"
     ]
    }
   ],
   "source": [
    "X_data_test = df_test_tr.iloc[:, :-1]\n",
    "Y_data_test = df_test_tr.iloc[:, -1:]\n",
    "\n",
    "ros = RandomOverSampler(random_state = 42)\n",
    "   \n",
    "X_res_test, y_res_test = ros.fit_resample(X_data_test, Y_data_test)\n",
    "   \n",
    "X_res_test = pd.DataFrame(X_res_test)\n",
    "Y_res_test = pd.DataFrame(y_res_test)\n",
    "   \n",
    "   \n",
    "print(\"After Over Sampling Of Minor Class Total Samples are :\", len(Y_res))\n",
    "print('Class 0        :', round(Y_res[38].value_counts()[0]/len(Y_res) * 100, 2), '% of the dataset')\n",
    "   \n",
    "print('Class 1(Fraud) :', round(Y_res[38].value_counts()[1]/len(Y_res) * 100, 2), '% of the dataset')"
   ]
  },
  {
   "cell_type": "code",
   "execution_count": 42,
   "id": "3ad81299",
   "metadata": {},
   "outputs": [],
   "source": [
    "df_test_tr_ros = np.hstack([X_res_test, Y_res_test])\n",
    "df_test_tr_ros = pd.DataFrame(df_test_tr_ros)"
   ]
  },
  {
   "cell_type": "code",
   "execution_count": 43,
   "id": "3019634f",
   "metadata": {},
   "outputs": [
    {
     "data": {
      "text/plain": [
       "0        0.0\n",
       "1        0.0\n",
       "2        0.0\n",
       "3        0.0\n",
       "4        0.0\n",
       "        ... \n",
       "13121    1.0\n",
       "13122    1.0\n",
       "13123    1.0\n",
       "13124    1.0\n",
       "13125    1.0\n",
       "Name: 38, Length: 13126, dtype: float64"
      ]
     },
     "execution_count": 43,
     "metadata": {},
     "output_type": "execute_result"
    }
   ],
   "source": [
    "x_test=df_test_tr_ros.drop(38, axis=1)\n",
    "y_test=df_test_tr_ros[38]\n",
    "y_test"
   ]
  },
  {
   "cell_type": "code",
   "execution_count": 44,
   "id": "04f014b8",
   "metadata": {},
   "outputs": [],
   "source": [
    "y_pred_test=best_model.predict(x_test)"
   ]
  },
  {
   "cell_type": "code",
   "execution_count": 45,
   "id": "684f78a2",
   "metadata": {},
   "outputs": [],
   "source": [
    "y_test = y_test.values;  #convert to numpy array"
   ]
  },
  {
   "cell_type": "code",
   "execution_count": 46,
   "id": "f0ba7833",
   "metadata": {},
   "outputs": [
    {
     "name": "stdout",
     "output_type": "stream",
     "text": [
      "Training accuracy:  0.8744\n"
     ]
    }
   ],
   "source": [
    "acc=accuracy_score(y_test, y_pred_test)\n",
    "print(\"Training accuracy: \", round(acc, 4))"
   ]
  },
  {
   "cell_type": "code",
   "execution_count": 58,
   "id": "f83c5ac8",
   "metadata": {},
   "outputs": [
    {
     "data": {
      "text/plain": [
       "array([[5622,  941],\n",
       "       [ 708, 5855]], dtype=int64)"
      ]
     },
     "execution_count": 58,
     "metadata": {},
     "output_type": "execute_result"
    }
   ],
   "source": [
    "#Compute confusion metrics\n",
    "from sklearn.metrics import confusion_matrix\n",
    "cm_test=confusion_matrix(y_test, y_pred_test)\n",
    "cm_test"
   ]
  },
  {
   "cell_type": "code",
   "execution_count": 59,
   "id": "e0f2d5b3",
   "metadata": {},
   "outputs": [
    {
     "data": {
      "image/png": "[encoded data removed]",
      "text/plain": [
       "<Figure size 432x288 with 2 Axes>"
      ]
     },
     "metadata": {
      "needs_background": "light"
     },
     "output_type": "display_data"
    }
   ],
   "source": [
    "#Plotting the confusion matrix\n",
    "group_names = ['True Neg','False Pos','False Neg','True Pos']\n",
    "\n",
    "group_counts = [\"{0:0.0f}\".format(value) for value in\n",
    "                cm_test.flatten()]\n",
    "\n",
    "group_percentages = [\"{0:.2%}\".format(value) for value in\n",
    "                     cm_test.flatten()/np.sum(cm_test)]\n",
    "\n",
    "labels = [f\"{v1}\\n{v2}\\n{v3}\" for v1, v2, v3 in\n",
    "          zip(group_names,group_counts,group_percentages)]\n",
    "\n",
    "labels = np.asarray(labels).reshape(2,2)\n",
    "\n",
    "ax = sns.heatmap(cm, annot=labels, fmt='', cmap='Blues')\n",
    "\n",
    "ax.set_title('Confusion Matrix with labels\\n\\n');\n",
    "ax.set_xlabel('\\nPredicted Values')\n",
    "ax.set_ylabel('Actual Values ');\n",
    "\n",
    "## Ticket labels - List must be in alphabetical order\n",
    "ax.xaxis.set_ticklabels(['False','True'])\n",
    "ax.yaxis.set_ticklabels(['False','True'])\n",
    "\n",
    "## Display the visualization of the Confusion Matrix.\n",
    "plt.show()"
   ]
  },
  {
   "cell_type": "code",
   "execution_count": 64,
   "id": "9c975354",
   "metadata": {},
   "outputs": [
    {
     "name": "stdout",
     "output_type": "stream",
     "text": [
      "Precision:  0.8615\n",
      "Recall:  0.8921\n",
      "F1 score:  0.8766\n",
      "AUC = 0.8744\n"
     ]
    }
   ],
   "source": [
    "from sklearn.metrics import precision_score, recall_score, f1_score\n",
    "\n",
    "precision=round(precision_score(y_test, y_pred_test),4)\n",
    "recall=round(recall_score(y_test, y_pred_test),4)\n",
    "f1_score=round(f1_score(y_test, y_pred_test),4)\n",
    "print(\"Precision: \",precision)\n",
    "print(\"Recall: \",recall)\n",
    "print(\"F1 score: \", f1_score)\n",
    "\n",
    "#The AUC (Area under curve) measure\n",
    "from sklearn.metrics import roc_auc_score\n",
    "auc = roc_auc_score(y_test, y_pred_test)\n",
    "print('AUC = {:.4f}'.format(auc))"
   ]
  },
  {
   "cell_type": "code",
   "execution_count": null,
   "id": "68854bde",
   "metadata": {},
   "outputs": [],
   "source": []
  }
 ],
 "metadata": {
  "kernelspec": {
   "display_name": "Python 3 (ipykernel)",
   "language": "python",
   "name": "python3"
  },
  "language_info": {
   "codemirror_mode": {
    "name": "ipython",
    "version": 3
   },
   "file_extension": ".py",
   "mimetype": "text/x-python",
   "name": "python",
   "nbconvert_exporter": "python",
   "pygments_lexer": "ipython3",
   "version": "3.9.12"
  }
 },
 "nbformat": 4,
 "nbformat_minor": 5
}
