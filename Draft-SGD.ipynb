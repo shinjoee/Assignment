{
 "cells": [
  {
   "cell_type": "code",
   "execution_count": 90,
   "id": "8b2937a0",
   "metadata": {},
   "outputs": [],
   "source": [
    "import pandas as pd \n",
    "import numpy as np\n",
    "import matplotlib.pyplot as plt\n",
    "import seaborn as sns"
   ]
  },
  {
   "cell_type": "markdown",
   "id": "cbd004db",
   "metadata": {},
   "source": [
    "## Function"
   ]
  },
  {
   "cell_type": "code",
   "execution_count": 98,
   "id": "f6902ee6",
   "metadata": {},
   "outputs": [],
   "source": [
    "# Missing value treatment[Unused]\n",
    "def deal_missing_value(df):\n",
    "    # check on missing value\n",
    "    print(pd.isna(df).sum())\n",
    "    \n",
    "    #drop the rows with missing value x8 \n",
    "    #categorical data only\n",
    "    df.dropna(axis=0, inplace=True)\n",
    "    \n",
    "    return df\n",
    "\n",
    "# detecting the outliers using boxplot\n",
    "def deal_outliers(df, col):\n",
    "    Q1, Q3 = np.percentile(df[col] , [25, 75])\n",
    "    IQR = Q3 - Q1\n",
    "    ul = Q3 + 1.5 * IQR\n",
    "    ll = Q1 - 1.5 * IQR\n",
    "\n",
    "    outliers = df[(df[col] > ul) | (df[col] < ll)]\n",
    "    print(len(outliers))\n",
    "    \n",
    "    df.loc[:, col] = np.where(df.loc[:, col] > ul, ul, np.where(df.loc[:, col] < ll, ll, df.loc[:, col]))\n",
    "    \n",
    "    return df\n",
    "\n",
    "# plot boxplot\n",
    "def plot_boxplot(df, col, desc):\n",
    "    sns.boxplot(x = col, data = df).set(title = 'Boxplot of ' + col + \" \" + desc)\n",
    "    plt.show()\n",
    "    \n",
    "def obtain_unique_value(df, col):\n",
    "    return dict(enumerate(df[col].unique()))\n",
    "\n",
    "def peek_results(actual, predicted, num = 20):\n",
    "    print('actual |  Predicted')\n",
    "    print('------------------')\n",
    "    for i in range(num):\n",
    "        sel = np.random.randint(0, len(y_train))\n",
    "        print(actual[sel], ' |', predicted[sel])\n",
    "        \n",
    "def peek_scores(actual, scores, num = 20):\n",
    "    print('actual |  score')\n",
    "    print('------------------')\n",
    "    for i in range(num):\n",
    "        sel = np.random.randint(0, len(y_train))\n",
    "        print(actual[sel], ' |', scores[sel])\n",
    "\n",
    "\n",
    "def plot_precision_vs_recall(precisions, recalls):\n",
    "    plt.plot(recalls, precisions, \"b-\", linewidth=3)\n",
    "    plt.plot(np.linspace(0, 1, 20), np.linspace(1, 0, 20), 'k--')\n",
    "    plt.xlabel(\"Recall\", fontsize=16)\n",
    "    plt.ylabel(\"Precision\", fontsize=16)\n",
    "    plt.axis([0, 1, 0, 1])\n",
    "        \n",
    "def plot_roc_curve (fpr, tpr, style = 'b-', label = None):\n",
    "    plt.plot(fpr, tpr, style, linewidth = 3, label = label)\n",
    "    plt.plot([0,1], [0, 1], 'k--')\n",
    "    plt.axis([0, 1, 0, 1])\n",
    "    plt.xlabel ('False Positive Rate')\n",
    "    plt.ylabel ('True Positive Rate')\n",
    "    plt.title('TPR vs FPR', fontsize=20)"
   ]
  },
  {
   "cell_type": "code",
   "execution_count": 91,
   "id": "ff3a3daa",
   "metadata": {},
   "outputs": [],
   "source": [
    "# Read csv data file\n",
    "df = pd.read_csv('dataset.csv')"
   ]
  },
  {
   "cell_type": "code",
   "execution_count": 92,
   "id": "04f7d6ca",
   "metadata": {},
   "outputs": [
    {
     "data": {
      "text/html": [
       "<div>\n",
       "<style scoped>\n",
       "    .dataframe tbody tr th:only-of-type {\n",
       "        vertical-align: middle;\n",
       "    }\n",
       "\n",
       "    .dataframe tbody tr th {\n",
       "        vertical-align: top;\n",
       "    }\n",
       "\n",
       "    .dataframe thead th {\n",
       "        text-align: right;\n",
       "    }\n",
       "</style>\n",
       "<table border=\"1\" class=\"dataframe\">\n",
       "  <thead>\n",
       "    <tr style=\"text-align: right;\">\n",
       "      <th></th>\n",
       "      <th>x1</th>\n",
       "      <th>x2</th>\n",
       "      <th>x3</th>\n",
       "      <th>x4</th>\n",
       "      <th>x5</th>\n",
       "      <th>x6</th>\n",
       "      <th>x7</th>\n",
       "      <th>x8</th>\n",
       "      <th>x9</th>\n",
       "      <th>x10</th>\n",
       "      <th>x11</th>\n",
       "      <th>x12</th>\n",
       "      <th>x13</th>\n",
       "      <th>x14</th>\n",
       "      <th>x15</th>\n",
       "      <th>x16</th>\n",
       "      <th>x17</th>\n",
       "      <th>y</th>\n",
       "    </tr>\n",
       "  </thead>\n",
       "  <tbody>\n",
       "    <tr>\n",
       "      <th>0</th>\n",
       "      <td>36</td>\n",
       "      <td>blue-collar</td>\n",
       "      <td>married</td>\n",
       "      <td>middle</td>\n",
       "      <td>no</td>\n",
       "      <td>yes</td>\n",
       "      <td>may</td>\n",
       "      <td>cell</td>\n",
       "      <td>239</td>\n",
       "      <td>1</td>\n",
       "      <td>999</td>\n",
       "      <td>0</td>\n",
       "      <td>-1.8</td>\n",
       "      <td>92.893</td>\n",
       "      <td>-46.2</td>\n",
       "      <td>1.344</td>\n",
       "      <td>5099.1</td>\n",
       "      <td>False</td>\n",
       "    </tr>\n",
       "    <tr>\n",
       "      <th>1</th>\n",
       "      <td>39</td>\n",
       "      <td>blue-collar</td>\n",
       "      <td>married</td>\n",
       "      <td>middle</td>\n",
       "      <td>yes</td>\n",
       "      <td>no</td>\n",
       "      <td>nov</td>\n",
       "      <td>NaN</td>\n",
       "      <td>124</td>\n",
       "      <td>1</td>\n",
       "      <td>999</td>\n",
       "      <td>0</td>\n",
       "      <td>-0.1</td>\n",
       "      <td>93.200</td>\n",
       "      <td>-42.0</td>\n",
       "      <td>4.076</td>\n",
       "      <td>5195.8</td>\n",
       "      <td>False</td>\n",
       "    </tr>\n",
       "    <tr>\n",
       "      <th>2</th>\n",
       "      <td>31</td>\n",
       "      <td>services</td>\n",
       "      <td>single</td>\n",
       "      <td>middle</td>\n",
       "      <td>no</td>\n",
       "      <td>no</td>\n",
       "      <td>may</td>\n",
       "      <td>cell</td>\n",
       "      <td>163</td>\n",
       "      <td>1</td>\n",
       "      <td>999</td>\n",
       "      <td>0</td>\n",
       "      <td>-1.8</td>\n",
       "      <td>92.893</td>\n",
       "      <td>-46.2</td>\n",
       "      <td>1.344</td>\n",
       "      <td>5099.1</td>\n",
       "      <td>False</td>\n",
       "    </tr>\n",
       "    <tr>\n",
       "      <th>3</th>\n",
       "      <td>35</td>\n",
       "      <td>technician</td>\n",
       "      <td>married</td>\n",
       "      <td>professional</td>\n",
       "      <td>yes</td>\n",
       "      <td>no</td>\n",
       "      <td>jul</td>\n",
       "      <td>cell</td>\n",
       "      <td>157</td>\n",
       "      <td>8</td>\n",
       "      <td>999</td>\n",
       "      <td>0</td>\n",
       "      <td>1.4</td>\n",
       "      <td>93.918</td>\n",
       "      <td>-42.7</td>\n",
       "      <td>4.962</td>\n",
       "      <td>5228.1</td>\n",
       "      <td>False</td>\n",
       "    </tr>\n",
       "    <tr>\n",
       "      <th>4</th>\n",
       "      <td>38</td>\n",
       "      <td>blue-collar</td>\n",
       "      <td>married</td>\n",
       "      <td>middle</td>\n",
       "      <td>yes</td>\n",
       "      <td>no</td>\n",
       "      <td>may</td>\n",
       "      <td>phone</td>\n",
       "      <td>275</td>\n",
       "      <td>6</td>\n",
       "      <td>999</td>\n",
       "      <td>0</td>\n",
       "      <td>1.1</td>\n",
       "      <td>93.994</td>\n",
       "      <td>-36.4</td>\n",
       "      <td>4.856</td>\n",
       "      <td>5191.0</td>\n",
       "      <td>False</td>\n",
       "    </tr>\n",
       "  </tbody>\n",
       "</table>\n",
       "</div>"
      ],
      "text/plain": [
       "   x1           x2       x3            x4   x5   x6   x7     x8   x9  x10  \\\n",
       "0  36  blue-collar  married        middle   no  yes  may   cell  239    1   \n",
       "1  39  blue-collar  married        middle  yes   no  nov    NaN  124    1   \n",
       "2  31     services   single        middle   no   no  may   cell  163    1   \n",
       "3  35   technician  married  professional  yes   no  jul   cell  157    8   \n",
       "4  38  blue-collar  married        middle  yes   no  may  phone  275    6   \n",
       "\n",
       "   x11  x12  x13     x14   x15    x16     x17      y  \n",
       "0  999    0 -1.8  92.893 -46.2  1.344  5099.1  False  \n",
       "1  999    0 -0.1  93.200 -42.0  4.076  5195.8  False  \n",
       "2  999    0 -1.8  92.893 -46.2  1.344  5099.1  False  \n",
       "3  999    0  1.4  93.918 -42.7  4.962  5228.1  False  \n",
       "4  999    0  1.1  93.994 -36.4  4.856  5191.0  False  "
      ]
     },
     "execution_count": 92,
     "metadata": {},
     "output_type": "execute_result"
    }
   ],
   "source": [
    "# write code to show first 5 items of DataFrame df\n",
    "df.head(5)"
   ]
  },
  {
   "cell_type": "code",
   "execution_count": 93,
   "id": "382d2a3f",
   "metadata": {},
   "outputs": [
    {
     "name": "stdout",
     "output_type": "stream",
     "text": [
      "<class 'pandas.core.frame.DataFrame'>\n",
      "RangeIndex: 40000 entries, 0 to 39999\n",
      "Data columns (total 18 columns):\n",
      " #   Column  Non-Null Count  Dtype  \n",
      "---  ------  --------------  -----  \n",
      " 0   x1      40000 non-null  int64  \n",
      " 1   x2      40000 non-null  object \n",
      " 2   x3      40000 non-null  object \n",
      " 3   x4      40000 non-null  object \n",
      " 4   x5      40000 non-null  object \n",
      " 5   x6      40000 non-null  object \n",
      " 6   x7      40000 non-null  object \n",
      " 7   x8      39994 non-null  object \n",
      " 8   x9      40000 non-null  int64  \n",
      " 9   x10     40000 non-null  int64  \n",
      " 10  x11     40000 non-null  int64  \n",
      " 11  x12     40000 non-null  int64  \n",
      " 12  x13     40000 non-null  float64\n",
      " 13  x14     39992 non-null  float64\n",
      " 14  x15     40000 non-null  float64\n",
      " 15  x16     40000 non-null  float64\n",
      " 16  x17     40000 non-null  float64\n",
      " 17  y       40000 non-null  bool   \n",
      "dtypes: bool(1), float64(5), int64(5), object(7)\n",
      "memory usage: 5.2+ MB\n"
     ]
    }
   ],
   "source": [
    "# write code to show a quick description all attributes in housing\n",
    "df.info()"
   ]
  },
  {
   "cell_type": "code",
   "execution_count": 94,
   "id": "7952eca8",
   "metadata": {},
   "outputs": [
    {
     "data": {
      "text/html": [
       "<div>\n",
       "<style scoped>\n",
       "    .dataframe tbody tr th:only-of-type {\n",
       "        vertical-align: middle;\n",
       "    }\n",
       "\n",
       "    .dataframe tbody tr th {\n",
       "        vertical-align: top;\n",
       "    }\n",
       "\n",
       "    .dataframe thead th {\n",
       "        text-align: right;\n",
       "    }\n",
       "</style>\n",
       "<table border=\"1\" class=\"dataframe\">\n",
       "  <thead>\n",
       "    <tr style=\"text-align: right;\">\n",
       "      <th></th>\n",
       "      <th>x1</th>\n",
       "      <th>x9</th>\n",
       "      <th>x10</th>\n",
       "      <th>x11</th>\n",
       "      <th>x12</th>\n",
       "      <th>x13</th>\n",
       "      <th>x14</th>\n",
       "      <th>x15</th>\n",
       "      <th>x16</th>\n",
       "      <th>x17</th>\n",
       "    </tr>\n",
       "  </thead>\n",
       "  <tbody>\n",
       "    <tr>\n",
       "      <th>count</th>\n",
       "      <td>40000.000000</td>\n",
       "      <td>40000.000000</td>\n",
       "      <td>40000.000000</td>\n",
       "      <td>40000.000000</td>\n",
       "      <td>40000.000000</td>\n",
       "      <td>40000.000000</td>\n",
       "      <td>39992.000000</td>\n",
       "      <td>40000.000000</td>\n",
       "      <td>40000.000000</td>\n",
       "      <td>40000.000000</td>\n",
       "    </tr>\n",
       "    <tr>\n",
       "      <th>mean</th>\n",
       "      <td>40.012200</td>\n",
       "      <td>258.721825</td>\n",
       "      <td>2.566375</td>\n",
       "      <td>962.110625</td>\n",
       "      <td>0.173075</td>\n",
       "      <td>0.081885</td>\n",
       "      <td>93.576081</td>\n",
       "      <td>-40.501567</td>\n",
       "      <td>3.621611</td>\n",
       "      <td>5167.021655</td>\n",
       "    </tr>\n",
       "    <tr>\n",
       "      <th>std</th>\n",
       "      <td>10.416123</td>\n",
       "      <td>260.258055</td>\n",
       "      <td>2.771441</td>\n",
       "      <td>187.806197</td>\n",
       "      <td>0.495758</td>\n",
       "      <td>1.570986</td>\n",
       "      <td>0.578954</td>\n",
       "      <td>4.627286</td>\n",
       "      <td>1.734336</td>\n",
       "      <td>72.249786</td>\n",
       "    </tr>\n",
       "    <tr>\n",
       "      <th>min</th>\n",
       "      <td>17.000000</td>\n",
       "      <td>0.000000</td>\n",
       "      <td>1.000000</td>\n",
       "      <td>0.000000</td>\n",
       "      <td>0.000000</td>\n",
       "      <td>-3.400000</td>\n",
       "      <td>92.201000</td>\n",
       "      <td>-50.800000</td>\n",
       "      <td>0.634000</td>\n",
       "      <td>4963.600000</td>\n",
       "    </tr>\n",
       "    <tr>\n",
       "      <th>25%</th>\n",
       "      <td>32.000000</td>\n",
       "      <td>102.000000</td>\n",
       "      <td>1.000000</td>\n",
       "      <td>999.000000</td>\n",
       "      <td>0.000000</td>\n",
       "      <td>-1.800000</td>\n",
       "      <td>93.075000</td>\n",
       "      <td>-42.700000</td>\n",
       "      <td>1.344000</td>\n",
       "      <td>5099.100000</td>\n",
       "    </tr>\n",
       "    <tr>\n",
       "      <th>50%</th>\n",
       "      <td>38.000000</td>\n",
       "      <td>180.000000</td>\n",
       "      <td>2.000000</td>\n",
       "      <td>999.000000</td>\n",
       "      <td>0.000000</td>\n",
       "      <td>1.100000</td>\n",
       "      <td>93.749000</td>\n",
       "      <td>-41.800000</td>\n",
       "      <td>4.857000</td>\n",
       "      <td>5191.000000</td>\n",
       "    </tr>\n",
       "    <tr>\n",
       "      <th>75%</th>\n",
       "      <td>47.000000</td>\n",
       "      <td>320.000000</td>\n",
       "      <td>3.000000</td>\n",
       "      <td>999.000000</td>\n",
       "      <td>0.000000</td>\n",
       "      <td>1.400000</td>\n",
       "      <td>93.994000</td>\n",
       "      <td>-36.400000</td>\n",
       "      <td>4.961000</td>\n",
       "      <td>5228.100000</td>\n",
       "    </tr>\n",
       "    <tr>\n",
       "      <th>max</th>\n",
       "      <td>98.000000</td>\n",
       "      <td>4918.000000</td>\n",
       "      <td>56.000000</td>\n",
       "      <td>999.000000</td>\n",
       "      <td>7.000000</td>\n",
       "      <td>1.400000</td>\n",
       "      <td>94.767000</td>\n",
       "      <td>-26.900000</td>\n",
       "      <td>5.045000</td>\n",
       "      <td>5228.100000</td>\n",
       "    </tr>\n",
       "  </tbody>\n",
       "</table>\n",
       "</div>"
      ],
      "text/plain": [
       "                 x1            x9           x10           x11           x12  \\\n",
       "count  40000.000000  40000.000000  40000.000000  40000.000000  40000.000000   \n",
       "mean      40.012200    258.721825      2.566375    962.110625      0.173075   \n",
       "std       10.416123    260.258055      2.771441    187.806197      0.495758   \n",
       "min       17.000000      0.000000      1.000000      0.000000      0.000000   \n",
       "25%       32.000000    102.000000      1.000000    999.000000      0.000000   \n",
       "50%       38.000000    180.000000      2.000000    999.000000      0.000000   \n",
       "75%       47.000000    320.000000      3.000000    999.000000      0.000000   \n",
       "max       98.000000   4918.000000     56.000000    999.000000      7.000000   \n",
       "\n",
       "                x13           x14           x15           x16           x17  \n",
       "count  40000.000000  39992.000000  40000.000000  40000.000000  40000.000000  \n",
       "mean       0.081885     93.576081    -40.501567      3.621611   5167.021655  \n",
       "std        1.570986      0.578954      4.627286      1.734336     72.249786  \n",
       "min       -3.400000     92.201000    -50.800000      0.634000   4963.600000  \n",
       "25%       -1.800000     93.075000    -42.700000      1.344000   5099.100000  \n",
       "50%        1.100000     93.749000    -41.800000      4.857000   5191.000000  \n",
       "75%        1.400000     93.994000    -36.400000      4.961000   5228.100000  \n",
       "max        1.400000     94.767000    -26.900000      5.045000   5228.100000  "
      ]
     },
     "execution_count": 94,
     "metadata": {},
     "output_type": "execute_result"
    }
   ],
   "source": [
    "#show the statistics of all numerical attributes in df\n",
    "df.describe()"
   ]
  },
  {
   "cell_type": "code",
   "execution_count": 95,
   "id": "30ab2356",
   "metadata": {},
   "outputs": [
    {
     "data": {
      "image/png": "[encoded data removed]",
      "text/plain": [
       "<Figure size 1440x1080 with 12 Axes>"
      ]
     },
     "metadata": {
      "needs_background": "light"
     },
     "output_type": "display_data"
    }
   ],
   "source": [
    "# plot the histogram of each numerical attribute\n",
    "#20 bins= total 50 bars\n",
    "df.hist(bins=20,figsize=(20,15))\n",
    "plt.show()"
   ]
  },
  {
   "cell_type": "code",
   "execution_count": 99,
   "id": "0a96b5f1",
   "metadata": {},
   "outputs": [
    {
     "data": {
      "image/png": "[encoded data removed]",
      "text/plain": [
       "<Figure size 432x288 with 1 Axes>"
      ]
     },
     "metadata": {
      "needs_background": "light"
     },
     "output_type": "display_data"
    },
    {
     "name": "stdout",
     "output_type": "stream",
     "text": [
      "2862\n"
     ]
    },
    {
     "name": "stderr",
     "output_type": "stream",
     "text": [
      "C:\\Users\\shinj\\AppData\\Local\\Temp\\ipykernel_2696\\3635445007.py:22: SettingWithCopyWarning: \n",
      "A value is trying to be set on a copy of a slice from a DataFrame.\n",
      "Try using .loc[row_indexer,col_indexer] = value instead\n",
      "\n",
      "See the caveats in the documentation: https://pandas.pydata.org/pandas-docs/stable/user_guide/indexing.html#returning-a-view-versus-a-copy\n",
      "  df.loc[:, col] = np.where(df.loc[:, col] > ul, ul, np.where(df.loc[:, col] < ll, ll, df.loc[:, col]))\n"
     ]
    },
    {
     "data": {
      "image/png": "[encoded data removed]",
      "text/plain": [
       "<Figure size 432x288 with 1 Axes>"
      ]
     },
     "metadata": {
      "needs_background": "light"
     },
     "output_type": "display_data"
    },
    {
     "data": {
      "image/png": "[encoded data removed]",
      "text/plain": [
       "<Figure size 432x288 with 1 Axes>"
      ]
     },
     "metadata": {
      "needs_background": "light"
     },
     "output_type": "display_data"
    },
    {
     "name": "stdout",
     "output_type": "stream",
     "text": [
      "2332\n"
     ]
    },
    {
     "name": "stderr",
     "output_type": "stream",
     "text": [
      "C:\\Users\\shinj\\AppData\\Local\\Temp\\ipykernel_2696\\3635445007.py:22: SettingWithCopyWarning: \n",
      "A value is trying to be set on a copy of a slice from a DataFrame.\n",
      "Try using .loc[row_indexer,col_indexer] = value instead\n",
      "\n",
      "See the caveats in the documentation: https://pandas.pydata.org/pandas-docs/stable/user_guide/indexing.html#returning-a-view-versus-a-copy\n",
      "  df.loc[:, col] = np.where(df.loc[:, col] > ul, ul, np.where(df.loc[:, col] < ll, ll, df.loc[:, col]))\n"
     ]
    },
    {
     "data": {
      "image/png": "[encoded data removed]",
      "text/plain": [
       "<Figure size 432x288 with 1 Axes>"
      ]
     },
     "metadata": {
      "needs_background": "light"
     },
     "output_type": "display_data"
    },
    {
     "data": {
      "image/png": "[encoded data removed]",
      "text/plain": [
       "<Figure size 432x288 with 1 Axes>"
      ]
     },
     "metadata": {
      "needs_background": "light"
     },
     "output_type": "display_data"
    },
    {
     "name": "stdout",
     "output_type": "stream",
     "text": [
      "0\n"
     ]
    },
    {
     "name": "stderr",
     "output_type": "stream",
     "text": [
      "C:\\Users\\shinj\\AppData\\Local\\Temp\\ipykernel_2696\\3635445007.py:22: SettingWithCopyWarning: \n",
      "A value is trying to be set on a copy of a slice from a DataFrame.\n",
      "Try using .loc[row_indexer,col_indexer] = value instead\n",
      "\n",
      "See the caveats in the documentation: https://pandas.pydata.org/pandas-docs/stable/user_guide/indexing.html#returning-a-view-versus-a-copy\n",
      "  df.loc[:, col] = np.where(df.loc[:, col] > ul, ul, np.where(df.loc[:, col] < ll, ll, df.loc[:, col]))\n"
     ]
    },
    {
     "data": {
      "image/png": "[encoded data removed]",
      "text/plain": [
       "<Figure size 432x288 with 1 Axes>"
      ]
     },
     "metadata": {
      "needs_background": "light"
     },
     "output_type": "display_data"
    },
    {
     "data": {
      "image/png": "[encoded data removed]",
      "text/plain": [
       "<Figure size 432x288 with 1 Axes>"
      ]
     },
     "metadata": {
      "needs_background": "light"
     },
     "output_type": "display_data"
    },
    {
     "name": "stdout",
     "output_type": "stream",
     "text": [
      "0\n"
     ]
    },
    {
     "name": "stderr",
     "output_type": "stream",
     "text": [
      "C:\\Users\\shinj\\AppData\\Local\\Temp\\ipykernel_2696\\3635445007.py:22: SettingWithCopyWarning: \n",
      "A value is trying to be set on a copy of a slice from a DataFrame.\n",
      "Try using .loc[row_indexer,col_indexer] = value instead\n",
      "\n",
      "See the caveats in the documentation: https://pandas.pydata.org/pandas-docs/stable/user_guide/indexing.html#returning-a-view-versus-a-copy\n",
      "  df.loc[:, col] = np.where(df.loc[:, col] > ul, ul, np.where(df.loc[:, col] < ll, ll, df.loc[:, col]))\n"
     ]
    },
    {
     "data": {
      "image/png": "[encoded data removed]",
      "text/plain": [
       "<Figure size 432x288 with 1 Axes>"
      ]
     },
     "metadata": {
      "needs_background": "light"
     },
     "output_type": "display_data"
    },
    {
     "data": {
      "image/png": "[encoded data removed]",
      "text/plain": [
       "<Figure size 432x288 with 1 Axes>"
      ]
     },
     "metadata": {
      "needs_background": "light"
     },
     "output_type": "display_data"
    },
    {
     "name": "stdout",
     "output_type": "stream",
     "text": [
      "433\n"
     ]
    },
    {
     "name": "stderr",
     "output_type": "stream",
     "text": [
      "C:\\Users\\shinj\\AppData\\Local\\Temp\\ipykernel_2696\\3635445007.py:22: SettingWithCopyWarning: \n",
      "A value is trying to be set on a copy of a slice from a DataFrame.\n",
      "Try using .loc[row_indexer,col_indexer] = value instead\n",
      "\n",
      "See the caveats in the documentation: https://pandas.pydata.org/pandas-docs/stable/user_guide/indexing.html#returning-a-view-versus-a-copy\n",
      "  df.loc[:, col] = np.where(df.loc[:, col] > ul, ul, np.where(df.loc[:, col] < ll, ll, df.loc[:, col]))\n"
     ]
    },
    {
     "data": {
      "image/png": "[encoded data removed]",
      "text/plain": [
       "<Figure size 432x288 with 1 Axes>"
      ]
     },
     "metadata": {
      "needs_background": "light"
     },
     "output_type": "display_data"
    },
    {
     "data": {
      "image/png": "[encoded data removed]",
      "text/plain": [
       "<Figure size 432x288 with 1 Axes>"
      ]
     },
     "metadata": {
      "needs_background": "light"
     },
     "output_type": "display_data"
    },
    {
     "name": "stdout",
     "output_type": "stream",
     "text": [
      "0\n"
     ]
    },
    {
     "name": "stderr",
     "output_type": "stream",
     "text": [
      "C:\\Users\\shinj\\AppData\\Local\\Temp\\ipykernel_2696\\3635445007.py:22: SettingWithCopyWarning: \n",
      "A value is trying to be set on a copy of a slice from a DataFrame.\n",
      "Try using .loc[row_indexer,col_indexer] = value instead\n",
      "\n",
      "See the caveats in the documentation: https://pandas.pydata.org/pandas-docs/stable/user_guide/indexing.html#returning-a-view-versus-a-copy\n",
      "  df.loc[:, col] = np.where(df.loc[:, col] > ul, ul, np.where(df.loc[:, col] < ll, ll, df.loc[:, col]))\n"
     ]
    },
    {
     "data": {
      "image/png": "[encoded data removed]",
      "text/plain": [
       "<Figure size 432x288 with 1 Axes>"
      ]
     },
     "metadata": {
      "needs_background": "light"
     },
     "output_type": "display_data"
    },
    {
     "data": {
      "image/png": "[encoded data removed]",
      "text/plain": [
       "<Figure size 432x288 with 1 Axes>"
      ]
     },
     "metadata": {
      "needs_background": "light"
     },
     "output_type": "display_data"
    },
    {
     "name": "stdout",
     "output_type": "stream",
     "text": [
      "0\n"
     ]
    },
    {
     "name": "stderr",
     "output_type": "stream",
     "text": [
      "C:\\Users\\shinj\\AppData\\Local\\Temp\\ipykernel_2696\\3635445007.py:22: SettingWithCopyWarning: \n",
      "A value is trying to be set on a copy of a slice from a DataFrame.\n",
      "Try using .loc[row_indexer,col_indexer] = value instead\n",
      "\n",
      "See the caveats in the documentation: https://pandas.pydata.org/pandas-docs/stable/user_guide/indexing.html#returning-a-view-versus-a-copy\n",
      "  df.loc[:, col] = np.where(df.loc[:, col] > ul, ul, np.where(df.loc[:, col] < ll, ll, df.loc[:, col]))\n"
     ]
    },
    {
     "data": {
      "image/png": "[encoded data removed]",
      "text/plain": [
       "<Figure size 432x288 with 1 Axes>"
      ]
     },
     "metadata": {
      "needs_background": "light"
     },
     "output_type": "display_data"
    }
   ],
   "source": [
    "#plot boxplot to check outliers and whether the data is skewed or not\n",
    "#check for outliers\n",
    "#delete outliers\n",
    "temp_df = df[['x9', 'x10', 'x13', 'x14','x15', 'x16', 'x17']]\n",
    "\n",
    "# loop all the numeric features\n",
    "for feature in temp_df:\n",
    "    plot_boxplot(temp_df, feature, \"before deal with outliers\")\n",
    "    temp_df = deal_outliers(temp_df, feature)\n",
    "    plot_boxplot(temp_df, feature, \"after deal with outliers\")"
   ]
  },
  {
   "cell_type": "code",
   "execution_count": 100,
   "id": "665dfb60",
   "metadata": {},
   "outputs": [
    {
     "data": {
      "text/html": [
       "<div>\n",
       "<style scoped>\n",
       "    .dataframe tbody tr th:only-of-type {\n",
       "        vertical-align: middle;\n",
       "    }\n",
       "\n",
       "    .dataframe tbody tr th {\n",
       "        vertical-align: top;\n",
       "    }\n",
       "\n",
       "    .dataframe thead th {\n",
       "        text-align: right;\n",
       "    }\n",
       "</style>\n",
       "<table border=\"1\" class=\"dataframe\">\n",
       "  <thead>\n",
       "    <tr style=\"text-align: right;\">\n",
       "      <th></th>\n",
       "      <th>x1</th>\n",
       "      <th>x9</th>\n",
       "      <th>x10</th>\n",
       "      <th>x11</th>\n",
       "      <th>x12</th>\n",
       "      <th>x13</th>\n",
       "      <th>x14</th>\n",
       "      <th>x15</th>\n",
       "      <th>x16</th>\n",
       "      <th>x17</th>\n",
       "      <th>y</th>\n",
       "    </tr>\n",
       "  </thead>\n",
       "  <tbody>\n",
       "    <tr>\n",
       "      <th>x1</th>\n",
       "      <td>1.000000</td>\n",
       "      <td>-0.000925</td>\n",
       "      <td>0.005496</td>\n",
       "      <td>-0.035615</td>\n",
       "      <td>0.024587</td>\n",
       "      <td>-0.000773</td>\n",
       "      <td>0.000380</td>\n",
       "      <td>0.128557</td>\n",
       "      <td>0.010629</td>\n",
       "      <td>-0.017344</td>\n",
       "      <td>0.031999</td>\n",
       "    </tr>\n",
       "    <tr>\n",
       "      <th>x9</th>\n",
       "      <td>-0.000925</td>\n",
       "      <td>1.000000</td>\n",
       "      <td>-0.072296</td>\n",
       "      <td>-0.047273</td>\n",
       "      <td>0.021044</td>\n",
       "      <td>-0.027163</td>\n",
       "      <td>0.005686</td>\n",
       "      <td>-0.008273</td>\n",
       "      <td>-0.032193</td>\n",
       "      <td>-0.043996</td>\n",
       "      <td>0.404339</td>\n",
       "    </tr>\n",
       "    <tr>\n",
       "      <th>x10</th>\n",
       "      <td>0.005496</td>\n",
       "      <td>-0.072296</td>\n",
       "      <td>1.000000</td>\n",
       "      <td>0.052989</td>\n",
       "      <td>-0.079899</td>\n",
       "      <td>0.150872</td>\n",
       "      <td>0.127956</td>\n",
       "      <td>-0.014130</td>\n",
       "      <td>0.135363</td>\n",
       "      <td>0.144438</td>\n",
       "      <td>-0.066920</td>\n",
       "    </tr>\n",
       "    <tr>\n",
       "      <th>x11</th>\n",
       "      <td>-0.035615</td>\n",
       "      <td>-0.047273</td>\n",
       "      <td>0.052989</td>\n",
       "      <td>1.000000</td>\n",
       "      <td>-0.589795</td>\n",
       "      <td>0.273055</td>\n",
       "      <td>0.080035</td>\n",
       "      <td>-0.092833</td>\n",
       "      <td>0.298944</td>\n",
       "      <td>0.374779</td>\n",
       "      <td>-0.327329</td>\n",
       "    </tr>\n",
       "    <tr>\n",
       "      <th>x12</th>\n",
       "      <td>0.024587</td>\n",
       "      <td>0.021044</td>\n",
       "      <td>-0.079899</td>\n",
       "      <td>-0.589795</td>\n",
       "      <td>1.000000</td>\n",
       "      <td>-0.420568</td>\n",
       "      <td>-0.202889</td>\n",
       "      <td>-0.048873</td>\n",
       "      <td>-0.454651</td>\n",
       "      <td>-0.501943</td>\n",
       "      <td>0.232859</td>\n",
       "    </tr>\n",
       "    <tr>\n",
       "      <th>x13</th>\n",
       "      <td>-0.000773</td>\n",
       "      <td>-0.027163</td>\n",
       "      <td>0.150872</td>\n",
       "      <td>0.273055</td>\n",
       "      <td>-0.420568</td>\n",
       "      <td>1.000000</td>\n",
       "      <td>0.775651</td>\n",
       "      <td>0.195617</td>\n",
       "      <td>0.972217</td>\n",
       "      <td>0.906907</td>\n",
       "      <td>-0.299165</td>\n",
       "    </tr>\n",
       "    <tr>\n",
       "      <th>x14</th>\n",
       "      <td>0.000380</td>\n",
       "      <td>0.005686</td>\n",
       "      <td>0.127956</td>\n",
       "      <td>0.080035</td>\n",
       "      <td>-0.202889</td>\n",
       "      <td>0.775651</td>\n",
       "      <td>1.000000</td>\n",
       "      <td>0.059424</td>\n",
       "      <td>0.688541</td>\n",
       "      <td>0.522326</td>\n",
       "      <td>-0.136666</td>\n",
       "    </tr>\n",
       "    <tr>\n",
       "      <th>x15</th>\n",
       "      <td>0.128557</td>\n",
       "      <td>-0.008273</td>\n",
       "      <td>-0.014130</td>\n",
       "      <td>-0.092833</td>\n",
       "      <td>-0.048873</td>\n",
       "      <td>0.195617</td>\n",
       "      <td>0.059424</td>\n",
       "      <td>1.000000</td>\n",
       "      <td>0.277303</td>\n",
       "      <td>0.099884</td>\n",
       "      <td>0.054047</td>\n",
       "    </tr>\n",
       "    <tr>\n",
       "      <th>x16</th>\n",
       "      <td>0.010629</td>\n",
       "      <td>-0.032193</td>\n",
       "      <td>0.135363</td>\n",
       "      <td>0.298944</td>\n",
       "      <td>-0.454651</td>\n",
       "      <td>0.972217</td>\n",
       "      <td>0.688541</td>\n",
       "      <td>0.277303</td>\n",
       "      <td>1.000000</td>\n",
       "      <td>0.945121</td>\n",
       "      <td>-0.309039</td>\n",
       "    </tr>\n",
       "    <tr>\n",
       "      <th>x17</th>\n",
       "      <td>-0.017344</td>\n",
       "      <td>-0.043996</td>\n",
       "      <td>0.144438</td>\n",
       "      <td>0.374779</td>\n",
       "      <td>-0.501943</td>\n",
       "      <td>0.906907</td>\n",
       "      <td>0.522326</td>\n",
       "      <td>0.099884</td>\n",
       "      <td>0.945121</td>\n",
       "      <td>1.000000</td>\n",
       "      <td>-0.355790</td>\n",
       "    </tr>\n",
       "    <tr>\n",
       "      <th>y</th>\n",
       "      <td>0.031999</td>\n",
       "      <td>0.404339</td>\n",
       "      <td>-0.066920</td>\n",
       "      <td>-0.327329</td>\n",
       "      <td>0.232859</td>\n",
       "      <td>-0.299165</td>\n",
       "      <td>-0.136666</td>\n",
       "      <td>0.054047</td>\n",
       "      <td>-0.309039</td>\n",
       "      <td>-0.355790</td>\n",
       "      <td>1.000000</td>\n",
       "    </tr>\n",
       "  </tbody>\n",
       "</table>\n",
       "</div>"
      ],
      "text/plain": [
       "           x1        x9       x10       x11       x12       x13       x14  \\\n",
       "x1   1.000000 -0.000925  0.005496 -0.035615  0.024587 -0.000773  0.000380   \n",
       "x9  -0.000925  1.000000 -0.072296 -0.047273  0.021044 -0.027163  0.005686   \n",
       "x10  0.005496 -0.072296  1.000000  0.052989 -0.079899  0.150872  0.127956   \n",
       "x11 -0.035615 -0.047273  0.052989  1.000000 -0.589795  0.273055  0.080035   \n",
       "x12  0.024587  0.021044 -0.079899 -0.589795  1.000000 -0.420568 -0.202889   \n",
       "x13 -0.000773 -0.027163  0.150872  0.273055 -0.420568  1.000000  0.775651   \n",
       "x14  0.000380  0.005686  0.127956  0.080035 -0.202889  0.775651  1.000000   \n",
       "x15  0.128557 -0.008273 -0.014130 -0.092833 -0.048873  0.195617  0.059424   \n",
       "x16  0.010629 -0.032193  0.135363  0.298944 -0.454651  0.972217  0.688541   \n",
       "x17 -0.017344 -0.043996  0.144438  0.374779 -0.501943  0.906907  0.522326   \n",
       "y    0.031999  0.404339 -0.066920 -0.327329  0.232859 -0.299165 -0.136666   \n",
       "\n",
       "          x15       x16       x17         y  \n",
       "x1   0.128557  0.010629 -0.017344  0.031999  \n",
       "x9  -0.008273 -0.032193 -0.043996  0.404339  \n",
       "x10 -0.014130  0.135363  0.144438 -0.066920  \n",
       "x11 -0.092833  0.298944  0.374779 -0.327329  \n",
       "x12 -0.048873 -0.454651 -0.501943  0.232859  \n",
       "x13  0.195617  0.972217  0.906907 -0.299165  \n",
       "x14  0.059424  0.688541  0.522326 -0.136666  \n",
       "x15  1.000000  0.277303  0.099884  0.054047  \n",
       "x16  0.277303  1.000000  0.945121 -0.309039  \n",
       "x17  0.099884  0.945121  1.000000 -0.355790  \n",
       "y    0.054047 -0.309039 -0.355790  1.000000  "
      ]
     },
     "execution_count": 100,
     "metadata": {},
     "output_type": "execute_result"
    }
   ],
   "source": [
    "# write code to show the correlation matrix\n",
    "corr_matrix=df.corr()\n",
    "corr_matrix"
   ]
  },
  {
   "cell_type": "code",
   "execution_count": 101,
   "id": "b74ee259",
   "metadata": {},
   "outputs": [
    {
     "data": {
      "text/plain": [
       "<AxesSubplot:>"
      ]
     },
     "execution_count": 101,
     "metadata": {},
     "output_type": "execute_result"
    },
    {
     "data": {
      "image/png": "[encoded data removed]",
      "text/plain": [
       "<Figure size 2160x1080 with 2 Axes>"
      ]
     },
     "metadata": {},
     "output_type": "display_data"
    }
   ],
   "source": [
    "#annot=True: annotbool or rectangular dataset. If True, write the data value in each cell\n",
    "corr = df.corr()\n",
    "sns.set(rc={'figure.figsize':(30,15)})\n",
    "sns.heatmap(corr, cmap=\"PuBu\", annot=True)"
   ]
  },
  {
   "cell_type": "code",
   "execution_count": 102,
   "id": "12acac49",
   "metadata": {},
   "outputs": [
    {
     "data": {
      "text/plain": [
       "y      1.000000\n",
       "x9     0.404339\n",
       "x12    0.232859\n",
       "x15    0.054047\n",
       "x1     0.031999\n",
       "x10   -0.066920\n",
       "x14   -0.136666\n",
       "x13   -0.299165\n",
       "x16   -0.309039\n",
       "x11   -0.327329\n",
       "x17   -0.355790\n",
       "Name: y, dtype: float64"
      ]
     },
     "execution_count": 102,
     "metadata": {},
     "output_type": "execute_result"
    }
   ],
   "source": [
    "#numeric data comparision only\n",
    "corr_matrix['y'].sort_values(ascending=False)"
   ]
  },
  {
   "cell_type": "markdown",
   "id": "5acadf92",
   "metadata": {},
   "source": [
    "## Missing Value: NULL"
   ]
  },
  {
   "cell_type": "code",
   "execution_count": 5,
   "id": "1094a6a0",
   "metadata": {},
   "outputs": [
    {
     "data": {
      "text/plain": [
       "x1     0\n",
       "x2     0\n",
       "x3     0\n",
       "x4     0\n",
       "x5     0\n",
       "x6     0\n",
       "x7     0\n",
       "x8     6\n",
       "x9     0\n",
       "x10    0\n",
       "x11    0\n",
       "x12    0\n",
       "x13    0\n",
       "x14    8\n",
       "x15    0\n",
       "x16    0\n",
       "x17    0\n",
       "y      0\n",
       "dtype: int64"
      ]
     },
     "execution_count": 5,
     "metadata": {},
     "output_type": "execute_result"
    }
   ],
   "source": [
    "df.isnull().sum()"
   ]
  },
  {
   "cell_type": "markdown",
   "id": "48d45e2a",
   "metadata": {},
   "source": [
    "## Drop Null Missing Value: Categorical Data"
   ]
  },
  {
   "cell_type": "code",
   "execution_count": 6,
   "id": "60f611ac",
   "metadata": {},
   "outputs": [],
   "source": [
    "df=df.dropna(axis=0, subset=['x8'])"
   ]
  },
  {
   "cell_type": "code",
   "execution_count": 7,
   "id": "b34fe490",
   "metadata": {},
   "outputs": [
    {
     "data": {
      "text/plain": [
       "x1     0\n",
       "x2     0\n",
       "x3     0\n",
       "x4     0\n",
       "x5     0\n",
       "x6     0\n",
       "x7     0\n",
       "x8     0\n",
       "x9     0\n",
       "x10    0\n",
       "x11    0\n",
       "x12    0\n",
       "x13    0\n",
       "x14    8\n",
       "x15    0\n",
       "x16    0\n",
       "x17    0\n",
       "y      0\n",
       "dtype: int64"
      ]
     },
     "execution_count": 7,
     "metadata": {},
     "output_type": "execute_result"
    }
   ],
   "source": [
    "df.isnull().sum()"
   ]
  },
  {
   "cell_type": "markdown",
   "id": "f1212f99",
   "metadata": {},
   "source": [
    "### \"Unknown\" value in the data set and treat it as missing value\n",
    "set unknown as one of the missing value, count the total of missing value and drop it."
   ]
  },
  {
   "cell_type": "code",
   "execution_count": 8,
   "id": "26862b78",
   "metadata": {},
   "outputs": [],
   "source": [
    "# Making a list of missing value types\n",
    "missing_values = [\"unknown\"]\n",
    "df = pd.read_csv(\"dataset.csv\", na_values = missing_values)"
   ]
  },
  {
   "cell_type": "code",
   "execution_count": 9,
   "id": "acc66d13",
   "metadata": {},
   "outputs": [
    {
     "data": {
      "text/plain": [
       "x1        0\n",
       "x2      319\n",
       "x3       78\n",
       "x4     1684\n",
       "x5      962\n",
       "x6      962\n",
       "x7        0\n",
       "x8        6\n",
       "x9        0\n",
       "x10       0\n",
       "x11       0\n",
       "x12       0\n",
       "x13       0\n",
       "x14       8\n",
       "x15       0\n",
       "x16       0\n",
       "x17       0\n",
       "y         0\n",
       "dtype: int64"
      ]
     },
     "execution_count": 9,
     "metadata": {},
     "output_type": "execute_result"
    }
   ],
   "source": [
    "df.isnull().sum()"
   ]
  },
  {
   "cell_type": "code",
   "execution_count": 10,
   "id": "d2d05c81",
   "metadata": {},
   "outputs": [],
   "source": [
    "df=df.dropna(axis=0, subset=['x8', 'x2', 'x3', 'x4', 'x5', 'x6'])"
   ]
  },
  {
   "cell_type": "markdown",
   "id": "cd3c24fd",
   "metadata": {},
   "source": [
    "After clean, there is no missing value in the categorical data set"
   ]
  },
  {
   "cell_type": "code",
   "execution_count": null,
   "id": "0d2e8787",
   "metadata": {},
   "outputs": [],
   "source": [
    "df.isnull().sum()"
   ]
  },
  {
   "cell_type": "markdown",
   "id": "88f8e7b1",
   "metadata": {},
   "source": [
    "### Split input data(x) and output data(y)"
   ]
  },
  {
   "cell_type": "code",
   "execution_count": 12,
   "id": "93a5a53a",
   "metadata": {},
   "outputs": [
    {
     "data": {
      "text/html": [
       "<div>\n",
       "<style scoped>\n",
       "    .dataframe tbody tr th:only-of-type {\n",
       "        vertical-align: middle;\n",
       "    }\n",
       "\n",
       "    .dataframe tbody tr th {\n",
       "        vertical-align: top;\n",
       "    }\n",
       "\n",
       "    .dataframe thead th {\n",
       "        text-align: right;\n",
       "    }\n",
       "</style>\n",
       "<table border=\"1\" class=\"dataframe\">\n",
       "  <thead>\n",
       "    <tr style=\"text-align: right;\">\n",
       "      <th></th>\n",
       "      <th>x1</th>\n",
       "      <th>x2</th>\n",
       "      <th>x3</th>\n",
       "      <th>x4</th>\n",
       "      <th>x5</th>\n",
       "      <th>x6</th>\n",
       "      <th>x7</th>\n",
       "      <th>x8</th>\n",
       "      <th>x9</th>\n",
       "      <th>x10</th>\n",
       "      <th>x11</th>\n",
       "      <th>x12</th>\n",
       "      <th>x13</th>\n",
       "      <th>x14</th>\n",
       "      <th>x15</th>\n",
       "      <th>x16</th>\n",
       "      <th>x17</th>\n",
       "    </tr>\n",
       "  </thead>\n",
       "  <tbody>\n",
       "    <tr>\n",
       "      <th>0</th>\n",
       "      <td>36</td>\n",
       "      <td>blue-collar</td>\n",
       "      <td>married</td>\n",
       "      <td>middle</td>\n",
       "      <td>no</td>\n",
       "      <td>yes</td>\n",
       "      <td>may</td>\n",
       "      <td>cell</td>\n",
       "      <td>239</td>\n",
       "      <td>1</td>\n",
       "      <td>999</td>\n",
       "      <td>0</td>\n",
       "      <td>-1.8</td>\n",
       "      <td>92.893</td>\n",
       "      <td>-46.2</td>\n",
       "      <td>1.344</td>\n",
       "      <td>5099.1</td>\n",
       "    </tr>\n",
       "    <tr>\n",
       "      <th>2</th>\n",
       "      <td>31</td>\n",
       "      <td>services</td>\n",
       "      <td>single</td>\n",
       "      <td>middle</td>\n",
       "      <td>no</td>\n",
       "      <td>no</td>\n",
       "      <td>may</td>\n",
       "      <td>cell</td>\n",
       "      <td>163</td>\n",
       "      <td>1</td>\n",
       "      <td>999</td>\n",
       "      <td>0</td>\n",
       "      <td>-1.8</td>\n",
       "      <td>92.893</td>\n",
       "      <td>-46.2</td>\n",
       "      <td>1.344</td>\n",
       "      <td>5099.1</td>\n",
       "    </tr>\n",
       "    <tr>\n",
       "      <th>3</th>\n",
       "      <td>35</td>\n",
       "      <td>technician</td>\n",
       "      <td>married</td>\n",
       "      <td>professional</td>\n",
       "      <td>yes</td>\n",
       "      <td>no</td>\n",
       "      <td>jul</td>\n",
       "      <td>cell</td>\n",
       "      <td>157</td>\n",
       "      <td>8</td>\n",
       "      <td>999</td>\n",
       "      <td>0</td>\n",
       "      <td>1.4</td>\n",
       "      <td>93.918</td>\n",
       "      <td>-42.7</td>\n",
       "      <td>4.962</td>\n",
       "      <td>5228.1</td>\n",
       "    </tr>\n",
       "    <tr>\n",
       "      <th>4</th>\n",
       "      <td>38</td>\n",
       "      <td>blue-collar</td>\n",
       "      <td>married</td>\n",
       "      <td>middle</td>\n",
       "      <td>yes</td>\n",
       "      <td>no</td>\n",
       "      <td>may</td>\n",
       "      <td>phone</td>\n",
       "      <td>275</td>\n",
       "      <td>6</td>\n",
       "      <td>999</td>\n",
       "      <td>0</td>\n",
       "      <td>1.1</td>\n",
       "      <td>93.994</td>\n",
       "      <td>-36.4</td>\n",
       "      <td>4.856</td>\n",
       "      <td>5191.0</td>\n",
       "    </tr>\n",
       "    <tr>\n",
       "      <th>5</th>\n",
       "      <td>48</td>\n",
       "      <td>services</td>\n",
       "      <td>divorced</td>\n",
       "      <td>primary</td>\n",
       "      <td>yes</td>\n",
       "      <td>no</td>\n",
       "      <td>jun</td>\n",
       "      <td>phone</td>\n",
       "      <td>122</td>\n",
       "      <td>1</td>\n",
       "      <td>999</td>\n",
       "      <td>0</td>\n",
       "      <td>1.4</td>\n",
       "      <td>94.465</td>\n",
       "      <td>-41.8</td>\n",
       "      <td>4.961</td>\n",
       "      <td>5228.1</td>\n",
       "    </tr>\n",
       "    <tr>\n",
       "      <th>...</th>\n",
       "      <td>...</td>\n",
       "      <td>...</td>\n",
       "      <td>...</td>\n",
       "      <td>...</td>\n",
       "      <td>...</td>\n",
       "      <td>...</td>\n",
       "      <td>...</td>\n",
       "      <td>...</td>\n",
       "      <td>...</td>\n",
       "      <td>...</td>\n",
       "      <td>...</td>\n",
       "      <td>...</td>\n",
       "      <td>...</td>\n",
       "      <td>...</td>\n",
       "      <td>...</td>\n",
       "      <td>...</td>\n",
       "      <td>...</td>\n",
       "    </tr>\n",
       "    <tr>\n",
       "      <th>39995</th>\n",
       "      <td>26</td>\n",
       "      <td>unemployed</td>\n",
       "      <td>married</td>\n",
       "      <td>high</td>\n",
       "      <td>yes</td>\n",
       "      <td>no</td>\n",
       "      <td>jul</td>\n",
       "      <td>cell</td>\n",
       "      <td>474</td>\n",
       "      <td>7</td>\n",
       "      <td>999</td>\n",
       "      <td>0</td>\n",
       "      <td>-1.7</td>\n",
       "      <td>94.215</td>\n",
       "      <td>-40.3</td>\n",
       "      <td>0.822</td>\n",
       "      <td>4991.6</td>\n",
       "    </tr>\n",
       "    <tr>\n",
       "      <th>39996</th>\n",
       "      <td>59</td>\n",
       "      <td>unemployed</td>\n",
       "      <td>married</td>\n",
       "      <td>professional</td>\n",
       "      <td>yes</td>\n",
       "      <td>no</td>\n",
       "      <td>aug</td>\n",
       "      <td>cell</td>\n",
       "      <td>378</td>\n",
       "      <td>2</td>\n",
       "      <td>999</td>\n",
       "      <td>1</td>\n",
       "      <td>-2.9</td>\n",
       "      <td>92.201</td>\n",
       "      <td>-31.4</td>\n",
       "      <td>0.881</td>\n",
       "      <td>5076.2</td>\n",
       "    </tr>\n",
       "    <tr>\n",
       "      <th>39997</th>\n",
       "      <td>23</td>\n",
       "      <td>self-employed</td>\n",
       "      <td>single</td>\n",
       "      <td>middle</td>\n",
       "      <td>yes</td>\n",
       "      <td>no</td>\n",
       "      <td>may</td>\n",
       "      <td>cell</td>\n",
       "      <td>64</td>\n",
       "      <td>2</td>\n",
       "      <td>999</td>\n",
       "      <td>0</td>\n",
       "      <td>-1.8</td>\n",
       "      <td>92.893</td>\n",
       "      <td>-46.2</td>\n",
       "      <td>1.266</td>\n",
       "      <td>5099.1</td>\n",
       "    </tr>\n",
       "    <tr>\n",
       "      <th>39998</th>\n",
       "      <td>33</td>\n",
       "      <td>technician</td>\n",
       "      <td>married</td>\n",
       "      <td>high</td>\n",
       "      <td>no</td>\n",
       "      <td>no</td>\n",
       "      <td>apr</td>\n",
       "      <td>cell</td>\n",
       "      <td>211</td>\n",
       "      <td>2</td>\n",
       "      <td>999</td>\n",
       "      <td>1</td>\n",
       "      <td>-1.8</td>\n",
       "      <td>93.075</td>\n",
       "      <td>-47.1</td>\n",
       "      <td>1.405</td>\n",
       "      <td>5099.1</td>\n",
       "    </tr>\n",
       "    <tr>\n",
       "      <th>39999</th>\n",
       "      <td>44</td>\n",
       "      <td>management</td>\n",
       "      <td>married</td>\n",
       "      <td>university</td>\n",
       "      <td>yes</td>\n",
       "      <td>no</td>\n",
       "      <td>nov</td>\n",
       "      <td>cell</td>\n",
       "      <td>176</td>\n",
       "      <td>1</td>\n",
       "      <td>999</td>\n",
       "      <td>0</td>\n",
       "      <td>-0.1</td>\n",
       "      <td>93.200</td>\n",
       "      <td>-42.0</td>\n",
       "      <td>4.076</td>\n",
       "      <td>5195.8</td>\n",
       "    </tr>\n",
       "  </tbody>\n",
       "</table>\n",
       "<p>37134 rows × 17 columns</p>\n",
       "</div>"
      ],
      "text/plain": [
       "       x1             x2        x3            x4   x5   x6   x7     x8   x9  \\\n",
       "0      36    blue-collar   married        middle   no  yes  may   cell  239   \n",
       "2      31       services    single        middle   no   no  may   cell  163   \n",
       "3      35     technician   married  professional  yes   no  jul   cell  157   \n",
       "4      38    blue-collar   married        middle  yes   no  may  phone  275   \n",
       "5      48       services  divorced       primary  yes   no  jun  phone  122   \n",
       "...    ..            ...       ...           ...  ...  ...  ...    ...  ...   \n",
       "39995  26     unemployed   married          high  yes   no  jul   cell  474   \n",
       "39996  59     unemployed   married  professional  yes   no  aug   cell  378   \n",
       "39997  23  self-employed    single        middle  yes   no  may   cell   64   \n",
       "39998  33     technician   married          high   no   no  apr   cell  211   \n",
       "39999  44     management   married    university  yes   no  nov   cell  176   \n",
       "\n",
       "       x10  x11  x12  x13     x14   x15    x16     x17  \n",
       "0        1  999    0 -1.8  92.893 -46.2  1.344  5099.1  \n",
       "2        1  999    0 -1.8  92.893 -46.2  1.344  5099.1  \n",
       "3        8  999    0  1.4  93.918 -42.7  4.962  5228.1  \n",
       "4        6  999    0  1.1  93.994 -36.4  4.856  5191.0  \n",
       "5        1  999    0  1.4  94.465 -41.8  4.961  5228.1  \n",
       "...    ...  ...  ...  ...     ...   ...    ...     ...  \n",
       "39995    7  999    0 -1.7  94.215 -40.3  0.822  4991.6  \n",
       "39996    2  999    1 -2.9  92.201 -31.4  0.881  5076.2  \n",
       "39997    2  999    0 -1.8  92.893 -46.2  1.266  5099.1  \n",
       "39998    2  999    1 -1.8  93.075 -47.1  1.405  5099.1  \n",
       "39999    1  999    0 -0.1  93.200 -42.0  4.076  5195.8  \n",
       "\n",
       "[37134 rows x 17 columns]"
      ]
     },
     "execution_count": 12,
     "metadata": {},
     "output_type": "execute_result"
    }
   ],
   "source": [
    "# write code to separate the output (y) from input (X)\n",
    "#y refer to classes\n",
    "x=df.drop('y', axis=1)\n",
    "y=df['y']\n",
    "x"
   ]
  },
  {
   "cell_type": "code",
   "execution_count": 13,
   "id": "b2864bd9",
   "metadata": {},
   "outputs": [
    {
     "name": "stdout",
     "output_type": "stream",
     "text": [
      "Shape of x is  (37134, 17)\n",
      "Shape of y is  (37134,)\n"
     ]
    }
   ],
   "source": [
    "#check the shape and numbers of rows\n",
    "print(\"Shape of x is \", x.shape)\n",
    "print(\"Shape of y is \", y.shape)"
   ]
  },
  {
   "cell_type": "code",
   "execution_count": 14,
   "id": "b9025199",
   "metadata": {},
   "outputs": [
    {
     "data": {
      "text/html": [
       "<div>\n",
       "<style scoped>\n",
       "    .dataframe tbody tr th:only-of-type {\n",
       "        vertical-align: middle;\n",
       "    }\n",
       "\n",
       "    .dataframe tbody tr th {\n",
       "        vertical-align: top;\n",
       "    }\n",
       "\n",
       "    .dataframe thead th {\n",
       "        text-align: right;\n",
       "    }\n",
       "</style>\n",
       "<table border=\"1\" class=\"dataframe\">\n",
       "  <thead>\n",
       "    <tr style=\"text-align: right;\">\n",
       "      <th></th>\n",
       "      <th>x1</th>\n",
       "      <th>x2</th>\n",
       "      <th>x3</th>\n",
       "      <th>x4</th>\n",
       "      <th>x5</th>\n",
       "      <th>x6</th>\n",
       "      <th>x7</th>\n",
       "      <th>x8</th>\n",
       "      <th>x9</th>\n",
       "      <th>x10</th>\n",
       "      <th>x11</th>\n",
       "      <th>x12</th>\n",
       "      <th>x13</th>\n",
       "      <th>x14</th>\n",
       "      <th>x15</th>\n",
       "      <th>x16</th>\n",
       "      <th>x17</th>\n",
       "    </tr>\n",
       "  </thead>\n",
       "  <tbody>\n",
       "    <tr>\n",
       "      <th>15316</th>\n",
       "      <td>34</td>\n",
       "      <td>management</td>\n",
       "      <td>married</td>\n",
       "      <td>university</td>\n",
       "      <td>yes</td>\n",
       "      <td>no</td>\n",
       "      <td>nov</td>\n",
       "      <td>cell</td>\n",
       "      <td>130</td>\n",
       "      <td>6</td>\n",
       "      <td>999</td>\n",
       "      <td>0</td>\n",
       "      <td>-0.1</td>\n",
       "      <td>93.200</td>\n",
       "      <td>-42.0</td>\n",
       "      <td>4.076</td>\n",
       "      <td>5195.8</td>\n",
       "    </tr>\n",
       "    <tr>\n",
       "      <th>26128</th>\n",
       "      <td>24</td>\n",
       "      <td>services</td>\n",
       "      <td>married</td>\n",
       "      <td>high</td>\n",
       "      <td>no</td>\n",
       "      <td>no</td>\n",
       "      <td>jul</td>\n",
       "      <td>phone</td>\n",
       "      <td>139</td>\n",
       "      <td>1</td>\n",
       "      <td>999</td>\n",
       "      <td>0</td>\n",
       "      <td>1.4</td>\n",
       "      <td>93.918</td>\n",
       "      <td>-42.7</td>\n",
       "      <td>4.963</td>\n",
       "      <td>5228.1</td>\n",
       "    </tr>\n",
       "    <tr>\n",
       "      <th>36928</th>\n",
       "      <td>50</td>\n",
       "      <td>admin</td>\n",
       "      <td>married</td>\n",
       "      <td>high</td>\n",
       "      <td>yes</td>\n",
       "      <td>no</td>\n",
       "      <td>nov</td>\n",
       "      <td>phone</td>\n",
       "      <td>182</td>\n",
       "      <td>2</td>\n",
       "      <td>999</td>\n",
       "      <td>0</td>\n",
       "      <td>-0.1</td>\n",
       "      <td>93.200</td>\n",
       "      <td>-42.0</td>\n",
       "      <td>4.021</td>\n",
       "      <td>5195.8</td>\n",
       "    </tr>\n",
       "    <tr>\n",
       "      <th>5654</th>\n",
       "      <td>57</td>\n",
       "      <td>blue-collar</td>\n",
       "      <td>married</td>\n",
       "      <td>middle</td>\n",
       "      <td>yes</td>\n",
       "      <td>no</td>\n",
       "      <td>jul</td>\n",
       "      <td>cell</td>\n",
       "      <td>101</td>\n",
       "      <td>3</td>\n",
       "      <td>999</td>\n",
       "      <td>0</td>\n",
       "      <td>1.4</td>\n",
       "      <td>93.918</td>\n",
       "      <td>-42.7</td>\n",
       "      <td>4.961</td>\n",
       "      <td>5228.1</td>\n",
       "    </tr>\n",
       "    <tr>\n",
       "      <th>16122</th>\n",
       "      <td>33</td>\n",
       "      <td>technician</td>\n",
       "      <td>single</td>\n",
       "      <td>university</td>\n",
       "      <td>no</td>\n",
       "      <td>no</td>\n",
       "      <td>aug</td>\n",
       "      <td>cell</td>\n",
       "      <td>134</td>\n",
       "      <td>6</td>\n",
       "      <td>999</td>\n",
       "      <td>0</td>\n",
       "      <td>1.4</td>\n",
       "      <td>93.444</td>\n",
       "      <td>-36.1</td>\n",
       "      <td>4.963</td>\n",
       "      <td>5228.1</td>\n",
       "    </tr>\n",
       "    <tr>\n",
       "      <th>...</th>\n",
       "      <td>...</td>\n",
       "      <td>...</td>\n",
       "      <td>...</td>\n",
       "      <td>...</td>\n",
       "      <td>...</td>\n",
       "      <td>...</td>\n",
       "      <td>...</td>\n",
       "      <td>...</td>\n",
       "      <td>...</td>\n",
       "      <td>...</td>\n",
       "      <td>...</td>\n",
       "      <td>...</td>\n",
       "      <td>...</td>\n",
       "      <td>...</td>\n",
       "      <td>...</td>\n",
       "      <td>...</td>\n",
       "      <td>...</td>\n",
       "    </tr>\n",
       "    <tr>\n",
       "      <th>28652</th>\n",
       "      <td>34</td>\n",
       "      <td>services</td>\n",
       "      <td>divorced</td>\n",
       "      <td>primary</td>\n",
       "      <td>no</td>\n",
       "      <td>no</td>\n",
       "      <td>nov</td>\n",
       "      <td>cell</td>\n",
       "      <td>254</td>\n",
       "      <td>1</td>\n",
       "      <td>999</td>\n",
       "      <td>0</td>\n",
       "      <td>-0.1</td>\n",
       "      <td>93.200</td>\n",
       "      <td>-42.0</td>\n",
       "      <td>4.120</td>\n",
       "      <td>5195.8</td>\n",
       "    </tr>\n",
       "    <tr>\n",
       "      <th>16521</th>\n",
       "      <td>39</td>\n",
       "      <td>admin</td>\n",
       "      <td>divorced</td>\n",
       "      <td>university</td>\n",
       "      <td>no</td>\n",
       "      <td>no</td>\n",
       "      <td>aug</td>\n",
       "      <td>cell</td>\n",
       "      <td>199</td>\n",
       "      <td>4</td>\n",
       "      <td>999</td>\n",
       "      <td>0</td>\n",
       "      <td>1.4</td>\n",
       "      <td>93.444</td>\n",
       "      <td>-36.1</td>\n",
       "      <td>4.963</td>\n",
       "      <td>5228.1</td>\n",
       "    </tr>\n",
       "    <tr>\n",
       "      <th>3759</th>\n",
       "      <td>22</td>\n",
       "      <td>unemployed</td>\n",
       "      <td>single</td>\n",
       "      <td>university</td>\n",
       "      <td>no</td>\n",
       "      <td>yes</td>\n",
       "      <td>oct</td>\n",
       "      <td>phone</td>\n",
       "      <td>34</td>\n",
       "      <td>2</td>\n",
       "      <td>999</td>\n",
       "      <td>0</td>\n",
       "      <td>-1.1</td>\n",
       "      <td>94.601</td>\n",
       "      <td>-49.5</td>\n",
       "      <td>0.977</td>\n",
       "      <td>4963.6</td>\n",
       "    </tr>\n",
       "    <tr>\n",
       "      <th>37173</th>\n",
       "      <td>32</td>\n",
       "      <td>technician</td>\n",
       "      <td>divorced</td>\n",
       "      <td>middle</td>\n",
       "      <td>no</td>\n",
       "      <td>no</td>\n",
       "      <td>apr</td>\n",
       "      <td>cell</td>\n",
       "      <td>105</td>\n",
       "      <td>1</td>\n",
       "      <td>999</td>\n",
       "      <td>0</td>\n",
       "      <td>-1.8</td>\n",
       "      <td>93.075</td>\n",
       "      <td>-47.1</td>\n",
       "      <td>1.405</td>\n",
       "      <td>5099.1</td>\n",
       "    </tr>\n",
       "    <tr>\n",
       "      <th>21030</th>\n",
       "      <td>49</td>\n",
       "      <td>admin</td>\n",
       "      <td>single</td>\n",
       "      <td>high</td>\n",
       "      <td>yes</td>\n",
       "      <td>no</td>\n",
       "      <td>oct</td>\n",
       "      <td>cell</td>\n",
       "      <td>136</td>\n",
       "      <td>2</td>\n",
       "      <td>999</td>\n",
       "      <td>0</td>\n",
       "      <td>-3.4</td>\n",
       "      <td>92.431</td>\n",
       "      <td>-26.9</td>\n",
       "      <td>0.739</td>\n",
       "      <td>5017.5</td>\n",
       "    </tr>\n",
       "  </tbody>\n",
       "</table>\n",
       "<p>7427 rows × 17 columns</p>\n",
       "</div>"
      ],
      "text/plain": [
       "       x1           x2        x3          x4   x5   x6   x7     x8   x9  x10  \\\n",
       "15316  34   management   married  university  yes   no  nov   cell  130    6   \n",
       "26128  24     services   married        high   no   no  jul  phone  139    1   \n",
       "36928  50        admin   married        high  yes   no  nov  phone  182    2   \n",
       "5654   57  blue-collar   married      middle  yes   no  jul   cell  101    3   \n",
       "16122  33   technician    single  university   no   no  aug   cell  134    6   \n",
       "...    ..          ...       ...         ...  ...  ...  ...    ...  ...  ...   \n",
       "28652  34     services  divorced     primary   no   no  nov   cell  254    1   \n",
       "16521  39        admin  divorced  university   no   no  aug   cell  199    4   \n",
       "3759   22   unemployed    single  university   no  yes  oct  phone   34    2   \n",
       "37173  32   technician  divorced      middle   no   no  apr   cell  105    1   \n",
       "21030  49        admin    single        high  yes   no  oct   cell  136    2   \n",
       "\n",
       "       x11  x12  x13     x14   x15    x16     x17  \n",
       "15316  999    0 -0.1  93.200 -42.0  4.076  5195.8  \n",
       "26128  999    0  1.4  93.918 -42.7  4.963  5228.1  \n",
       "36928  999    0 -0.1  93.200 -42.0  4.021  5195.8  \n",
       "5654   999    0  1.4  93.918 -42.7  4.961  5228.1  \n",
       "16122  999    0  1.4  93.444 -36.1  4.963  5228.1  \n",
       "...    ...  ...  ...     ...   ...    ...     ...  \n",
       "28652  999    0 -0.1  93.200 -42.0  4.120  5195.8  \n",
       "16521  999    0  1.4  93.444 -36.1  4.963  5228.1  \n",
       "3759   999    0 -1.1  94.601 -49.5  0.977  4963.6  \n",
       "37173  999    0 -1.8  93.075 -47.1  1.405  5099.1  \n",
       "21030  999    0 -3.4  92.431 -26.9  0.739  5017.5  \n",
       "\n",
       "[7427 rows x 17 columns]"
      ]
     },
     "execution_count": 14,
     "metadata": {},
     "output_type": "execute_result"
    }
   ],
   "source": [
    "#split 20%test set and 80%training set\n",
    "#random set is set to 30\n",
    "\n",
    "from sklearn.model_selection import train_test_split\n",
    "x_train,x_test,y_train,y_test  = train_test_split(x, y, test_size=0.2, random_state=30)\n",
    "x_test.shape\n",
    "x_test"
   ]
  },
  {
   "cell_type": "code",
   "execution_count": 15,
   "id": "39eead20",
   "metadata": {},
   "outputs": [
    {
     "name": "stdout",
     "output_type": "stream",
     "text": [
      "<class 'pandas.core.frame.DataFrame'>\n",
      "<class 'pandas.core.series.Series'>\n"
     ]
    }
   ],
   "source": [
    "#check type after split\n",
    "#the function will convert our df to other type\n",
    "print(type(x_train))\n",
    "print(type(y_train))"
   ]
  },
  {
   "cell_type": "code",
   "execution_count": 16,
   "id": "fbe6ecf1",
   "metadata": {},
   "outputs": [
    {
     "data": {
      "text/plain": [
       "x1     0\n",
       "x2     0\n",
       "x3     0\n",
       "x4     0\n",
       "x5     0\n",
       "x6     0\n",
       "x7     0\n",
       "x8     0\n",
       "x9     0\n",
       "x10    0\n",
       "x11    0\n",
       "x12    0\n",
       "x13    0\n",
       "x14    3\n",
       "x15    0\n",
       "x16    0\n",
       "x17    0\n",
       "dtype: int64"
      ]
     },
     "execution_count": 16,
     "metadata": {},
     "output_type": "execute_result"
    }
   ],
   "source": [
    "x_train.isnull().sum()\n",
    "#total got 6 missing value in x14(Numerical Data)\n",
    "#3 in test set 3 in training set"
   ]
  },
  {
   "cell_type": "code",
   "execution_count": 17,
   "id": "13ac8b3d",
   "metadata": {},
   "outputs": [
    {
     "name": "stdout",
     "output_type": "stream",
     "text": [
      "Shape of x train numerical is  (29707, 10)\n",
      "Shape of x train categorical is  (29707, 7)\n"
     ]
    }
   ],
   "source": [
    "#split training set x to numerical and categorical\n",
    "#split x2....... to categorical\n",
    "#as from the df.info(0 we can know that which are categorical and which one are numerical)\n",
    "x_train_num=x_train.drop(['x2', 'x3','x4', 'x5', 'x6', 'x7', 'x8'], axis=1)\n",
    "x_train_cat=x_train[['x2', 'x3','x4', 'x5', 'x6', 'x7', 'x8']]\n",
    "print(\"Shape of x train numerical is \", x_train_num.shape)\n",
    "print(\"Shape of x train categorical is \", x_train_cat.shape)"
   ]
  },
  {
   "cell_type": "code",
   "execution_count": 18,
   "id": "cf3f6324",
   "metadata": {},
   "outputs": [
    {
     "data": {
      "text/plain": [
       "x2    0\n",
       "x3    0\n",
       "x4    0\n",
       "x5    0\n",
       "x6    0\n",
       "x7    0\n",
       "x8    0\n",
       "dtype: int64"
      ]
     },
     "execution_count": 18,
     "metadata": {},
     "output_type": "execute_result"
    }
   ],
   "source": [
    "#double check the whether there is missing value in categorical data\n",
    "x_train_cat.isnull().sum()\n",
    "#There are no missing data in x_train num"
   ]
  },
  {
   "cell_type": "code",
   "execution_count": 88,
   "id": "2270f9e3",
   "metadata": {},
   "outputs": [
    {
     "name": "stdout",
     "output_type": "stream",
     "text": [
      "Number of missing values for all columns in x_train_num(training numerical dataset):\n"
     ]
    },
    {
     "data": {
      "text/plain": [
       "x1     0\n",
       "x9     0\n",
       "x10    0\n",
       "x11    0\n",
       "x12    0\n",
       "x13    0\n",
       "x14    3\n",
       "x15    0\n",
       "x16    0\n",
       "x17    0\n",
       "dtype: int64"
      ]
     },
     "execution_count": 88,
     "metadata": {},
     "output_type": "execute_result"
    }
   ],
   "source": [
    "print('Number of missing values for all columns in x_train_num(training numerical dataset):')\n",
    "x_train_num.isnull().sum()"
   ]
  },
  {
   "cell_type": "code",
   "execution_count": 20,
   "id": "1c416b08",
   "metadata": {},
   "outputs": [],
   "source": [
    "#Use imputer to replace the missing vale\n",
    "#use most frequent strategy(mode) as the the data distribtuion is normal(not skewed) ---> can find article\n",
    "#then fit and transform\n",
    "from sklearn.impute import SimpleImputer\n",
    "imputer=SimpleImputer(strategy = 'most_frequent')\n",
    "imputer.fit(x_train_num)\n",
    "x_train_num_tr=imputer.transform(x_train_num)"
   ]
  },
  {
   "cell_type": "code",
   "execution_count": 21,
   "id": "fc461957",
   "metadata": {},
   "outputs": [
    {
     "name": "stdout",
     "output_type": "stream",
     "text": [
      "<class 'pandas.core.frame.DataFrame'>\n",
      "<class 'numpy.ndarray'>\n"
     ]
    }
   ],
   "source": [
    "#check data type\n",
    "#after the function of simpleImputer, type change from df to array\n",
    "print(type(x_train_num))\n",
    "print(type(x_train_num_tr))"
   ]
  },
  {
   "cell_type": "code",
   "execution_count": 22,
   "id": "5e8c3a4f",
   "metadata": {},
   "outputs": [
    {
     "name": "stdout",
     "output_type": "stream",
     "text": [
      "Number of missing values for all columns:\n"
     ]
    },
    {
     "data": {
      "text/plain": [
       "x1     0\n",
       "x9     0\n",
       "x10    0\n",
       "x11    0\n",
       "x12    0\n",
       "x13    0\n",
       "x14    0\n",
       "x15    0\n",
       "x16    0\n",
       "x17    0\n",
       "dtype: int64"
      ]
     },
     "execution_count": 22,
     "metadata": {},
     "output_type": "execute_result"
    }
   ],
   "source": [
    "print('Number of missing values for all columns:')\n",
    "#change array back to df\n",
    "x_train_num_tr_pd = pd.DataFrame(x_train_num_tr, columns = x_train_num.columns)\n",
    "x_train_num_tr_pd.isnull().sum() #no missing value in numerical after replacement of data"
   ]
  },
  {
   "cell_type": "code",
   "execution_count": 23,
   "id": "98289e63",
   "metadata": {},
   "outputs": [
    {
     "data": {
      "text/plain": [
       "array([[ 1.2794346 , -0.43612392, -0.20603935, ..., -1.22483857,\n",
       "        -1.35065397, -0.96037953],\n",
       "       [-1.34899506, -0.12512218, -0.20603935, ..., -1.22483857,\n",
       "        -1.38251706, -0.96037953],\n",
       "       [ 0.0138944 , -0.30557998, -0.20603935, ..., -1.42019113,\n",
       "        -1.2892451 , -0.96037953],\n",
       "       ...,\n",
       "       [-0.1808041 , -0.83543479,  0.87837764, ..., -0.4651342 ,\n",
       "         0.77084858,  0.84443695],\n",
       "       [-0.76489958, -0.85463243, -0.56751168, ..., -0.31319333,\n",
       "         0.3027508 ,  0.39253329],\n",
       "       [ 1.66883159, -0.58970502, -0.56751168, ..., -0.4651342 ,\n",
       "         0.77084858,  0.84443695]])"
      ]
     },
     "execution_count": 23,
     "metadata": {},
     "output_type": "execute_result"
    }
   ],
   "source": [
    "#use standard Scaler to [defination], to prevent....\n",
    "#after the standard scaler function, value of mean and stdev will....\n",
    "from sklearn.preprocessing import StandardScaler\n",
    "scaler=StandardScaler(copy=False)\n",
    "scaler.fit(x_train_num_tr_pd)\n",
    "x_train_num_tr=scaler.transform(x_train_num_tr_pd)\n",
    "x_train_num_tr"
   ]
  },
  {
   "cell_type": "code",
   "execution_count": 24,
   "id": "9a04cc15",
   "metadata": {},
   "outputs": [
    {
     "name": "stdout",
     "output_type": "stream",
     "text": [
      ">>> Mean of all columns:\n",
      " [-5.66865144e-17 -9.61518093e-17 -2.27224425e-17 -3.26963988e-16\n",
      "  5.87195751e-17  1.00457114e-17 -1.67021911e-14  5.81933711e-16\n",
      "  2.43967277e-16 -9.13920555e-16]\n",
      "\n",
      ">>> Std of all columns:\n",
      " [1. 1. 1. 1. 1. 1. 1. 1. 1. 1.]\n"
     ]
    }
   ],
   "source": [
    "#display the mean and stdev value\n",
    "#mean value is close to zero and stdev is 1\n",
    "#it shows that....\n",
    "\n",
    "print('>>> Mean of all columns:\\n', x_train_num_tr.mean(axis=0))\n",
    "print('\\n>>> Std of all columns:\\n', x_train_num_tr.std(axis=0))"
   ]
  },
  {
   "cell_type": "code",
   "execution_count": 25,
   "id": "0fe0d1c7",
   "metadata": {},
   "outputs": [],
   "source": [
    "def obtain_unique_value(df, col):\n",
    "    return dict(enumerate(df[col].unique()))\n",
    "\n",
    "transfomed_df = x_train_cat.copy()\n",
    "# convert the categorical data into numeric column\n",
    "for feature in x_train_cat.select_dtypes(include = 'object'):\n",
    "    unique_value = obtain_unique_value(x_train_cat, feature)\n",
    "    unique_value = {v: k for k, v in unique_value.items()}\n",
    "    transfomed_df[feature] = df[feature].replace(unique_value)"
   ]
  },
  {
   "cell_type": "code",
   "execution_count": 26,
   "id": "5a10bcd5",
   "metadata": {},
   "outputs": [
    {
     "data": {
      "text/html": [
       "<div>\n",
       "<style scoped>\n",
       "    .dataframe tbody tr th:only-of-type {\n",
       "        vertical-align: middle;\n",
       "    }\n",
       "\n",
       "    .dataframe tbody tr th {\n",
       "        vertical-align: top;\n",
       "    }\n",
       "\n",
       "    .dataframe thead th {\n",
       "        text-align: right;\n",
       "    }\n",
       "</style>\n",
       "<table border=\"1\" class=\"dataframe\">\n",
       "  <thead>\n",
       "    <tr style=\"text-align: right;\">\n",
       "      <th></th>\n",
       "      <th>x2</th>\n",
       "      <th>x3</th>\n",
       "      <th>x4</th>\n",
       "      <th>x5</th>\n",
       "      <th>x6</th>\n",
       "      <th>x7</th>\n",
       "      <th>x8</th>\n",
       "    </tr>\n",
       "  </thead>\n",
       "  <tbody>\n",
       "    <tr>\n",
       "      <th>4393</th>\n",
       "      <td>0</td>\n",
       "      <td>0</td>\n",
       "      <td>0</td>\n",
       "      <td>0</td>\n",
       "      <td>0</td>\n",
       "      <td>0</td>\n",
       "      <td>0</td>\n",
       "    </tr>\n",
       "    <tr>\n",
       "      <th>37240</th>\n",
       "      <td>1</td>\n",
       "      <td>1</td>\n",
       "      <td>1</td>\n",
       "      <td>0</td>\n",
       "      <td>0</td>\n",
       "      <td>0</td>\n",
       "      <td>0</td>\n",
       "    </tr>\n",
       "    <tr>\n",
       "      <th>37036</th>\n",
       "      <td>2</td>\n",
       "      <td>0</td>\n",
       "      <td>0</td>\n",
       "      <td>0</td>\n",
       "      <td>0</td>\n",
       "      <td>1</td>\n",
       "      <td>0</td>\n",
       "    </tr>\n",
       "    <tr>\n",
       "      <th>93</th>\n",
       "      <td>3</td>\n",
       "      <td>1</td>\n",
       "      <td>1</td>\n",
       "      <td>0</td>\n",
       "      <td>0</td>\n",
       "      <td>2</td>\n",
       "      <td>0</td>\n",
       "    </tr>\n",
       "    <tr>\n",
       "      <th>28628</th>\n",
       "      <td>4</td>\n",
       "      <td>0</td>\n",
       "      <td>1</td>\n",
       "      <td>1</td>\n",
       "      <td>0</td>\n",
       "      <td>0</td>\n",
       "      <td>1</td>\n",
       "    </tr>\n",
       "    <tr>\n",
       "      <th>...</th>\n",
       "      <td>...</td>\n",
       "      <td>...</td>\n",
       "      <td>...</td>\n",
       "      <td>...</td>\n",
       "      <td>...</td>\n",
       "      <td>...</td>\n",
       "      <td>...</td>\n",
       "    </tr>\n",
       "    <tr>\n",
       "      <th>16993</th>\n",
       "      <td>5</td>\n",
       "      <td>0</td>\n",
       "      <td>3</td>\n",
       "      <td>0</td>\n",
       "      <td>0</td>\n",
       "      <td>2</td>\n",
       "      <td>0</td>\n",
       "    </tr>\n",
       "    <tr>\n",
       "      <th>32844</th>\n",
       "      <td>10</td>\n",
       "      <td>0</td>\n",
       "      <td>1</td>\n",
       "      <td>0</td>\n",
       "      <td>0</td>\n",
       "      <td>5</td>\n",
       "      <td>0</td>\n",
       "    </tr>\n",
       "    <tr>\n",
       "      <th>988</th>\n",
       "      <td>2</td>\n",
       "      <td>1</td>\n",
       "      <td>0</td>\n",
       "      <td>1</td>\n",
       "      <td>0</td>\n",
       "      <td>5</td>\n",
       "      <td>1</td>\n",
       "    </tr>\n",
       "    <tr>\n",
       "      <th>35810</th>\n",
       "      <td>3</td>\n",
       "      <td>1</td>\n",
       "      <td>3</td>\n",
       "      <td>1</td>\n",
       "      <td>0</td>\n",
       "      <td>2</td>\n",
       "      <td>0</td>\n",
       "    </tr>\n",
       "    <tr>\n",
       "      <th>4874</th>\n",
       "      <td>3</td>\n",
       "      <td>1</td>\n",
       "      <td>3</td>\n",
       "      <td>1</td>\n",
       "      <td>0</td>\n",
       "      <td>5</td>\n",
       "      <td>0</td>\n",
       "    </tr>\n",
       "  </tbody>\n",
       "</table>\n",
       "<p>29707 rows × 7 columns</p>\n",
       "</div>"
      ],
      "text/plain": [
       "       x2  x3  x4  x5  x6  x7  x8\n",
       "4393    0   0   0   0   0   0   0\n",
       "37240   1   1   1   0   0   0   0\n",
       "37036   2   0   0   0   0   1   0\n",
       "93      3   1   1   0   0   2   0\n",
       "28628   4   0   1   1   0   0   1\n",
       "...    ..  ..  ..  ..  ..  ..  ..\n",
       "16993   5   0   3   0   0   2   0\n",
       "32844  10   0   1   0   0   5   0\n",
       "988     2   1   0   1   0   5   1\n",
       "35810   3   1   3   1   0   2   0\n",
       "4874    3   1   3   1   0   5   0\n",
       "\n",
       "[29707 rows x 7 columns]"
      ]
     },
     "execution_count": 26,
     "metadata": {},
     "output_type": "execute_result"
    }
   ],
   "source": [
    "x_train_cat_tr=transfomed_df\n",
    "x_train_cat_tr"
   ]
  },
  {
   "cell_type": "code",
   "execution_count": 27,
   "id": "67431e73",
   "metadata": {},
   "outputs": [
    {
     "name": "stdout",
     "output_type": "stream",
     "text": [
      "x_train_tr shape: (29707, 17)\n",
      "y_train shape: (29707,)\n"
     ]
    }
   ],
   "source": [
    "#combine x_train numerical and categorical data\n",
    "x_train_tr = np.hstack([x_train_num_tr, x_train_cat_tr])\n",
    "y_train = y_train.values;  #convert to numpy array\n",
    "\n",
    "print('x_train_tr shape:', x_train_tr.shape)\n",
    "print('y_train shape:', y_train.shape)"
   ]
  },
  {
   "cell_type": "markdown",
   "id": "13f41a0a",
   "metadata": {},
   "source": [
    "<--------break----->"
   ]
  },
  {
   "cell_type": "code",
   "execution_count": 28,
   "id": "5b8f3f45",
   "metadata": {},
   "outputs": [
    {
     "data": {
      "text/plain": [
       "SGDClassifier(max_iter=5, random_state=42, tol=None)"
      ]
     },
     "execution_count": 28,
     "metadata": {},
     "output_type": "execute_result"
    }
   ],
   "source": [
    "from sklearn.linear_model import SGDClassifier\n",
    "\n",
    "# Exercise: create a SGDClassifier(random_state = 42, max_iter = 5, tol = None) \n",
    "sgd_clf=SGDClassifier(random_state = 42, max_iter = 5, tol = None) \n",
    "# Train using the training set\n",
    "sgd_clf.fit(x_train_tr, y_train)"
   ]
  },
  {
   "cell_type": "code",
   "execution_count": 29,
   "id": "f3448e71",
   "metadata": {},
   "outputs": [],
   "source": [
    "#performing prediction\n",
    "y_pred=sgd_clf.predict(x_train_tr)"
   ]
  },
  {
   "cell_type": "code",
   "execution_count": 30,
   "id": "8e6d07ca",
   "metadata": {},
   "outputs": [],
   "source": [
    "def peek_results(actual, predicted, num = 20):\n",
    "    print('actual |  Predicted')\n",
    "    print('------------------')\n",
    "    for i in range(num):\n",
    "        sel = np.random.randint(0, len(y_train))\n",
    "        print(actual[sel], ' |', predicted[sel])\n",
    "        \n",
    "def peek_scores(actual, scores, num = 20):\n",
    "    print('actual |  score')\n",
    "    print('------------------')\n",
    "    for i in range(num):\n",
    "        sel = np.random.randint(0, len(y_train))\n",
    "        print(actual[sel], ' |', scores[sel])"
   ]
  },
  {
   "cell_type": "code",
   "execution_count": 31,
   "id": "d2be72cb",
   "metadata": {},
   "outputs": [
    {
     "name": "stdout",
     "output_type": "stream",
     "text": [
      "actual |  Predicted\n",
      "------------------\n",
      "False  | False\n",
      "False  | False\n",
      "False  | False\n",
      "False  | False\n",
      "True  | False\n",
      "False  | False\n",
      "False  | False\n",
      "False  | False\n",
      "False  | False\n",
      "False  | True\n",
      "False  | False\n",
      "False  | False\n",
      "False  | False\n",
      "False  | True\n",
      "False  | False\n",
      "False  | False\n",
      "False  | False\n",
      "True  | False\n",
      "False  | False\n",
      "False  | False\n"
     ]
    }
   ],
   "source": [
    "peek_results(y_train, y_pred)"
   ]
  },
  {
   "cell_type": "code",
   "execution_count": 32,
   "id": "98cbde18",
   "metadata": {},
   "outputs": [
    {
     "name": "stdout",
     "output_type": "stream",
     "text": [
      "Training accuracy:  0.8898\n"
     ]
    }
   ],
   "source": [
    "#Training Accuracy\n",
    "from sklearn.metrics import accuracy_score\n",
    "\n",
    "# Exercise: compute accuracy using accuracy_score and show the result\n",
    "acc=accuracy_score(y_train, y_pred)\n",
    "print(\"Training accuracy: \", round(acc, 4))"
   ]
  },
  {
   "cell_type": "code",
   "execution_count": 33,
   "id": "ad53fdd5",
   "metadata": {},
   "outputs": [
    {
     "name": "stdout",
     "output_type": "stream",
     "text": [
      "[0.90770474 0.82387396 0.89931327]\n"
     ]
    }
   ],
   "source": [
    "#Measuring training accuracy using Cross-Validation\n",
    "from sklearn.model_selection import cross_val_score\n",
    "\n",
    "# Exercise: compute 3-fold cross-validation accuracy and show the result\n",
    "k_scores = cross_val_score(sgd_clf, x_train_tr, y_train, cv=3, scoring='accuracy')\n",
    "print(k_scores)"
   ]
  },
  {
   "cell_type": "code",
   "execution_count": 34,
   "id": "e656cbb5",
   "metadata": {},
   "outputs": [
    {
     "name": "stdout",
     "output_type": "stream",
     "text": [
      "Accuracy using prediction values: 0.8897902851179856\n",
      "Accuracy using all zeros values: 0.8896556367186185\n"
     ]
    }
   ],
   "source": [
    "#Problems with accuracy\n",
    "from sklearn.metrics import accuracy_score\n",
    "\n",
    "y_train_pred = sgd_clf.predict(x_train_tr)  # make sure sgd_clf has been trained\n",
    "print('Accuracy using prediction values:', accuracy_score(y_train, y_train_pred))\n",
    "\n",
    "y_train_allfalse = np.zeros(len(y_train), dtype=bool)\n",
    "print('Accuracy using all zeros values:', accuracy_score(y_train, y_train_allfalse))"
   ]
  },
  {
   "cell_type": "code",
   "execution_count": 35,
   "id": "8a153834",
   "metadata": {},
   "outputs": [],
   "source": [
    "#Perform cross-validated prediction\n",
    "from sklearn.model_selection import cross_val_predict\n",
    "\n",
    "#perform cross-validatied prediction using cross_val_predict\n",
    "y_pred_cv = cross_val_predict(sgd_clf, x_train_tr, y_train, cv=3)"
   ]
  },
  {
   "cell_type": "code",
   "execution_count": 36,
   "id": "9559765c",
   "metadata": {},
   "outputs": [
    {
     "name": "stdout",
     "output_type": "stream",
     "text": [
      "actual |  Predicted\n",
      "------------------\n",
      "False  | False\n",
      "False  | False\n",
      "False  | False\n",
      "False  | False\n",
      "False  | False\n",
      "False  | False\n",
      "False  | False\n",
      "False  | False\n",
      "False  | False\n",
      "False  | False\n",
      "False  | False\n",
      "True  | True\n",
      "False  | False\n",
      "False  | True\n",
      "False  | False\n",
      "False  | False\n",
      "False  | False\n",
      "False  | False\n",
      "False  | False\n",
      "False  | False\n"
     ]
    }
   ],
   "source": [
    "#display some random result \n",
    "peek_results(y_train, y_pred_cv)"
   ]
  },
  {
   "cell_type": "code",
   "execution_count": 37,
   "id": "f75c81c1",
   "metadata": {},
   "outputs": [
    {
     "data": {
      "text/plain": [
       "array([[24595,  1834],\n",
       "       [ 1821,  1457]], dtype=int64)"
      ]
     },
     "execution_count": 37,
     "metadata": {},
     "output_type": "execute_result"
    }
   ],
   "source": [
    "#Compute confusion metrics\n",
    "from sklearn.metrics import confusion_matrix\n",
    "cm=confusion_matrix(y_train, y_pred_cv)\n",
    "cm"
   ]
  },
  {
   "cell_type": "code",
   "execution_count": 38,
   "id": "27e70d6c",
   "metadata": {},
   "outputs": [
    {
     "data": {
      "image/png": "[encoded data removed]",
      "text/plain": [
       "<Figure size 432x288 with 2 Axes>"
      ]
     },
     "metadata": {
      "needs_background": "light"
     },
     "output_type": "display_data"
    }
   ],
   "source": [
    "#Plotting the confusion matrix\n",
    "group_names = ['True Neg','False Pos','False Neg','True Pos']\n",
    "\n",
    "group_counts = [\"{0:0.0f}\".format(value) for value in\n",
    "                cm.flatten()]\n",
    "\n",
    "group_percentages = [\"{0:.2%}\".format(value) for value in\n",
    "                     cm.flatten()/np.sum(cm)]\n",
    "\n",
    "labels = [f\"{v1}\\n{v2}\\n{v3}\" for v1, v2, v3 in\n",
    "          zip(group_names,group_counts,group_percentages)]\n",
    "\n",
    "labels = np.asarray(labels).reshape(2,2)\n",
    "\n",
    "ax = sns.heatmap(cm, annot=labels, fmt='', cmap='Blues')\n",
    "\n",
    "ax.set_title('Confusion Matrix with labels\\n\\n');\n",
    "ax.set_xlabel('\\nPredicted Values')\n",
    "ax.set_ylabel('Actual Values ');\n",
    "\n",
    "## Ticket labels - List must be in alphabetical order\n",
    "ax.xaxis.set_ticklabels(['False','True'])\n",
    "ax.yaxis.set_ticklabels(['False','True'])\n",
    "\n",
    "## Display the visualization of the Confusion Matrix.\n",
    "plt.show()"
   ]
  },
  {
   "cell_type": "code",
   "execution_count": 39,
   "id": "7490f0fd",
   "metadata": {},
   "outputs": [
    {
     "name": "stdout",
     "output_type": "stream",
     "text": [
      "Precision:  0.4427\n",
      "Recall:  0.4445\n",
      "F1 score:  0.4436\n"
     ]
    }
   ],
   "source": [
    "#Performance Measure: Precision, Recall and F1 Scorei\n",
    "from sklearn.metrics import precision_score, recall_score, f1_score\n",
    "\n",
    "precision=round(precision_score(y_train, y_pred_cv),4)\n",
    "recall=round(recall_score(y_train, y_pred_cv),4)\n",
    "f1_score=round(f1_score(y_train, y_pred_cv),4)\n",
    "print(\"Precision: \",precision)\n",
    "print(\"Recall: \",recall)\n",
    "print(\"F1 score: \", f1_score)"
   ]
  },
  {
   "cell_type": "code",
   "execution_count": 40,
   "id": "55498ed1",
   "metadata": {},
   "outputs": [
    {
     "name": "stdout",
     "output_type": "stream",
     "text": [
      "actual |  score\n",
      "------------------\n",
      "False  | -3.081684377555789\n",
      "False  | -3.43523715973024\n",
      "False  | 7.151659447093673\n",
      "False  | -3.9321481847258832\n",
      "False  | -7.575169988017379\n",
      "False  | -8.190265313959172\n",
      "True  | 0.6556956706926669\n",
      "False  | 2.6932434220673946\n",
      "False  | -7.0978899234492845\n",
      "False  | -7.72845663685915\n",
      "False  | -5.741129901526805\n",
      "False  | -5.7041986199059735\n",
      "False  | -0.37699748039531755\n",
      "False  | -6.45154597809039\n",
      "False  | -2.9121514532879624\n",
      "False  | -5.409691131742061\n",
      "False  | -6.8849071047759915\n",
      "False  | -4.008165565494125\n",
      "False  | 4.192656192806217\n",
      "False  | -6.183836213598504\n"
     ]
    }
   ],
   "source": [
    "#Generating prediction scores\n",
    "\n",
    "y_scores = sgd_clf.decision_function(x_train_tr) # retrieve classification scores\n",
    "peek_scores(y_train, y_scores)"
   ]
  },
  {
   "cell_type": "code",
   "execution_count": 41,
   "id": "ffb056dc",
   "metadata": {},
   "outputs": [
    {
     "data": {
      "text/plain": [
       "array([ -6.04473027,  -2.55963861,  -4.36344544, ..., -10.74700499,\n",
       "       -11.92414279, -10.48087068])"
      ]
     },
     "execution_count": 41,
     "metadata": {},
     "output_type": "execute_result"
    }
   ],
   "source": [
    "#retrieve the average cross-validated prediction score values for all samples \n",
    "y_scores_cv = cross_val_predict(sgd_clf, x_train_tr, y_train, cv=3, method=\"decision_function\")\n",
    "y_scores_cv"
   ]
  },
  {
   "cell_type": "code",
   "execution_count": 42,
   "id": "e2cc52a9",
   "metadata": {},
   "outputs": [],
   "source": [
    "#Plot precision and recall graph\n",
    "from sklearn.metrics import precision_recall_curve\n",
    "\n",
    "#compute precision-recall pairs for different threshold values \n",
    "precisions, recalls, thresholds = precision_recall_curve(y_train, y_scores_cv)"
   ]
  },
  {
   "cell_type": "code",
   "execution_count": 43,
   "id": "cfd3d241",
   "metadata": {},
   "outputs": [],
   "source": [
    "\n",
    "def plot_precision_vs_recall(precisions, recalls):\n",
    "    plt.plot(recalls, precisions, \"b-\", linewidth=3)\n",
    "    plt.plot(np.linspace(0, 1, 20), np.linspace(1, 0, 20), 'k--')\n",
    "    plt.xlabel(\"Recall\", fontsize=16)\n",
    "    plt.ylabel(\"Precision\", fontsize=16)\n",
    "    plt.axis([0, 1, 0, 1])\n",
    "        \n",
    "def plot_roc_curve (fpr, tpr, style = 'b-', label = None):\n",
    "    plt.plot(fpr, tpr, style, linewidth = 3, label = label)\n",
    "    plt.plot([0,1], [0, 1], 'k--')\n",
    "    plt.axis([0, 1, 0, 1])\n",
    "    plt.xlabel ('False Positive Rate')\n",
    "    plt.ylabel ('True Positive Rate')\n",
    "    plt.title('TPR vs FPR', fontsize=20)"
   ]
  },
  {
   "cell_type": "code",
   "execution_count": 44,
   "id": "ea45da2d",
   "metadata": {},
   "outputs": [
    {
     "data": {
      "image/png": "[encoded data removed]",
      "text/plain": [
       "<Figure size 576x432 with 1 Axes>"
      ]
     },
     "metadata": {
      "needs_background": "light"
     },
     "output_type": "display_data"
    }
   ],
   "source": [
    "#Plot precision and recall graph\n",
    "plt.figure(figsize=(8, 6))\n",
    "plot_precision_vs_recall(precisions, recalls)\n",
    "plt.title ('Precision-Recall Graph (Training Set)', fontsize = 20)\n",
    "plt.show()"
   ]
  },
  {
   "cell_type": "code",
   "execution_count": 45,
   "id": "45877db7",
   "metadata": {},
   "outputs": [],
   "source": [
    "#Plot ROC graph\n",
    "from sklearn.metrics import roc_curve\n",
    "\n",
    "# Exercise: compute FPR-TPR pairs \n",
    "fpr, tpr, thresholds = roc_curve(y_train, y_scores_cv)"
   ]
  },
  {
   "cell_type": "code",
   "execution_count": 46,
   "id": "4c85f7c9",
   "metadata": {},
   "outputs": [
    {
     "data": {
      "image/png": "[encoded data removed]",
      "text/plain": [
       "<Figure size 432x288 with 1 Axes>"
      ]
     },
     "metadata": {
      "needs_background": "light"
     },
     "output_type": "display_data"
    }
   ],
   "source": [
    "plot_roc_curve(fpr, tpr)"
   ]
  },
  {
   "cell_type": "code",
   "execution_count": 47,
   "id": "dcc0d316",
   "metadata": {},
   "outputs": [
    {
     "name": "stdout",
     "output_type": "stream",
     "text": [
      "AUC = 0.8159\n"
     ]
    }
   ],
   "source": [
    "#The AUC (Area under curve) measure\n",
    "from sklearn.metrics import roc_auc_score\n",
    "\n",
    "auc = roc_auc_score(y_train, y_scores_cv)\n",
    "\n",
    "print('AUC = {:.4f}'.format(auc))"
   ]
  },
  {
   "cell_type": "code",
   "execution_count": 56,
   "id": "f1a2400d",
   "metadata": {},
   "outputs": [
    {
     "name": "stdout",
     "output_type": "stream",
     "text": [
      "Fitting 5 folds for each of 1000 candidates, totalling 5000 fits\n",
      "Best Score:  0.9313745983750297\n",
      "Best Params:  {'penalty': 'l1', 'loss': 'log', 'learning_rate': 'optimal', 'eta0': 10, 'class_weight': {1: 0.7, 0: 0.3}, 'alpha': 0.01}\n"
     ]
    }
   ],
   "source": [
    "from sklearn.model_selection import RandomizedSearchCV\n",
    "loss = ['hinge', 'log', 'modified_huber', 'squared_hinge', 'perceptron'] \n",
    "penalty = ['l1', 'l2', 'elasticnet'] \n",
    "alpha = [0.0001, 0.001, 0.01, 0.1, 1, 10, 100, 1000] \n",
    "learning_rate = ['constant', 'optimal', 'invscaling', 'adaptive'] \n",
    "class_weight = [{1:0.5, 0:0.5}, {1:0.4, 0:0.6}, {1:0.6, 0:0.4}, {1:0.7, 0:0.3}] \n",
    "eta0 = [1, 10, 100] \n",
    "param_distributions = dict(loss=loss, penalty=penalty, alpha=alpha, learning_rate=learning_rate, class_weight=class_weight, eta0=eta0)\n",
    "\n",
    "sgd = SGDClassifier(loss=\"hinge\", penalty=\"l2\", max_iter=5) \n",
    "random = RandomizedSearchCV(estimator=sgd, param_distributions=param_distributions, scoring='roc_auc', verbose=1, n_jobs=-1, n_iter=1000) \n",
    "random_result = random.fit(x_train_tr, y_train) \n",
    "print('Best Score: ', random_result.best_score_) \n",
    "print('Best Params: ', random_result.best_params_) "
   ]
  },
  {
   "cell_type": "code",
   "execution_count": 58,
   "id": "fe2da3e4",
   "metadata": {},
   "outputs": [
    {
     "data": {
      "text/plain": [
       "SGDClassifier(alpha=0.01, class_weight={0: 0.3, 1: 0.7}, eta0=10, loss='log',\n",
       "              max_iter=5, penalty='l1')"
      ]
     },
     "execution_count": 58,
     "metadata": {},
     "output_type": "execute_result"
    }
   ],
   "source": [
    "best_model = random.best_estimator_\n",
    "best_model"
   ]
  },
  {
   "cell_type": "code",
   "execution_count": null,
   "id": "525153a5",
   "metadata": {},
   "outputs": [],
   "source": []
  },
  {
   "cell_type": "code",
   "execution_count": 59,
   "id": "cd8945ed",
   "metadata": {},
   "outputs": [
    {
     "name": "stdout",
     "output_type": "stream",
     "text": [
      "Shape of x train numerical is  (7427, 10)\n",
      "Shape of x train categorical is  (7427, 7)\n"
     ]
    }
   ],
   "source": [
    "x_test_num=x_test.drop(['x2', 'x3','x4', 'x5', 'x6', 'x7', 'x8'], axis=1)\n",
    "x_test_cat=x_test[['x2', 'x3','x4', 'x5', 'x6', 'x7', 'x8']]\n",
    "print(\"Shape of x train numerical is \", x_test_num.shape)\n",
    "print(\"Shape of x train categorical is \", x_test_cat.shape)"
   ]
  },
  {
   "cell_type": "code",
   "execution_count": 64,
   "id": "32229f96",
   "metadata": {},
   "outputs": [],
   "source": [
    "x_test_num_tr = imputer.transform(x_test_num) "
   ]
  },
  {
   "cell_type": "code",
   "execution_count": 65,
   "id": "8b24bae8",
   "metadata": {},
   "outputs": [],
   "source": [
    "x_test_num_tr = scaler.transform(x_test_num_tr)"
   ]
  },
  {
   "cell_type": "code",
   "execution_count": 71,
   "id": "4cae4c39",
   "metadata": {},
   "outputs": [],
   "source": [
    "transfomed_df_test = x_test_cat.copy()\n",
    "# convert the categorical data into numeric column\n",
    "for feature in x_test_cat.select_dtypes(include = 'object'):\n",
    "    unique_value = obtain_unique_value(x_test_cat, feature)\n",
    "    unique_value = {v: k for k, v in unique_value.items()}\n",
    "    transfomed_df_test[feature] = df[feature].replace(unique_value)"
   ]
  },
  {
   "cell_type": "code",
   "execution_count": 72,
   "id": "0ce223f6",
   "metadata": {},
   "outputs": [
    {
     "data": {
      "text/html": [
       "<div>\n",
       "<style scoped>\n",
       "    .dataframe tbody tr th:only-of-type {\n",
       "        vertical-align: middle;\n",
       "    }\n",
       "\n",
       "    .dataframe tbody tr th {\n",
       "        vertical-align: top;\n",
       "    }\n",
       "\n",
       "    .dataframe thead th {\n",
       "        text-align: right;\n",
       "    }\n",
       "</style>\n",
       "<table border=\"1\" class=\"dataframe\">\n",
       "  <thead>\n",
       "    <tr style=\"text-align: right;\">\n",
       "      <th></th>\n",
       "      <th>x2</th>\n",
       "      <th>x3</th>\n",
       "      <th>x4</th>\n",
       "      <th>x5</th>\n",
       "      <th>x6</th>\n",
       "      <th>x7</th>\n",
       "      <th>x8</th>\n",
       "    </tr>\n",
       "  </thead>\n",
       "  <tbody>\n",
       "    <tr>\n",
       "      <th>15316</th>\n",
       "      <td>0</td>\n",
       "      <td>0</td>\n",
       "      <td>0</td>\n",
       "      <td>0</td>\n",
       "      <td>0</td>\n",
       "      <td>0</td>\n",
       "      <td>0</td>\n",
       "    </tr>\n",
       "    <tr>\n",
       "      <th>26128</th>\n",
       "      <td>1</td>\n",
       "      <td>0</td>\n",
       "      <td>1</td>\n",
       "      <td>1</td>\n",
       "      <td>0</td>\n",
       "      <td>1</td>\n",
       "      <td>1</td>\n",
       "    </tr>\n",
       "    <tr>\n",
       "      <th>36928</th>\n",
       "      <td>2</td>\n",
       "      <td>0</td>\n",
       "      <td>1</td>\n",
       "      <td>0</td>\n",
       "      <td>0</td>\n",
       "      <td>0</td>\n",
       "      <td>1</td>\n",
       "    </tr>\n",
       "    <tr>\n",
       "      <th>5654</th>\n",
       "      <td>3</td>\n",
       "      <td>0</td>\n",
       "      <td>2</td>\n",
       "      <td>0</td>\n",
       "      <td>0</td>\n",
       "      <td>1</td>\n",
       "      <td>0</td>\n",
       "    </tr>\n",
       "    <tr>\n",
       "      <th>16122</th>\n",
       "      <td>4</td>\n",
       "      <td>1</td>\n",
       "      <td>0</td>\n",
       "      <td>1</td>\n",
       "      <td>0</td>\n",
       "      <td>2</td>\n",
       "      <td>0</td>\n",
       "    </tr>\n",
       "    <tr>\n",
       "      <th>...</th>\n",
       "      <td>...</td>\n",
       "      <td>...</td>\n",
       "      <td>...</td>\n",
       "      <td>...</td>\n",
       "      <td>...</td>\n",
       "      <td>...</td>\n",
       "      <td>...</td>\n",
       "    </tr>\n",
       "    <tr>\n",
       "      <th>28652</th>\n",
       "      <td>1</td>\n",
       "      <td>2</td>\n",
       "      <td>4</td>\n",
       "      <td>1</td>\n",
       "      <td>0</td>\n",
       "      <td>0</td>\n",
       "      <td>0</td>\n",
       "    </tr>\n",
       "    <tr>\n",
       "      <th>16521</th>\n",
       "      <td>2</td>\n",
       "      <td>2</td>\n",
       "      <td>0</td>\n",
       "      <td>1</td>\n",
       "      <td>0</td>\n",
       "      <td>2</td>\n",
       "      <td>0</td>\n",
       "    </tr>\n",
       "    <tr>\n",
       "      <th>3759</th>\n",
       "      <td>5</td>\n",
       "      <td>1</td>\n",
       "      <td>0</td>\n",
       "      <td>1</td>\n",
       "      <td>1</td>\n",
       "      <td>5</td>\n",
       "      <td>1</td>\n",
       "    </tr>\n",
       "    <tr>\n",
       "      <th>37173</th>\n",
       "      <td>4</td>\n",
       "      <td>2</td>\n",
       "      <td>2</td>\n",
       "      <td>1</td>\n",
       "      <td>0</td>\n",
       "      <td>8</td>\n",
       "      <td>0</td>\n",
       "    </tr>\n",
       "    <tr>\n",
       "      <th>21030</th>\n",
       "      <td>2</td>\n",
       "      <td>1</td>\n",
       "      <td>1</td>\n",
       "      <td>0</td>\n",
       "      <td>0</td>\n",
       "      <td>5</td>\n",
       "      <td>0</td>\n",
       "    </tr>\n",
       "  </tbody>\n",
       "</table>\n",
       "<p>7427 rows × 7 columns</p>\n",
       "</div>"
      ],
      "text/plain": [
       "       x2  x3  x4  x5  x6  x7  x8\n",
       "15316   0   0   0   0   0   0   0\n",
       "26128   1   0   1   1   0   1   1\n",
       "36928   2   0   1   0   0   0   1\n",
       "5654    3   0   2   0   0   1   0\n",
       "16122   4   1   0   1   0   2   0\n",
       "...    ..  ..  ..  ..  ..  ..  ..\n",
       "28652   1   2   4   1   0   0   0\n",
       "16521   2   2   0   1   0   2   0\n",
       "3759    5   1   0   1   1   5   1\n",
       "37173   4   2   2   1   0   8   0\n",
       "21030   2   1   1   0   0   5   0\n",
       "\n",
       "[7427 rows x 7 columns]"
      ]
     },
     "execution_count": 72,
     "metadata": {},
     "output_type": "execute_result"
    }
   ],
   "source": [
    "x_test_cat_tr=transfomed_df_test\n",
    "x_test_cat_tr"
   ]
  },
  {
   "cell_type": "code",
   "execution_count": 73,
   "id": "aa0036ce",
   "metadata": {},
   "outputs": [
    {
     "name": "stdout",
     "output_type": "stream",
     "text": [
      "x_train_tr shape: (7427, 17)\n",
      "y_train shape: (7427,)\n"
     ]
    }
   ],
   "source": [
    "x_test_tr = np.hstack([x_test_num_tr, x_test_cat_tr])\n",
    "y_test = y_test.values;  #convert to numpy array\n",
    "\n",
    "print('x_train_tr shape:', x_test_tr.shape)\n",
    "print('y_train shape:', y_test.shape)"
   ]
  },
  {
   "cell_type": "code",
   "execution_count": 74,
   "id": "7a35d4e2",
   "metadata": {},
   "outputs": [],
   "source": [
    "y_pred_test=best_model.predict(x_test_tr)"
   ]
  },
  {
   "cell_type": "code",
   "execution_count": 75,
   "id": "f3487634",
   "metadata": {},
   "outputs": [
    {
     "name": "stdout",
     "output_type": "stream",
     "text": [
      "Training accuracy:  0.8952\n"
     ]
    }
   ],
   "source": [
    "acc=accuracy_score(y_test, y_pred_test)\n",
    "print(\"Training accuracy: \", round(acc, 4))"
   ]
  },
  {
   "cell_type": "code",
   "execution_count": 79,
   "id": "582592f3",
   "metadata": {},
   "outputs": [],
   "source": [
    "y_pred_test_cv = cross_val_predict(sgd_clf, x_test_tr, y_test, cv=3)"
   ]
  },
  {
   "cell_type": "code",
   "execution_count": 80,
   "id": "d9564028",
   "metadata": {},
   "outputs": [
    {
     "data": {
      "text/plain": [
       "array([[5559, 1004],\n",
       "       [ 371,  493]], dtype=int64)"
      ]
     },
     "execution_count": 80,
     "metadata": {},
     "output_type": "execute_result"
    }
   ],
   "source": [
    "#Compute confusion metrics\n",
    "from sklearn.metrics import confusion_matrix\n",
    "cm_test=confusion_matrix(y_test, y_pred_test_cv)\n",
    "cm_test"
   ]
  },
  {
   "cell_type": "code",
   "execution_count": 81,
   "id": "58641999",
   "metadata": {},
   "outputs": [
    {
     "data": {
      "image/png": "[encoded data removed]",
      "text/plain": [
       "<Figure size 432x288 with 2 Axes>"
      ]
     },
     "metadata": {
      "needs_background": "light"
     },
     "output_type": "display_data"
    }
   ],
   "source": [
    "#Plotting the confusion matrix\n",
    "group_names = ['True Neg','False Pos','False Neg','True Pos']\n",
    "\n",
    "group_counts = [\"{0:0.0f}\".format(value) for value in\n",
    "                cm_test.flatten()]\n",
    "\n",
    "group_percentages = [\"{0:.2%}\".format(value) for value in\n",
    "                     cm_test.flatten()/np.sum(cm)]\n",
    "\n",
    "labels = [f\"{v1}\\n{v2}\\n{v3}\" for v1, v2, v3 in\n",
    "          zip(group_names,group_counts,group_percentages)]\n",
    "\n",
    "labels = np.asarray(labels).reshape(2,2)\n",
    "\n",
    "ax = sns.heatmap(cm, annot=labels, fmt='', cmap='Blues')\n",
    "\n",
    "ax.set_title('Confusion Matrix with labels\\n\\n');\n",
    "ax.set_xlabel('\\nPredicted Values')\n",
    "ax.set_ylabel('Actual Values ');\n",
    "\n",
    "## Ticket labels - List must be in alphabetical order\n",
    "ax.xaxis.set_ticklabels(['False','True'])\n",
    "ax.yaxis.set_ticklabels(['False','True'])\n",
    "\n",
    "## Display the visualization of the Confusion Matrix.\n",
    "plt.show()"
   ]
  },
  {
   "cell_type": "code",
   "execution_count": 86,
   "id": "9df49cb9",
   "metadata": {},
   "outputs": [
    {
     "ename": "TypeError",
     "evalue": "'numpy.float64' object is not callable",
     "output_type": "error",
     "traceback": [
      "\u001b[1;31m---------------------------------------------------------------------------\u001b[0m",
      "\u001b[1;31mTypeError\u001b[0m                                 Traceback (most recent call last)",
      "Input \u001b[1;32mIn [86]\u001b[0m, in \u001b[0;36m<cell line: 3>\u001b[1;34m()\u001b[0m\n\u001b[0;32m      1\u001b[0m precision\u001b[38;5;241m=\u001b[39m\u001b[38;5;28mround\u001b[39m(precision_score(y_test, y_pred_test_cv),\u001b[38;5;241m4\u001b[39m)\n\u001b[0;32m      2\u001b[0m recall\u001b[38;5;241m=\u001b[39m\u001b[38;5;28mround\u001b[39m(recall_score(y_test, y_pred_test_cv),\u001b[38;5;241m4\u001b[39m)\n\u001b[1;32m----> 3\u001b[0m f1_score\u001b[38;5;241m=\u001b[39m\u001b[38;5;28mround\u001b[39m(\u001b[43mf1_score\u001b[49m\u001b[43m(\u001b[49m\u001b[43my_test\u001b[49m\u001b[43m,\u001b[49m\u001b[43m \u001b[49m\u001b[43my_pred_test_cv\u001b[49m\u001b[43m)\u001b[49m,\u001b[38;5;241m4\u001b[39m)\n\u001b[0;32m      4\u001b[0m \u001b[38;5;28mprint\u001b[39m(\u001b[38;5;124m\"\u001b[39m\u001b[38;5;124mPrecision: \u001b[39m\u001b[38;5;124m\"\u001b[39m,precision)\n\u001b[0;32m      5\u001b[0m \u001b[38;5;28mprint\u001b[39m(\u001b[38;5;124m\"\u001b[39m\u001b[38;5;124mRecall: \u001b[39m\u001b[38;5;124m\"\u001b[39m,recall)\n",
      "\u001b[1;31mTypeError\u001b[0m: 'numpy.float64' object is not callable"
     ]
    }
   ],
   "source": [
    "precision=round(precision_score(y_test, y_pred_test_cv),4)\n",
    "recall=round(recall_score(y_test, y_pred_test_cv),4)\n",
    "f1_score=round(f1_score(y_test, y_pred_test_cv),4)\n",
    "print(\"Precision: \",precision)\n",
    "print(\"Recall: \",recall)\n",
    "print(\"F1 score: \", f1_score)"
   ]
  },
  {
   "cell_type": "code",
   "execution_count": null,
   "id": "5f469087",
   "metadata": {},
   "outputs": [],
   "source": []
  }
 ],
 "metadata": {
  "kernelspec": {
   "display_name": "Python 3 (ipykernel)",
   "language": "python",
   "name": "python3"
  },
  "language_info": {
   "codemirror_mode": {
    "name": "ipython",
    "version": 3
   },
   "file_extension": ".py",
   "mimetype": "text/x-python",
   "name": "python",
   "nbconvert_exporter": "python",
   "pygments_lexer": "ipython3",
   "version": "3.9.12"
  }
 },
 "nbformat": 4,
 "nbformat_minor": 5
}
