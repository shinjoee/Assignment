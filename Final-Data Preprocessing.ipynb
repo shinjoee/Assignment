{
 "cells": [
  {
   "cell_type": "markdown",
   "id": "0a42d59c",
   "metadata": {},
   "source": [
    "# Part 2 Data Preprocessing"
   ]
  },
  {
   "cell_type": "markdown",
   "id": "f624f544",
   "metadata": {},
   "source": [
    "# Import libraries"
   ]
  },
  {
   "cell_type": "code",
   "execution_count": 2,
   "id": "216eef8a",
   "metadata": {},
   "outputs": [],
   "source": [
    "import pandas as pd\n",
    "import numpy as np\n",
    "import matplotlib.pyplot as plt\n",
    "import seaborn as sns\n",
    "from sklearn.preprocessing import StandardScaler\n",
    "from imblearn.under_sampling import RandomUnderSampler, TomekLinks\n",
    "from imblearn.over_sampling import RandomOverSampler, SMOTE\n",
    "\n",
    "from sklearn.preprocessing import LabelEncoder\n",
    "from sklearn.preprocessing import LabelBinarizer"
   ]
  },
  {
   "cell_type": "markdown",
   "id": "0090fec1",
   "metadata": {},
   "source": [
    "# Read Data file"
   ]
  },
  {
   "cell_type": "code",
   "execution_count": 3,
   "id": "f2e35156",
   "metadata": {},
   "outputs": [],
   "source": [
    "df = pd.read_csv('dataset.csv') "
   ]
  },
  {
   "cell_type": "markdown",
   "id": "ba607b8e",
   "metadata": {},
   "source": [
    "# Check the number of samples in the dataset"
   ]
  },
  {
   "cell_type": "code",
   "execution_count": 4,
   "id": "162f3e5f",
   "metadata": {},
   "outputs": [
    {
     "name": "stdout",
     "output_type": "stream",
     "text": [
      "The Number of Samples in the dataset:  40000\n",
      "Class 0(FALSE) : 88.72 % of the dataset\n",
      "Class 1(TRUE)  : 11.28 % of the dataset\n"
     ]
    }
   ],
   "source": [
    "print(\"The Number of Samples in the dataset: \", len(df))\n",
    "print('Class 0(FALSE) :', round(df['y'].value_counts()[0]\n",
    "                      /len(df) * 100, 2), '% of the dataset')\n",
    "   \n",
    "print('Class 1(TRUE)  :', round(df['y'].value_counts()[1]\n",
    "                      /len(df) * 100, 2), '% of the dataset')"
   ]
  },
  {
   "cell_type": "markdown",
   "id": "d6a1c548",
   "metadata": {},
   "source": [
    "# Drop the row with missing value "
   ]
  },
  {
   "cell_type": "code",
   "execution_count": 6,
   "id": "80492999",
   "metadata": {},
   "outputs": [],
   "source": [
    "df=df.dropna(axis=0, subset=['x8'])\n",
    "# Making a list of missing value types\n",
    "missing_values = [\"unknown\"]\n",
    "df = pd.read_csv(\"dataset.csv\", na_values = missing_values)\n",
    "df=df.dropna(axis=0, subset=['x8', 'x2', 'x3', 'x4', 'x5', 'x6'])"
   ]
  },
  {
   "cell_type": "markdown",
   "id": "36e80182",
   "metadata": {},
   "source": [
    "# Split features and target data"
   ]
  },
  {
   "cell_type": "code",
   "execution_count": 8,
   "id": "c758f484",
   "metadata": {},
   "outputs": [],
   "source": [
    "x=df.drop('y', axis=1)\n",
    "y=df['y']"
   ]
  },
  {
   "cell_type": "markdown",
   "id": "03b4787b",
   "metadata": {},
   "source": [
    "# Split numerical features and categorical features"
   ]
  },
  {
   "cell_type": "code",
   "execution_count": 9,
   "id": "9d4a0df5",
   "metadata": {},
   "outputs": [],
   "source": [
    "x_num=x.drop(['x2', 'x3','x4', 'x5', 'x6', 'x7', 'x8'], axis=1)\n",
    "x_cat=x[['x2', 'x3','x4', 'x5', 'x6', 'x7', 'x8']]"
   ]
  },
  {
   "cell_type": "markdown",
   "id": "9e6833e3",
   "metadata": {},
   "source": [
    "# Convert categorical features into numerical data using label encoder and one hot encoding"
   ]
  },
  {
   "cell_type": "code",
   "execution_count": 15,
   "id": "63592d47",
   "metadata": {},
   "outputs": [],
   "source": [
    "x_cat_2 = x_cat['x2']\n",
    "x_cat_3 = x_cat['x3']\n",
    "x_cat_4 = x_cat['x4']\n",
    "x_cat_5 = x_cat['x5']\n",
    "x_cat_6 = x_cat['x6']\n",
    "x_cat_7 = x_cat['x7']\n",
    "x_cat_8 = x_cat['x8']\n",
    "\n",
    "#label encoder\n",
    "labelencoder = LabelEncoder()\n",
    "x_cat_4 = labelencoder.fit_transform(x_cat_4)\n",
    "\n",
    "#One hot encoding - Label Binarizer\n",
    "lb_encoder_2 = LabelBinarizer()\n",
    "x_cat_2 = lb_encoder_2.fit_transform(x_cat_2)\n",
    "\n",
    "lb_encoder_3 = LabelBinarizer()\n",
    "x_cat_3 = lb_encoder_3.fit_transform(x_cat_3)\n",
    "\n",
    "lb_encoder_5 = LabelBinarizer()\n",
    "x_cat_5 = lb_encoder_5.fit_transform(x_cat_5)\n",
    "\n",
    "lb_encoder_6 = LabelBinarizer()\n",
    "x_cat_6 = lb_encoder_6.fit_transform(x_cat_6)\n",
    "\n",
    "lb_encoder_7 = LabelBinarizer()\n",
    "x_cat_7 = lb_encoder_7.fit_transform(x_cat_7)\n",
    "\n",
    "lb_encoder_8 = LabelBinarizer()\n",
    "x_cat_8 = lb_encoder_8.fit_transform(x_cat_8)\n",
    "\n",
    "#convert numpy array to categorical array\n",
    "x_cat_4 = pd.DataFrame(x_cat_4)"
   ]
  },
  {
   "cell_type": "markdown",
   "id": "b50d6fcd",
   "metadata": {},
   "source": [
    "# stack all back all processed categorical data"
   ]
  },
  {
   "cell_type": "code",
   "execution_count": 13,
   "id": "cf5754a9",
   "metadata": {},
   "outputs": [],
   "source": [
    "x_cat_tr = np.hstack([x_cat_2, x_cat_3, x_cat_4, x_cat_5, x_cat_6, x_cat_7, x_cat_8])"
   ]
  },
  {
   "cell_type": "markdown",
   "id": "2c9ec479",
   "metadata": {},
   "source": [
    "# stack numerical and categorical data"
   ]
  },
  {
   "cell_type": "code",
   "execution_count": 16,
   "id": "49832796",
   "metadata": {},
   "outputs": [],
   "source": [
    "x_tr = np.hstack([x_num, x_cat_tr])"
   ]
  },
  {
   "cell_type": "markdown",
   "id": "5cd9cb12",
   "metadata": {},
   "source": [
    "# stack back the features and target data"
   ]
  },
  {
   "cell_type": "code",
   "execution_count": 17,
   "id": "725145fb",
   "metadata": {},
   "outputs": [],
   "source": [
    "y = pd.DataFrame(y)\n",
    "df_tr = np.hstack([x_tr, y])\n",
    "df_tr = pd.DataFrame(df_tr)"
   ]
  },
  {
   "cell_type": "markdown",
   "id": "53cf1658",
   "metadata": {},
   "source": [
    "# Separate the output (y) from input (X)\n",
    "### column 39 refer to the output y"
   ]
  },
  {
   "cell_type": "code",
   "execution_count": 18,
   "id": "6a285cb4",
   "metadata": {},
   "outputs": [],
   "source": [
    "x=df_tr.drop(38, axis=1)\n",
    "y=df_tr[38]\n"
   ]
  },
  {
   "cell_type": "markdown",
   "id": "a17bf3e6",
   "metadata": {},
   "source": [
    "# Split test set and training set\n",
    "\n"
   ]
  },
  {
   "cell_type": "code",
   "execution_count": 19,
   "id": "73cebed8",
   "metadata": {},
   "outputs": [],
   "source": [
    "# 20% of dataset is test set and 80% of dataset is training set\n",
    "#random set is set to 30\n",
    "\n",
    "from sklearn.model_selection import train_test_split\n",
    "x_train,x_test,y_train,y_test  = train_test_split(x, y, test_size=0.2, random_state=30)\n"
   ]
  },
  {
   "cell_type": "markdown",
   "id": "dbcc3404",
   "metadata": {},
   "source": [
    "# <--Data Preprocessing for the training set only -->"
   ]
  },
  {
   "cell_type": "code",
   "execution_count": 20,
   "id": "0203966b",
   "metadata": {},
   "outputs": [],
   "source": [
    "#Replacing the missing value with mode of the coloumn value\n",
    "from sklearn.impute import SimpleImputer\n",
    "imputer=SimpleImputer(strategy = 'most_frequent')\n",
    "imputer.fit(x_train)\n",
    "x_train_tr=imputer.transform(x_train)\n",
    "x_train_tr_pd = pd.DataFrame(x_train_tr, columns = x_train.columns)\n",
    "x_train_tr_pd.isnull().sum() #no missing value in numerical after replacement of data\n",
    "\n",
    "#Resize the distribution of values so that the mean of the observed values is 0 and the standard deviation is 1\n",
    "from sklearn.preprocessing import StandardScaler\n",
    "scaler=StandardScaler(copy=False)\n",
    "scaler.fit(x_train_tr_pd)\n",
    "x_train_tr=scaler.transform(x_train_tr_pd)\n",
    "x_train_tr\n",
    "\n",
    "#Combine the features and target value into a dataframe\n",
    "y_train= pd.DataFrame(y_train)\n",
    "df_train_tr = np.hstack([x_train_tr, y_train])\n",
    "df_train_tr=pd.DataFrame(df_train_tr)"
   ]
  },
  {
   "cell_type": "markdown",
   "id": "2e64f65d",
   "metadata": {},
   "source": [
    "# Resampling method - Random Over Sampler"
   ]
  },
  {
   "cell_type": "code",
   "execution_count": null,
   "id": "07e7555b",
   "metadata": {},
   "outputs": [],
   "source": [
    "X_data = df_train_tr.iloc[:, :-1]\n",
    "Y_data = df_train_tr.iloc[:, -1:]\n",
    "\n",
    "ros = RandomOverSampler(random_state = 42)\n",
    "   \n",
    "X_res, y_res = ros.fit_resample(X_data, Y_data)\n",
    "   \n",
    "X_res = pd.DataFrame(X_res)\n",
    "Y_res = pd.DataFrame(y_res)\n",
    "   \n",
    "   \n",
    "print(\"After Over Sampling Of Minor Class Total Samples are :\", len(Y_res))\n",
    "print('Class 0        :', round(Y_res[38].value_counts()[0]/len(Y_res) * 100, 2), '% of the dataset')\n",
    "   \n",
    "print('Class 1(Fraud) :', round(Y_res[38].value_counts()[1]/len(Y_res) * 100, 2), '% of the dataset')"
   ]
  },
  {
   "cell_type": "code",
   "execution_count": 23,
   "id": "08dc8fa8",
   "metadata": {},
   "outputs": [],
   "source": [
    "#Dataframe after resampling\n",
    "df_train_tr_ros = np.hstack([X_res, Y_res])\n",
    "df_train_tr_ros = pd.DataFrame(df_train_tr_ros)"
   ]
  },
  {
   "cell_type": "code",
   "execution_count": 24,
   "id": "127d2932",
   "metadata": {},
   "outputs": [
    {
     "data": {
      "text/plain": [
       "0        0.0\n",
       "1        0.0\n",
       "2        0.0\n",
       "3        0.0\n",
       "4        0.0\n",
       "        ... \n",
       "52853    1.0\n",
       "52854    1.0\n",
       "52855    1.0\n",
       "52856    1.0\n",
       "52857    1.0\n",
       "Name: 38, Length: 52858, dtype: float64"
      ]
     },
     "execution_count": 24,
     "metadata": {},
     "output_type": "execute_result"
    }
   ],
   "source": [
    "#Separate the output (y) from input (X)\n",
    "#y refer to classes\n",
    "x_train=df_train_tr_ros.drop(38, axis=1)\n",
    "y_train=df_train_tr_ros[38]\n",
    "y_train"
   ]
  },
  {
   "cell_type": "markdown",
   "id": "800209ee",
   "metadata": {},
   "source": [
    "# Continue in Part 3 "
   ]
  }
 ],
 "metadata": {
  "kernelspec": {
   "display_name": "Python 3 (ipykernel)",
   "language": "python",
   "name": "python3"
  },
  "language_info": {
   "codemirror_mode": {
    "name": "ipython",
    "version": 3
   },
   "file_extension": ".py",
   "mimetype": "text/x-python",
   "name": "python",
   "nbconvert_exporter": "python",
   "pygments_lexer": "ipython3",
   "version": "3.9.12"
  }
 },
 "nbformat": 4,
 "nbformat_minor": 5
}
